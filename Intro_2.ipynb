{
 "cells": [
  {
   "cell_type": "markdown",
   "metadata": {
    "id": "9DgOwBXTWtwU"
   },
   "source": [
    "# Introduction to Python : NumPy (multidimensional data arrays)\n",
    "\n",
    "An introductory-to-Python notebook for the purposes of the course \"Numerical Analysis\" (Prof. Nikolaos Stergioulas) at Aristotle University of Thessaloniki (AUTh). \n",
    "\n",
    "A first version lives in [v1.0@2021](https://github.com/sfragkoul/Python_Intro) (based on \"Introduction to Scientific Computing in Python\" by Robert Johansson).\n",
    "\n",
    "Notebook by Argyro Sasli, March 2022"
   ]
  },
  {
   "cell_type": "markdown",
   "metadata": {
    "id": "-r5lMc1SzSjV"
   },
   "source": [
    "## About NumPy\n",
    "\n",
    "- [NumPy](https://numpy.org/) is a Python library (package) used for working with arrays. \n",
    "\n",
    "\n",
    "- **NumPy** stands for **Num**erical **Py**thon.\n",
    "\n",
    "\n",
    "- It has functions for working in domain of linear algebra, fourier transform, and matrices.\n",
    "\n",
    "\n",
    "- It offers comprehensive mathematical functions, random number generators, linear algebra routines, Fourier transforms, and more.\n",
    "\n",
    "\n",
    "- It is written partially in Python, but most of the parts that require fast computation are written in C or C++.\n",
    "\n",
    "\n",
    "- NumPy was created in 2005 by Travis Oliphant. It is an open source project and you can use it freely.\n",
    "\n",
    "### Why NumPy?\n",
    "\n",
    "NumPy aims to provide an **array** object that is up to 50x faster than traditional Python lists.\n",
    "\n",
    "The array object in NumPy is called ```ndarray```, it provides a lot of supporting functions that make working with ndarray very easy."
   ]
  },
  {
   "cell_type": "code",
   "execution_count": 1,
   "metadata": {
    "id": "tIRYqM0XypvR"
   },
   "outputs": [],
   "source": [
    "#NumPy is usually imported under the np alias\n",
    "import numpy as np"
   ]
  },
  {
   "cell_type": "markdown",
   "metadata": {
    "id": "lRL96cQozAQJ"
   },
   "source": [
    "## Creating NumPy arrays"
   ]
  },
  {
   "cell_type": "markdown",
   "metadata": {
    "id": "3RMzC2ehw5Qm"
   },
   "source": [
    "There are a number of ways to initialize new numpy arrays, for example from\n",
    "\n",
    "• a Python list or tuples\n",
    "\n",
    "• using functions that are dedicated to generating numpy arrays, such as arange, linspace, etc.\n",
    "\n",
    "• reading data from files"
   ]
  },
  {
   "cell_type": "markdown",
   "metadata": {},
   "source": [
    "### 0-D Arrays\n",
    "0-D arrays, or Scalars, are the elements in an array"
   ]
  },
  {
   "cell_type": "code",
   "execution_count": null,
   "metadata": {},
   "outputs": [],
   "source": [
    "arr = np.array(42)\n",
    "\n",
    "print(arr)"
   ]
  },
  {
   "cell_type": "markdown",
   "metadata": {},
   "source": [
    "### 1-D Arrays\n",
    "1-D arrays, or vectors, can be created using a Python list or tuple"
   ]
  },
  {
   "cell_type": "code",
   "execution_count": null,
   "metadata": {
    "colab": {
     "base_uri": "https://localhost:8080/"
    },
    "id": "4L9G5VMEzvmV",
    "outputId": "f5332146-69c8-4d15-ff32-94c7943e3a36"
   },
   "outputs": [],
   "source": [
    "# a vector: the argument to the array function is a Python list\n",
    "vl = np.array([1,2,3,4]) # is a single dimensional array of 4 elements\n",
    "print(vl,type(vl))\n",
    "vl.shape"
   ]
  },
  {
   "cell_type": "code",
   "execution_count": null,
   "metadata": {},
   "outputs": [],
   "source": [
    "# a vector: the argument to the array function is a Python tuple\n",
    "vt = np.array((1, 2, 3, 4, 5))\n",
    "print(vt)"
   ]
  },
  {
   "cell_type": "markdown",
   "metadata": {},
   "source": [
    "### Higher Dimensional Arrays (N-D Arrays)\n",
    "\n",
    "An array can have any number of dimensions."
   ]
  },
  {
   "cell_type": "markdown",
   "metadata": {},
   "source": [
    "#### 2-D Array"
   ]
  },
  {
   "cell_type": "code",
   "execution_count": null,
   "metadata": {
    "colab": {
     "base_uri": "https://localhost:8080/"
    },
    "id": "QE6UMhJEzvok",
    "outputId": "86762520-f983-4ed2-f21f-43756b07c1db"
   },
   "outputs": [],
   "source": [
    "# a matrix: the argument to the array function is a nested Python list\n",
    "M = np.array([[1, 2, 3, 0], [4, 5, 6, 0], [7, 8, 9, 0]]) #is a two - dimensional array which is composed of 3 single dimensional arrays\n",
    "print(M,type(M))"
   ]
  },
  {
   "cell_type": "markdown",
   "metadata": {},
   "source": [
    "**indexing**"
   ]
  },
  {
   "cell_type": "code",
   "execution_count": null,
   "metadata": {},
   "outputs": [],
   "source": [
    "print('1st-row elements: ', M[0])"
   ]
  },
  {
   "cell_type": "code",
   "execution_count": null,
   "metadata": {},
   "outputs": [],
   "source": [
    "print('2nd element on 1st row: ', M[0, 1])"
   ]
  },
  {
   "cell_type": "markdown",
   "metadata": {},
   "source": [
    "**slicing**"
   ]
  },
  {
   "cell_type": "code",
   "execution_count": null,
   "metadata": {},
   "outputs": [],
   "source": [
    "M[1,1:3]"
   ]
  },
  {
   "cell_type": "code",
   "execution_count": null,
   "metadata": {},
   "outputs": [],
   "source": [
    "M[1][1:3] #remember the list slicing"
   ]
  },
  {
   "cell_type": "code",
   "execution_count": null,
   "metadata": {},
   "outputs": [],
   "source": [
    "# a block from the original array\n",
    "M[1:3, 1:3]"
   ]
  },
  {
   "cell_type": "markdown",
   "metadata": {},
   "source": [
    "**strides**"
   ]
  },
  {
   "cell_type": "code",
   "execution_count": null,
   "metadata": {},
   "outputs": [],
   "source": [
    "M[::2, ::2]"
   ]
  },
  {
   "cell_type": "markdown",
   "metadata": {},
   "source": [
    "[Numpy shape() documentation](https://numpy.org/doc/stable/reference/generated/numpy.shape.html)"
   ]
  },
  {
   "cell_type": "code",
   "execution_count": null,
   "metadata": {},
   "outputs": [],
   "source": [
    "M.shape # same as np.shape(M)"
   ]
  },
  {
   "cell_type": "markdown",
   "metadata": {},
   "source": [
    "**dimensions**"
   ]
  },
  {
   "cell_type": "code",
   "execution_count": null,
   "metadata": {},
   "outputs": [],
   "source": [
    "print('number of dimensions :', M.ndim)"
   ]
  },
  {
   "cell_type": "markdown",
   "metadata": {},
   "source": [
    "When the array is created, you can define the number of dimensions by using the ndmin argument."
   ]
  },
  {
   "cell_type": "code",
   "execution_count": null,
   "metadata": {},
   "outputs": [],
   "source": [
    "arr = np.array([1, 2, 3, 4], ndmin=5)\n",
    "\n",
    "print(arr)"
   ]
  },
  {
   "cell_type": "code",
   "execution_count": null,
   "metadata": {
    "colab": {
     "base_uri": "https://localhost:8080/"
    },
    "id": "SUBe04Ugzvq5",
    "outputId": "6f140818-3690-4351-c4ce-69d15eccfa1d"
   },
   "outputs": [],
   "source": [
    "print('number of elements :', M.size)"
   ]
  },
  {
   "cell_type": "markdown",
   "metadata": {
    "id": "gSjj-cRUzT3m"
   },
   "source": [
    "**Why not simply use Python lists for computations instead of creating a new array type?**"
   ]
  },
  {
   "cell_type": "markdown",
   "metadata": {},
   "source": [
    "• Python *lists* are very *general*. They can contain any kind of object. They do not support mathematical functions such as matrix and dot multiplications, etc."
   ]
  },
  {
   "cell_type": "code",
   "execution_count": null,
   "metadata": {},
   "outputs": [],
   "source": [
    "print('the data type is :', M.dtype)"
   ]
  },
  {
   "cell_type": "code",
   "execution_count": null,
   "metadata": {
    "id": "j4sQaXEg4m6t"
   },
   "outputs": [],
   "source": [
    "#We get an error if we try to assign a value of the wrong type to an element in a numpy array\n",
    "M[0,0] = \"hello\""
   ]
  },
  {
   "cell_type": "markdown",
   "metadata": {},
   "source": [
    "• NumPy arrays are **mutable** (creating immutbale arrays: [stackoverflow](https://stackoverflow.com/questions/5541324/immutable-numpy-array)) and memory efficient."
   ]
  },
  {
   "cell_type": "code",
   "execution_count": null,
   "metadata": {},
   "outputs": [],
   "source": [
    "M[0,0] = 10.0\n",
    "print(M)"
   ]
  },
  {
   "cell_type": "code",
   "execution_count": null,
   "metadata": {
    "colab": {
     "base_uri": "https://localhost:8080/"
    },
    "id": "WM32N9dA4m9A",
    "outputId": "82e54455-5eca-43a6-99fa-5e6ab6c6a442"
   },
   "outputs": [],
   "source": [
    "# we can explicitly define the type of the array data when we create it, using the dtype keyword argument:\n",
    "M = np.array([[1, 2], [3, 4]], dtype=complex)\n",
    "print(M)\n",
    "\n",
    "#We can also explicitly define the bit size of the data types, for example: int16, float64, complex128"
   ]
  },
  {
   "cell_type": "markdown",
   "metadata": {},
   "source": [
    "### Generating arrays"
   ]
  },
  {
   "cell_type": "markdown",
   "metadata": {},
   "source": [
    "```np.arange(start, stop, step)``` : The *last* element **is not** equal to the *stop* value"
   ]
  },
  {
   "cell_type": "code",
   "execution_count": null,
   "metadata": {
    "colab": {
     "base_uri": "https://localhost:8080/"
    },
    "id": "Q7ayFE7u4m_r",
    "outputId": "9f3154ff-ae54-436e-b257-e8f251a920af"
   },
   "outputs": [],
   "source": [
    "x = np.arange(0, 10, 1) # arguments: start, stop, step\n",
    "x\n",
    "#x.shape"
   ]
  },
  {
   "cell_type": "code",
   "execution_count": null,
   "metadata": {
    "colab": {
     "base_uri": "https://localhost:8080/"
    },
    "id": "V-8laUaX4nBt",
    "outputId": "50696225-c22a-42c3-a127-e2cf1ea2070c"
   },
   "outputs": [],
   "source": [
    "x = np.arange(-1, 1, 0.1)\n",
    "x"
   ]
  },
  {
   "cell_type": "markdown",
   "metadata": {},
   "source": [
    "```np.linspace(start, stop, num)``` : Both end points are **included**"
   ]
  },
  {
   "cell_type": "code",
   "execution_count": null,
   "metadata": {
    "colab": {
     "base_uri": "https://localhost:8080/"
    },
    "id": "8XJMCMvC7EEM",
    "outputId": "6dfb9f33-ea95-4d0b-c2a9-af1deb1803d4"
   },
   "outputs": [],
   "source": [
    "# using linspace, *both end points ARE included*!!!\n",
    "np.linspace(0, 10, 25) #(start, stop, num=50)"
   ]
  },
  {
   "cell_type": "markdown",
   "metadata": {},
   "source": [
    "**Numbers spaced evenly on a log scale**"
   ]
  },
  {
   "cell_type": "code",
   "execution_count": null,
   "metadata": {
    "colab": {
     "base_uri": "https://localhost:8080/"
    },
    "id": "_CoBEc8B7EGj",
    "outputId": "4dd4b90e-02a6-4fd1-e79c-212309e9aa18"
   },
   "outputs": [],
   "source": [
    "np.logspace(0, 10, 10, base=np.e)"
   ]
  },
  {
   "cell_type": "markdown",
   "metadata": {},
   "source": [
    "**mesh-grid**"
   ]
  },
  {
   "cell_type": "code",
   "execution_count": null,
   "metadata": {
    "colab": {
     "base_uri": "https://localhost:8080/"
    },
    "id": "J-iCNCW0_LtR",
    "outputId": "f7480c6a-b445-4448-a43e-b65a0f54c441"
   },
   "outputs": [],
   "source": [
    "x, y = np.mgrid[0:5, 0:5]\n",
    "x"
   ]
  },
  {
   "cell_type": "code",
   "execution_count": null,
   "metadata": {
    "colab": {
     "base_uri": "https://localhost:8080/"
    },
    "id": "6Zy8ljFtAldB",
    "outputId": "8449a14e-2495-4e9c-ce60-f92105b3ac83"
   },
   "outputs": [],
   "source": [
    "y"
   ]
  },
  {
   "cell_type": "markdown",
   "metadata": {},
   "source": [
    "**Random** numbers"
   ]
  },
  {
   "cell_type": "code",
   "execution_count": null,
   "metadata": {},
   "outputs": [],
   "source": [
    "from numpy import random"
   ]
  },
  {
   "cell_type": "code",
   "execution_count": null,
   "metadata": {
    "colab": {
     "base_uri": "https://localhost:8080/"
    },
    "id": "a9g2iRtFD6Pp",
    "outputId": "45a4c361-ad67-4b3d-e80d-d5b7f22c4bf3"
   },
   "outputs": [],
   "source": [
    "# uniform random numbers in [0,1]\n",
    "random.rand(5,5)"
   ]
  },
  {
   "cell_type": "code",
   "execution_count": null,
   "metadata": {
    "colab": {
     "base_uri": "https://localhost:8080/"
    },
    "id": "3RetFvFcD6S8",
    "outputId": "0d7e13cc-4d7f-41ba-f4ea-ede228e9fa60"
   },
   "outputs": [],
   "source": [
    "# standard normal distributed random numbers\n",
    "random.randn(5,5)"
   ]
  },
  {
   "cell_type": "markdown",
   "metadata": {},
   "source": [
    "Array of given shape and type, **filled with zeros** "
   ]
  },
  {
   "cell_type": "code",
   "execution_count": null,
   "metadata": {},
   "outputs": [],
   "source": [
    "np.zeros((3,4))"
   ]
  },
  {
   "cell_type": "markdown",
   "metadata": {},
   "source": [
    "Array of given shape and type, **filled with ones** "
   ]
  },
  {
   "cell_type": "code",
   "execution_count": null,
   "metadata": {},
   "outputs": [],
   "source": [
    "np.ones((3,3))"
   ]
  },
  {
   "cell_type": "markdown",
   "metadata": {},
   "source": [
    "**Matrix MxN using for loops**"
   ]
  },
  {
   "cell_type": "code",
   "execution_count": null,
   "metadata": {},
   "outputs": [],
   "source": [
    "A = np.array([[m+n*10 for n in range(5)] for m in range(4)])\n",
    "A"
   ]
  },
  {
   "cell_type": "markdown",
   "metadata": {},
   "source": [
    "#### Diagonal Matrix"
   ]
  },
  {
   "cell_type": "code",
   "execution_count": null,
   "metadata": {
    "colab": {
     "base_uri": "https://localhost:8080/"
    },
    "id": "_hihfB9KD6U5",
    "outputId": "aafa4733-ff7f-4bc9-c719-bcb90aab06e5"
   },
   "outputs": [],
   "source": [
    "# a diagonal matrix\n",
    "np.diag([1,2,3])"
   ]
  },
  {
   "cell_type": "code",
   "execution_count": null,
   "metadata": {
    "colab": {
     "base_uri": "https://localhost:8080/"
    },
    "id": "y14pZV0wD6XB",
    "outputId": "47c0d165-2150-43c7-de31-e82d47e167b4"
   },
   "outputs": [],
   "source": [
    "# diagonal with offset from the main diagonal\n",
    "np.diag([1,2,1], k=1)"
   ]
  },
  {
   "cell_type": "code",
   "execution_count": null,
   "metadata": {},
   "outputs": [],
   "source": [
    "M=np.eye(6)\n",
    "M"
   ]
  },
  {
   "cell_type": "markdown",
   "metadata": {
    "id": "LoJUixjNGuK6"
   },
   "source": [
    "## Numpy's native file format"
   ]
  },
  {
   "cell_type": "code",
   "execution_count": null,
   "metadata": {
    "id": "FNbEFH9aGO5h"
   },
   "outputs": [],
   "source": [
    "np.save(\"eye-matrix.npy\", M)"
   ]
  },
  {
   "cell_type": "code",
   "execution_count": null,
   "metadata": {
    "colab": {
     "base_uri": "https://localhost:8080/"
    },
    "id": "XrH06PHdGbGX",
    "outputId": "c55c3371-4df6-4ae0-a928-13c1577f07b6"
   },
   "outputs": [],
   "source": [
    "np.load(\"eye-matrix.npy\")"
   ]
  },
  {
   "cell_type": "markdown",
   "metadata": {
    "id": "qkZ1kVUyG8Yg"
   },
   "source": [
    "## Manipulating arrays"
   ]
  },
  {
   "cell_type": "code",
   "execution_count": 2,
   "metadata": {
    "colab": {
     "base_uri": "https://localhost:8080/"
    },
    "id": "X5Ow-pBqG77i",
    "outputId": "4673ad6e-e32f-4407-e1fb-4f5bb7bcac29"
   },
   "outputs": [
    {
     "name": "stdout",
     "output_type": "stream",
     "text": [
      "[[1 2]\n",
      " [3 4]\n",
      " [5 6]]\n"
     ]
    }
   ],
   "source": [
    "M = np.array([[1, 2], [3, 4], [5, 6]])\n",
    "print(M)"
   ]
  },
  {
   "cell_type": "code",
   "execution_count": null,
   "metadata": {
    "colab": {
     "base_uri": "https://localhost:8080/"
    },
    "id": "BpTiHH3AITuV",
    "outputId": "8d4b1ac3-eaf7-46d7-dce8-11f9f7db4d57"
   },
   "outputs": [],
   "source": [
    "#Slicing works for rows and columns\n",
    "M[1,:] = 0\n",
    "M[:,1] = -1\n",
    "M"
   ]
  },
  {
   "cell_type": "code",
   "execution_count": 3,
   "metadata": {
    "colab": {
     "base_uri": "https://localhost:8080/"
    },
    "id": "0vgimRacL78W",
    "outputId": "8e647e7c-fbed-4127-b364-b57c2fbf0782"
   },
   "outputs": [
    {
     "data": {
      "text/plain": [
       "array([1, 2, 3, 4, 5])"
      ]
     },
     "execution_count": 3,
     "metadata": {},
     "output_type": "execute_result"
    }
   ],
   "source": [
    "A = np.array([1,2,3,4,5])\n",
    "A"
   ]
  },
  {
   "cell_type": "code",
   "execution_count": null,
   "metadata": {
    "colab": {
     "base_uri": "https://localhost:8080/"
    },
    "id": "r9_zaJlxL8ZN",
    "outputId": "caca7952-9de7-4786-cd67-d1ff178ddde7"
   },
   "outputs": [],
   "source": [
    "# Array slices are mutable: if they are assigned a new value the original array is modified\n",
    "A[1:3] = [-2,-3]\n",
    "A"
   ]
  },
  {
   "cell_type": "markdown",
   "metadata": {},
   "source": [
    "**Append** values\n",
    "```np.append(arr,values)```"
   ]
  },
  {
   "cell_type": "code",
   "execution_count": 4,
   "metadata": {},
   "outputs": [
    {
     "data": {
      "text/plain": [
       "array([1, 2, 3, 4, 5, 6])"
      ]
     },
     "execution_count": 4,
     "metadata": {},
     "output_type": "execute_result"
    }
   ],
   "source": [
    "np.append(A,6)"
   ]
  },
  {
   "cell_type": "code",
   "execution_count": 5,
   "metadata": {},
   "outputs": [
    {
     "data": {
      "text/plain": [
       "array([1, 2, 3, 4, 5])"
      ]
     },
     "execution_count": 5,
     "metadata": {},
     "output_type": "execute_result"
    }
   ],
   "source": [
    "A"
   ]
  },
  {
   "cell_type": "code",
   "execution_count": 7,
   "metadata": {},
   "outputs": [],
   "source": [
    "B = np.append(A,[6,7,8])"
   ]
  },
  {
   "cell_type": "markdown",
   "metadata": {},
   "source": [
    "**Delete** values ```np.delete(arr,obj)```"
   ]
  },
  {
   "cell_type": "code",
   "execution_count": 10,
   "metadata": {},
   "outputs": [
    {
     "data": {
      "text/plain": [
       "array([1, 2, 3, 4, 5, 6])"
      ]
     },
     "execution_count": 10,
     "metadata": {},
     "output_type": "execute_result"
    }
   ],
   "source": [
    "np.delete(B,B[-3:-1])"
   ]
  },
  {
   "cell_type": "markdown",
   "metadata": {},
   "source": [
    "### NumPy Array Masking\n",
    "\n",
    "A **masked array** is the combination of a standard ```numpy.ndarray``` and a *mask*. A **mask** is either *nomask*, indicating that no value of the associated array is invalid, or an <font color='red'>array of booleans</font> that determines for each element of the associated array <font color='red'> whether the value is valid or not </font>. "
   ]
  },
  {
   "cell_type": "markdown",
   "metadata": {
    "id": "zdKNVEVkc4T3"
   },
   "source": [
    "- If the **index mask** is an NumPy array of data type *bool*, then an element is selected (True) or not (False) depending on the value of the index mask at the position of each element"
   ]
  },
  {
   "cell_type": "code",
   "execution_count": null,
   "metadata": {
    "colab": {
     "base_uri": "https://localhost:8080/"
    },
    "id": "EdJw6MVCcz0k",
    "outputId": "99b578e7-4bd4-46bc-a322-e6ba10d72ad0"
   },
   "outputs": [],
   "source": [
    "B = np.array([n for n in range(5)])\n",
    "B"
   ]
  },
  {
   "cell_type": "code",
   "execution_count": null,
   "metadata": {
    "colab": {
     "base_uri": "https://localhost:8080/"
    },
    "id": "Rb7EB21xc0Bf",
    "outputId": "3a2372bd-d300-418d-b495-772a8cd97d5b"
   },
   "outputs": [],
   "source": [
    "row_mask = np.array([True, False, True, False, False])\n",
    "B[row_mask]"
   ]
  },
  {
   "cell_type": "code",
   "execution_count": null,
   "metadata": {},
   "outputs": [],
   "source": [
    "# same thing\n",
    "row_mask = np.array([1,0,1,0,0], dtype=bool)\n",
    "B[row_mask]"
   ]
  },
  {
   "cell_type": "markdown",
   "metadata": {},
   "source": [
    "Someone can conditionally select elements from an array, using for example **comparison operators**"
   ]
  },
  {
   "cell_type": "code",
   "execution_count": null,
   "metadata": {
    "colab": {
     "base_uri": "https://localhost:8080/"
    },
    "id": "c639y83bc0JE",
    "outputId": "13274f78-b302-4acc-a4b0-0d4692c2367e"
   },
   "outputs": [],
   "source": [
    "x = np.arange(0, 10, 0.5)\n",
    "x"
   ]
  },
  {
   "cell_type": "code",
   "execution_count": null,
   "metadata": {
    "colab": {
     "base_uri": "https://localhost:8080/"
    },
    "id": "9k01FR0_fEBY",
    "outputId": "a7195929-c9bc-49ce-e7b2-cb01b9a78d7b"
   },
   "outputs": [],
   "source": [
    "mask = (5 < x) * (x < 7.5)\n",
    "mask"
   ]
  },
  {
   "cell_type": "markdown",
   "metadata": {
    "id": "TQspYmE99Pk7"
   },
   "source": [
    "- **fancy indexing**: it means passing an array of indices to access multiple array elements at once"
   ]
  },
  {
   "cell_type": "code",
   "execution_count": null,
   "metadata": {
    "colab": {
     "base_uri": "https://localhost:8080/"
    },
    "id": "sifBYQw7fEDs",
    "outputId": "a2aff684-bc9c-4ceb-9475-e0bbb206b66c"
   },
   "outputs": [],
   "source": [
    "x[mask] #fancy indexing"
   ]
  },
  {
   "cell_type": "markdown",
   "metadata": {
    "id": "QJOml4oCgrZZ"
   },
   "source": [
    "## Functions for extracting data from arrays and creating arrays"
   ]
  },
  {
   "cell_type": "markdown",
   "metadata": {
    "id": "J2hcteohguhO"
   },
   "source": [
    "```Ruby\n",
    "np.where(condition)\n",
    "```\n",
    "\n",
    "The *index mask* can be converted to *position index* using the ```where``` function"
   ]
  },
  {
   "cell_type": "code",
   "execution_count": null,
   "metadata": {
    "colab": {
     "base_uri": "https://localhost:8080/"
    },
    "id": "p0cIZlI1fEG9",
    "outputId": "1afa5000-9e7a-4a1e-a067-f6ed95ca2805"
   },
   "outputs": [],
   "source": [
    "indices = np.where(mask) #tells us where this is true\n",
    "indices"
   ]
  },
  {
   "cell_type": "code",
   "execution_count": null,
   "metadata": {
    "colab": {
     "base_uri": "https://localhost:8080/"
    },
    "id": "k2p7yALGfEJW",
    "outputId": "f63c98da-4983-41c4-ac36-cf7004cc39c5"
   },
   "outputs": [],
   "source": [
    "x[indices]"
   ]
  },
  {
   "cell_type": "markdown",
   "metadata": {
    "id": "b8A_HX7bhguB"
   },
   "source": [
    "```Ruby\n",
    "np.diag(array, k)\n",
    "```\n",
    "With the ```diag``` function we can also extract the diagonal (k=0 by default) and subdiagonals of an array"
   ]
  },
  {
   "cell_type": "code",
   "execution_count": null,
   "metadata": {
    "colab": {
     "base_uri": "https://localhost:8080/"
    },
    "id": "hRY0AwkpfELT",
    "outputId": "cc58858a-6a47-4f03-a3ff-16e710827f37"
   },
   "outputs": [],
   "source": [
    "A = np.array([[m+n*10 for n in range(5)] for m in range(5)]) # like before\n",
    "A"
   ]
  },
  {
   "cell_type": "code",
   "execution_count": null,
   "metadata": {},
   "outputs": [],
   "source": [
    "np.diag(A)"
   ]
  },
  {
   "cell_type": "code",
   "execution_count": null,
   "metadata": {
    "colab": {
     "base_uri": "https://localhost:8080/"
    },
    "id": "wH6C2j6hfEN4",
    "outputId": "aa8aa035-6fdc-454e-b6b2-33da4f716321"
   },
   "outputs": [],
   "source": [
    "np.diag(A, -2)"
   ]
  },
  {
   "cell_type": "code",
   "execution_count": null,
   "metadata": {},
   "outputs": [],
   "source": [
    "np.diag(A, 1)"
   ]
  },
  {
   "cell_type": "markdown",
   "metadata": {
    "id": "E6phAQciip0B"
   },
   "source": [
    "## Linear algebra\n",
    "\n",
    "Vectorizing code is the key to writing eficient numerical calculation with Python/Numpy. That means\n",
    "that as much as possible of a program should be formulated in terms of matrix and vector operations, like\n",
    "matrix-matrix multiplication."
   ]
  },
  {
   "cell_type": "code",
   "execution_count": null,
   "metadata": {
    "id": "bUcluPYBfEPx"
   },
   "outputs": [],
   "source": [
    "#Scalar-array operations\n",
    "v1 = np.arange(0, 5)\n",
    "v2=v1 * 2"
   ]
  },
  {
   "cell_type": "code",
   "execution_count": null,
   "metadata": {
    "colab": {
     "base_uri": "https://localhost:8080/"
    },
    "id": "TG0epzGvm2XI",
    "outputId": "bc0de6a8-8480-4176-a6ec-1d11cab31419"
   },
   "outputs": [],
   "source": [
    "A"
   ]
  },
  {
   "cell_type": "markdown",
   "metadata": {},
   "source": [
    "**Transposed array**\n",
    "```Ruby\n",
    "array.T or np.transpose(array)\n",
    "```\n",
    "By defining an ```np.array```, the **attribute** ```.T``` (or ```np.transpose(array)```)gives the transposed of the array"
   ]
  },
  {
   "cell_type": "code",
   "execution_count": null,
   "metadata": {},
   "outputs": [],
   "source": [
    "A.T"
   ]
  },
  {
   "cell_type": "code",
   "execution_count": null,
   "metadata": {},
   "outputs": [],
   "source": [
    "np.transpose(A)"
   ]
  },
  {
   "cell_type": "markdown",
   "metadata": {},
   "source": [
    "**Element-wise multiplication**"
   ]
  },
  {
   "cell_type": "code",
   "execution_count": null,
   "metadata": {
    "colab": {
     "base_uri": "https://localhost:8080/"
    },
    "id": "Qv-JdeS4iwdR",
    "outputId": "01c0d3d4-94ce-44e1-fa34-039e7826046a"
   },
   "outputs": [],
   "source": [
    "A * A"
   ]
  },
  {
   "cell_type": "code",
   "execution_count": null,
   "metadata": {
    "colab": {
     "base_uri": "https://localhost:8080/"
    },
    "id": "dxV3Oin0iwfx",
    "outputId": "0bbf91a4-8b9d-473d-bcde-64127d28241c"
   },
   "outputs": [],
   "source": [
    "v1 * v1"
   ]
  },
  {
   "cell_type": "markdown",
   "metadata": {},
   "source": [
    "If we multiply arrays with compatible shapes, we get an element-wise multiplication of each row"
   ]
  },
  {
   "cell_type": "code",
   "execution_count": null,
   "metadata": {
    "colab": {
     "base_uri": "https://localhost:8080/"
    },
    "id": "x6Av1DF-iwiV",
    "outputId": "18de3861-a090-4d19-dd14-df2aaccfe623"
   },
   "outputs": [],
   "source": [
    "A.shape, v1.shape"
   ]
  },
  {
   "cell_type": "code",
   "execution_count": null,
   "metadata": {
    "colab": {
     "base_uri": "https://localhost:8080/"
    },
    "id": "j_SYZXDciwkU",
    "outputId": "c3901ec3-b3eb-4423-993c-124a6836ede9"
   },
   "outputs": [],
   "source": [
    "A * v1"
   ]
  },
  {
   "cell_type": "markdown",
   "metadata": {},
   "source": [
    "**Matrix Mutiplication**"
   ]
  },
  {
   "cell_type": "code",
   "execution_count": null,
   "metadata": {
    "colab": {
     "base_uri": "https://localhost:8080/"
    },
    "id": "TDO-FCZLiwmu",
    "outputId": "2599019c-5a0d-4632-e457-12415b12d990"
   },
   "outputs": [],
   "source": [
    "np.dot(A, A)"
   ]
  },
  {
   "cell_type": "code",
   "execution_count": null,
   "metadata": {
    "colab": {
     "base_uri": "https://localhost:8080/"
    },
    "id": "dvH5qPdsmzAH",
    "outputId": "b727beee-a067-47d8-efa2-56b03cc38462"
   },
   "outputs": [],
   "source": [
    "np.dot(A, v1)"
   ]
  },
  {
   "cell_type": "markdown",
   "metadata": {},
   "source": [
    "### Matrix function\n",
    "```Ruby\n",
    "np.matrix(array)\n",
    "```\n",
    "Returns a matrix from an array-like object, or from a string of data. A matrix is a specialized 2-D array that **retains its 2-D nature through operations**. It has certain special operators, such as <font color='green'> * (matrix multiplication)</font> and <font color='green'> ** (matrix power)</font>."
   ]
  },
  {
   "cell_type": "code",
   "execution_count": null,
   "metadata": {
    "colab": {
     "base_uri": "https://localhost:8080/"
    },
    "id": "OXQ3me8onMEh",
    "outputId": "5a5d7d92-ffe4-464e-f4d3-9cd6bf12de1f"
   },
   "outputs": [],
   "source": [
    "M = np.matrix(A)\n",
    "v = np.matrix(v1)\n",
    "v.shape"
   ]
  },
  {
   "cell_type": "markdown",
   "metadata": {},
   "source": [
    "Be aware of incomplatible shapes!!! If we try to add, subtract or multiply objects with incomplatible shapes we get an error"
   ]
  },
  {
   "cell_type": "code",
   "execution_count": null,
   "metadata": {},
   "outputs": [],
   "source": [
    "M * v"
   ]
  },
  {
   "cell_type": "code",
   "execution_count": null,
   "metadata": {},
   "outputs": [],
   "source": [
    "v = v.T # make it a column vector\n",
    "v.shape"
   ]
  },
  {
   "cell_type": "markdown",
   "metadata": {},
   "source": [
    "## Data processing\n",
    "\n",
    "First, import the function ```genfromtxt()```\n",
    "```Python\n",
    "from numpy import genfromtxt\n",
    "```\n",
    "\n",
    "**Arguments**:\n",
    "\n",
    "* fname: The file name (required argument)\n",
    "\n",
    "\n",
    "* delimiter: The string used to separate values. By default, any consecutive whitespaces act as delimiter. (Optional)\n",
    "\n",
    "\n",
    "* skip_header: The number of lines to skip at the beginning of the file. (Optional)"
   ]
  },
  {
   "cell_type": "code",
   "execution_count": null,
   "metadata": {
    "id": "95jfZcbKnMOw"
   },
   "outputs": [],
   "source": [
    "from numpy import genfromtxt\n",
    "data = genfromtxt('sample_data/eosSLy4.txt', delimiter=' ', skip_header=1)"
   ]
  },
  {
   "cell_type": "code",
   "execution_count": null,
   "metadata": {
    "colab": {
     "base_uri": "https://localhost:8080/"
    },
    "id": "aVyRLA62pFmu",
    "outputId": "a45a1d60-7cf3-4ec8-8e56-0d20d1cd9f4b"
   },
   "outputs": [],
   "source": [
    "data.shape"
   ]
  },
  {
   "cell_type": "markdown",
   "metadata": {},
   "source": [
    "```np.mean()```"
   ]
  },
  {
   "cell_type": "code",
   "execution_count": null,
   "metadata": {
    "colab": {
     "base_uri": "https://localhost:8080/"
    },
    "id": "-fEYdjRMsZTj",
    "outputId": "f95a0376-b972-4dfb-de3a-9493e436fff0"
   },
   "outputs": [],
   "source": [
    "np.mean(data[0,:])"
   ]
  },
  {
   "cell_type": "code",
   "execution_count": null,
   "metadata": {
    "colab": {
     "base_uri": "https://localhost:8080/"
    },
    "id": "QTTLkYJCrIpW",
    "outputId": "0e57724c-9063-4319-dd80-2dfa7c4ead9a"
   },
   "outputs": [],
   "source": [
    "#mean per row\n",
    "np.mean(data,axis=1)"
   ]
  },
  {
   "cell_type": "code",
   "execution_count": null,
   "metadata": {
    "colab": {
     "base_uri": "https://localhost:8080/"
    },
    "id": "FUqQc46PrIsd",
    "outputId": "757815fa-91c9-4635-eb0f-a3ef4fc19ab1"
   },
   "outputs": [],
   "source": [
    "#mean per column\n",
    "np.mean(data,axis=0)"
   ]
  },
  {
   "cell_type": "code",
   "execution_count": null,
   "metadata": {
    "colab": {
     "base_uri": "https://localhost:8080/"
    },
    "id": "fyQdZ0XfrIvc",
    "outputId": "0ed93b8d-4484-464e-deac-812128dfc08d"
   },
   "outputs": [],
   "source": [
    "print(data[1,:].max())\n",
    "print(data[1,:].min())"
   ]
  },
  {
   "cell_type": "markdown",
   "metadata": {
    "id": "Ue8Y4nqH_Vgp"
   },
   "source": [
    "## Reshaping, resizing and stacking arrays\n",
    "\n",
    "The shape of an NumPy array can be modified without copying the underlaying data, which makes it a *fast\n",
    "operation even for large arrays*."
   ]
  },
  {
   "cell_type": "code",
   "execution_count": null,
   "metadata": {
    "colab": {
     "base_uri": "https://localhost:8080/"
    },
    "id": "0y-6FpbWrIyD",
    "outputId": "b079395b-e46d-4d67-8b0c-74668b2155cd"
   },
   "outputs": [],
   "source": [
    "A = np.array([[m+n*10 for n in range(5)] for m in range(5)])\n",
    "A"
   ]
  },
  {
   "cell_type": "code",
   "execution_count": null,
   "metadata": {
    "colab": {
     "base_uri": "https://localhost:8080/"
    },
    "id": "RVVX2nVQAOoS",
    "outputId": "8f3fc3e1-6f71-4f20-ec7f-5ae4b417a29d"
   },
   "outputs": [],
   "source": [
    "n, m = A.shape\n",
    "n,m"
   ]
  },
  {
   "cell_type": "markdown",
   "metadata": {},
   "source": [
    "- ```reshape()```"
   ]
  },
  {
   "cell_type": "code",
   "execution_count": null,
   "metadata": {
    "colab": {
     "base_uri": "https://localhost:8080/"
    },
    "id": "IGJvitDxAIkZ",
    "outputId": "6a61f19b-2a2b-428e-9300-7cd37a7dc4f8"
   },
   "outputs": [],
   "source": [
    "B = A.reshape((1,n*m))\n",
    "B"
   ]
  },
  {
   "cell_type": "code",
   "execution_count": null,
   "metadata": {
    "colab": {
     "base_uri": "https://localhost:8080/"
    },
    "id": "H3fR4zVVAIoc",
    "outputId": "dc861062-b861-421b-f714-d331ee9085cf"
   },
   "outputs": [],
   "source": [
    "A"
   ]
  },
  {
   "cell_type": "markdown",
   "metadata": {},
   "source": [
    "Changing an element of B array affects A array! ```B=A.reshape((1,n*m))``` is only a different view of the same data!"
   ]
  },
  {
   "cell_type": "code",
   "execution_count": null,
   "metadata": {
    "colab": {
     "base_uri": "https://localhost:8080/"
    },
    "id": "m1YSqhnNAIrH",
    "outputId": "8b9f5011-f00b-41b8-9c0e-09d3efe497a8"
   },
   "outputs": [],
   "source": [
    "B[0,0:5] = 5 # modify the array"
   ]
  },
  {
   "cell_type": "code",
   "execution_count": null,
   "metadata": {
    "colab": {
     "base_uri": "https://localhost:8080/"
    },
    "id": "IEhW6hehAItp",
    "outputId": "5bce9ed2-9c4e-44e6-b618-7492a8b7be79"
   },
   "outputs": [],
   "source": [
    "A"
   ]
  },
  {
   "cell_type": "markdown",
   "metadata": {},
   "source": [
    "```flatten()```\n",
    "\n",
    "The function flatten makes a higher-dimensional array into a vector. But this function **creates a copy of the data**."
   ]
  },
  {
   "cell_type": "code",
   "execution_count": null,
   "metadata": {
    "colab": {
     "base_uri": "https://localhost:8080/"
    },
    "id": "TfAXRzpJAIwK",
    "outputId": "c623080a-afb5-4f48-ca36-eddee7690fa1"
   },
   "outputs": [],
   "source": [
    "C = A.flatten()\n",
    "C"
   ]
  },
  {
   "cell_type": "code",
   "execution_count": null,
   "metadata": {
    "colab": {
     "base_uri": "https://localhost:8080/"
    },
    "id": "6VEakVOWBQ6K",
    "outputId": "d1f7b2ef-f00e-42d7-9e6c-11946024d54e"
   },
   "outputs": [],
   "source": [
    "C[0:5] = 10\n",
    "C"
   ]
  },
  {
   "cell_type": "code",
   "execution_count": null,
   "metadata": {
    "colab": {
     "base_uri": "https://localhost:8080/"
    },
    "id": "WquvsjTQBGh5",
    "outputId": "4902bed1-c450-4041-d10b-dc1b7cbcbd41"
   },
   "outputs": [],
   "source": [
    "A"
   ]
  },
  {
   "cell_type": "markdown",
   "metadata": {
    "id": "hLhX4z3tFOX0"
   },
   "source": [
    "### Adding a new dimension: newaxis\n",
    "\n",
    "With **newaxis**, we can insert new dimensions in an array, for example converting a vector to a column or\n",
    "row matrix"
   ]
  },
  {
   "cell_type": "code",
   "execution_count": null,
   "metadata": {
    "colab": {
     "base_uri": "https://localhost:8080/"
    },
    "id": "wlMDheSaFTzq",
    "outputId": "1cd4e2fe-a8bc-45dd-fc21-ea25bee9b507"
   },
   "outputs": [],
   "source": [
    "v = np.array([1,2,3])\n",
    "np.shape(v) #1-D array"
   ]
  },
  {
   "cell_type": "code",
   "execution_count": null,
   "metadata": {
    "colab": {
     "base_uri": "https://localhost:8080/"
    },
    "id": "KTaqk5ZkFT4i",
    "outputId": "7130c147-6ec0-4d59-9dd8-f534e7428e2f"
   },
   "outputs": [],
   "source": [
    "# make a column matrix of the vector v\n",
    "v[:, np.newaxis]"
   ]
  },
  {
   "cell_type": "code",
   "execution_count": null,
   "metadata": {
    "colab": {
     "base_uri": "https://localhost:8080/"
    },
    "id": "4Q-MGjKCFUAr",
    "outputId": "626e40f9-7c2d-4c4d-afb2-ca256ee47e90"
   },
   "outputs": [],
   "source": [
    "# column matrix\n",
    "v[:,np.newaxis].shape"
   ]
  },
  {
   "cell_type": "code",
   "execution_count": null,
   "metadata": {
    "colab": {
     "base_uri": "https://localhost:8080/"
    },
    "id": "UBhMYT5aHFZY",
    "outputId": "9ddd043c-ef9a-4606-a289-f04c54eb3b5f"
   },
   "outputs": [],
   "source": [
    "# row matrix\n",
    "print(v[np.newaxis,:])\n",
    "print('Its shape is:', v[np.newaxis,:].shape)\n",
    "print('The above has', v[np.newaxis,:].shape[0],'row(s) and', v[np.newaxis,:].shape[1],'column(s)')"
   ]
  },
  {
   "cell_type": "markdown",
   "metadata": {
    "id": "aZFB2a0DBYha"
   },
   "source": [
    "### Stacking and repeating arrays"
   ]
  },
  {
   "cell_type": "code",
   "execution_count": null,
   "metadata": {
    "colab": {
     "base_uri": "https://localhost:8080/"
    },
    "id": "e9h5Ggp0Be7S",
    "outputId": "5178dabf-273c-494a-9e33-3eb12663de76"
   },
   "outputs": [],
   "source": [
    "a = np.array([[1, 2], [3, 4]])\n",
    "a\n",
    "a.shape"
   ]
  },
  {
   "cell_type": "markdown",
   "metadata": {},
   "source": [
    "**Repeating elements**"
   ]
  },
  {
   "cell_type": "markdown",
   "metadata": {},
   "source": [
    "```np.repeat(array,n)``` : repeat each element of the array n times"
   ]
  },
  {
   "cell_type": "code",
   "execution_count": null,
   "metadata": {
    "colab": {
     "base_uri": "https://localhost:8080/"
    },
    "id": "MPkA04JKBe9w",
    "outputId": "c26a40fa-c3cf-49d5-bdaa-5e3364ecd089"
   },
   "outputs": [],
   "source": [
    "np.repeat(a, 3)"
   ]
  },
  {
   "cell_type": "markdown",
   "metadata": {},
   "source": [
    "```np.tile(A,n)``` : construct an array by repeating A the number of times given by n"
   ]
  },
  {
   "cell_type": "code",
   "execution_count": null,
   "metadata": {
    "colab": {
     "base_uri": "https://localhost:8080/"
    },
    "id": "_B6HpB3IBfBI",
    "outputId": "78e56d12-fcbd-48fc-b0fe-4f0f16bf7d23"
   },
   "outputs": [],
   "source": [
    "np.tile(a, 3)"
   ]
  },
  {
   "cell_type": "markdown",
   "metadata": {
    "id": "035wKx5CB4Ps"
   },
   "source": [
    "**concatenate**\n",
    "\n",
    "```np.concatenate((a, b, c, ....), axis=0)```: join a sequence of arrays along an existing axis."
   ]
  },
  {
   "cell_type": "code",
   "execution_count": null,
   "metadata": {
    "colab": {
     "base_uri": "https://localhost:8080/"
    },
    "id": "Xfa3mGo_BfD2",
    "outputId": "1923100e-7301-4b52-d04a-87e34a7eeb82"
   },
   "outputs": [],
   "source": [
    "b = np.array([[5, 6]])\n",
    "np.concatenate((a, b), axis=0)"
   ]
  },
  {
   "cell_type": "code",
   "execution_count": null,
   "metadata": {
    "colab": {
     "base_uri": "https://localhost:8080/"
    },
    "id": "fGwYRUjFCGCP",
    "outputId": "833387e3-4eb5-4bbe-fca5-769c32a0c514"
   },
   "outputs": [],
   "source": [
    "np.concatenate((a, b.T), axis=1)"
   ]
  },
  {
   "cell_type": "markdown",
   "metadata": {
    "id": "sRHqvEdbCNuD"
   },
   "source": [
    "```np.vstack((a,b))``` : same as ```np.concatenate((a, b), axis=0)```"
   ]
  },
  {
   "cell_type": "code",
   "execution_count": null,
   "metadata": {
    "colab": {
     "base_uri": "https://localhost:8080/"
    },
    "id": "8a_v3ArvCPCO",
    "outputId": "10a1bd24-ce17-4a2a-fab2-adf46db60cc4"
   },
   "outputs": [],
   "source": [
    "np.vstack((a,b))"
   ]
  },
  {
   "cell_type": "markdown",
   "metadata": {},
   "source": [
    "```np.hstack((a,b))``` : same as ```np.concatenate((a, b), axis=1)```"
   ]
  },
  {
   "cell_type": "code",
   "execution_count": null,
   "metadata": {
    "colab": {
     "base_uri": "https://localhost:8080/"
    },
    "id": "eK1eoUIYCPFU",
    "outputId": "85f3896c-d6b9-4703-9921-0a9fc3395bcb"
   },
   "outputs": [],
   "source": [
    "np.hstack((a,b.T))"
   ]
  },
  {
   "cell_type": "markdown",
   "metadata": {
    "id": "Q1U0UcuJCrwR"
   },
   "source": [
    "### Copy and deep copy\n",
    "\n",
    "To achieve high performance, assignments in Python usually do not copy the underlaying objects. This is\n",
    "important for example when objects are passed between functions, to avoid an excessive amount of memory\n",
    "copying when it is not necessary (technical term: pass by reference)."
   ]
  },
  {
   "cell_type": "code",
   "execution_count": null,
   "metadata": {
    "colab": {
     "base_uri": "https://localhost:8080/"
    },
    "id": "bJ1TUVpuC2wW",
    "outputId": "59b3ea5f-2b0c-4b62-867b-b8a3e6d16612"
   },
   "outputs": [],
   "source": [
    "A = np.array([[1, 2], [3, 4]])\n",
    "A"
   ]
  },
  {
   "cell_type": "code",
   "execution_count": null,
   "metadata": {
    "colab": {
     "base_uri": "https://localhost:8080/"
    },
    "id": "XWDlUAGWC2ze",
    "outputId": "2f57f9a9-9483-4f58-d0c2-10229654b6db"
   },
   "outputs": [],
   "source": [
    "# now B is referring to the same array data as A\n",
    "B = A\n",
    "B"
   ]
  },
  {
   "cell_type": "code",
   "execution_count": null,
   "metadata": {
    "colab": {
     "base_uri": "https://localhost:8080/"
    },
    "id": "voE0UQ0FC296",
    "outputId": "4353fe41-c06a-43ad-ce18-98b99f0caf1d"
   },
   "outputs": [],
   "source": [
    "# changing B affects A\n",
    "B[0,0] = 10\n",
    "B"
   ]
  },
  {
   "cell_type": "code",
   "execution_count": null,
   "metadata": {
    "colab": {
     "base_uri": "https://localhost:8080/"
    },
    "id": "vMbFPbwcDBmN",
    "outputId": "0595d683-dbb3-4278-9c03-56ee8c06de99"
   },
   "outputs": [],
   "source": [
    "A"
   ]
  },
  {
   "cell_type": "markdown",
   "metadata": {
    "id": "POtgx-v5DL4U"
   },
   "source": [
    "If we want to avoid this behavior, so that when we get a new completely independent object B copied\n",
    "from A, then we need to do a so-called \"deep copy\" using the function **copy**"
   ]
  },
  {
   "cell_type": "code",
   "execution_count": null,
   "metadata": {
    "colab": {
     "base_uri": "https://localhost:8080/"
    },
    "id": "N_f5mX51DQdE",
    "outputId": "311568bd-9aaa-463c-bda2-2d1bc953a5ed"
   },
   "outputs": [],
   "source": [
    "D = np.copy(A)\n",
    "D"
   ]
  },
  {
   "cell_type": "code",
   "execution_count": null,
   "metadata": {
    "colab": {
     "base_uri": "https://localhost:8080/"
    },
    "id": "h8GEWbQFDXNq",
    "outputId": "04dd1722-3f0b-455a-d7fc-ef871ca11e28"
   },
   "outputs": [],
   "source": [
    "# now, if we modify B, A is not affected\n",
    "D[0,0] = -5\n",
    "D"
   ]
  },
  {
   "cell_type": "code",
   "execution_count": null,
   "metadata": {
    "colab": {
     "base_uri": "https://localhost:8080/"
    },
    "id": "vjwgN0sODaIi",
    "outputId": "14ab8797-9efc-4a46-f591-32f918d05b6b"
   },
   "outputs": [],
   "source": [
    "A"
   ]
  },
  {
   "cell_type": "markdown",
   "metadata": {
    "id": "oMmunbpbDdFN"
   },
   "source": [
    "## Iterating over array elements"
   ]
  },
  {
   "cell_type": "code",
   "execution_count": null,
   "metadata": {
    "colab": {
     "base_uri": "https://localhost:8080/"
    },
    "id": "LlmpxOZVDg2X",
    "outputId": "0f0ae629-2c57-471b-fd3c-363ea3d056b9"
   },
   "outputs": [],
   "source": [
    "v = np.array([1,2,3,4])\n",
    "\n",
    "for element in v:\n",
    "    print(element)"
   ]
  },
  {
   "cell_type": "markdown",
   "metadata": {
    "id": "GiFWbvVNEmeY"
   },
   "source": [
    "When we need to iterate over each element of an array and modify its elements, it is convenient to use\n",
    "the **enumerate** function to obtain both the element and its index in the for loop"
   ]
  },
  {
   "cell_type": "code",
   "execution_count": null,
   "metadata": {
    "colab": {
     "base_uri": "https://localhost:8080/"
    },
    "id": "D5Y837tCFXLO",
    "outputId": "06d34c2e-b096-4e3e-ade5-0e6092376cc7"
   },
   "outputs": [],
   "source": [
    "grocery = ['bread', 'milk', 'butter']\n",
    "enumerateGrocery = enumerate(grocery)\n",
    "\n",
    "print(type(enumerateGrocery))\n",
    "\n",
    "# converting to list\n",
    "print(list(enumerateGrocery))"
   ]
  },
  {
   "cell_type": "code",
   "execution_count": null,
   "metadata": {},
   "outputs": [],
   "source": [
    "# changing the default counter\n",
    "enumerateGrocery = enumerate(grocery, 10)\n",
    "print(list(enumerateGrocery))"
   ]
  },
  {
   "cell_type": "markdown",
   "metadata": {
    "id": "j42_YmskGf-l"
   },
   "source": [
    "When we need to iterate over each element of an array and modify its elements, it is convenient to use\n",
    "the enumerate function to obtain both the element and its index in the for loop"
   ]
  },
  {
   "cell_type": "code",
   "execution_count": null,
   "metadata": {},
   "outputs": [],
   "source": [
    "M = np.array([[ 0, 4], [ 9, 16]])"
   ]
  },
  {
   "cell_type": "code",
   "execution_count": null,
   "metadata": {
    "colab": {
     "base_uri": "https://localhost:8080/"
    },
    "id": "VKGfK6T-Dg_k",
    "outputId": "d6377e19-5992-4167-9176-0247a1fcfecd"
   },
   "outputs": [],
   "source": [
    "for row_idx, row in enumerate(M):\n",
    "    print(\"row_idx\", row_idx, \"row\", row)\n",
    "    for col_idx, element in enumerate(row):\n",
    "        print(\"col_idx\", col_idx, \"element\", element)\n",
    "        # update the matrix M: square each element\n",
    "        M[row_idx, col_idx] = element ** 2"
   ]
  },
  {
   "cell_type": "code",
   "execution_count": null,
   "metadata": {
    "colab": {
     "base_uri": "https://localhost:8080/"
    },
    "id": "F_SwWyPDME-J",
    "outputId": "281ca98d-686d-4958-ca87-10cb675de152"
   },
   "outputs": [],
   "source": [
    "M"
   ]
  },
  {
   "cell_type": "markdown",
   "metadata": {
    "id": "-fHiCigz8eSO"
   },
   "source": [
    "## Using arrays in conditions\n",
    "\n",
    "When using arrays in conditions,for example if statements and other boolean expressions, one needs to use\n",
    "```any``` or ```all```, which requires that any or all elements in the array evalutes to True"
   ]
  },
  {
   "cell_type": "code",
   "execution_count": null,
   "metadata": {
    "id": "Ie4889Yn8hze"
   },
   "outputs": [],
   "source": [
    "M = np.array([[ 0, 4], [ 9, 16]])"
   ]
  },
  {
   "cell_type": "code",
   "execution_count": null,
   "metadata": {
    "colab": {
     "base_uri": "https://localhost:8080/"
    },
    "id": "eyjbxY0sQEdP",
    "outputId": "2c073c39-bcf4-4089-bc0f-5b0c288e1918"
   },
   "outputs": [],
   "source": [
    "if (M > 5).any():\n",
    "    print(\"at least one element in M is larger than 5\")\n",
    "else:\n",
    "    print(\"no element in M is larger than 5\")"
   ]
  },
  {
   "cell_type": "code",
   "execution_count": null,
   "metadata": {
    "colab": {
     "base_uri": "https://localhost:8080/"
    },
    "id": "0ydwMWydQvjv",
    "outputId": "472f4a58-be77-4619-d83c-6cdda073d475"
   },
   "outputs": [],
   "source": [
    "if (M > 5).all():\n",
    "    print(\"all elements in M are larger than 5\")\n",
    "else:\n",
    "    print(\"all elements in M are not larger than 5\")"
   ]
  }
 ],
 "metadata": {
  "colab": {
   "name": "2. Numpy-PUBLIC.ipynb",
   "provenance": []
  },
  "kernelspec": {
   "display_name": "Python 3 (ipykernel)",
   "language": "python",
   "name": "python3"
  },
  "language_info": {
   "codemirror_mode": {
    "name": "ipython",
    "version": 3
   },
   "file_extension": ".py",
   "mimetype": "text/x-python",
   "name": "python",
   "nbconvert_exporter": "python",
   "pygments_lexer": "ipython3",
   "version": "3.9.10"
  }
 },
 "nbformat": 4,
 "nbformat_minor": 1
}
