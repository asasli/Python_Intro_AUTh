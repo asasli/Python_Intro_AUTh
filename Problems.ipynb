{
 "cells": [
  {
   "cell_type": "markdown",
   "id": "a85803e5",
   "metadata": {},
   "source": [
    "# Introduction to Python : Problems\n",
    "\n",
    "An introductory-to-Python notebook for the purposes of the course \"Numerical Analysis\" (Prof. Nikolaos Stergioulas) at Aristotle University of Thessaloniki (AUTh). \n",
    "\n",
    "Notebook by Argyro Sasli @2022"
   ]
  },
  {
   "cell_type": "markdown",
   "id": "0133343f",
   "metadata": {},
   "source": [
    "## A Brief Review"
   ]
  },
  {
   "cell_type": "code",
   "execution_count": null,
   "id": "b03aa83d",
   "metadata": {},
   "outputs": [],
   "source": [
    "likeHistory=False\n",
    "likeMaths=True\n",
    "course=likeHistory or likeMaths\n",
    "if(course):\n",
    "    print(\"I want to\")\n",
    "if(likeHistory):\n",
    "    print(\"attend Numerical Analysis!\")"
   ]
  },
  {
   "cell_type": "code",
   "execution_count": null,
   "id": "67b6e33c",
   "metadata": {},
   "outputs": [],
   "source": [
    "if(course):\n",
    "    print(\"I want to\")\n",
    "if(likeMaths):\n",
    "    print(\"attend Numerical Analysis!\")"
   ]
  },
  {
   "cell_type": "markdown",
   "id": "af5465e5",
   "metadata": {},
   "source": [
    "The below will run the ```square=i*i``` for i=(0,1,2,3,4)"
   ]
  },
  {
   "cell_type": "code",
   "execution_count": null,
   "id": "7d98e142",
   "metadata": {},
   "outputs": [],
   "source": [
    "grades=[10, 5, 8, 9, 3]\n",
    "for i in range(len(grades)):\n",
    "    square=i*i\n",
    "    print(square)"
   ]
  },
  {
   "cell_type": "markdown",
   "id": "66bacffe",
   "metadata": {},
   "source": [
    "The below will run the commands inside the for-loop for ```i=grade[i]```"
   ]
  },
  {
   "cell_type": "code",
   "execution_count": null,
   "id": "8198a25f",
   "metadata": {},
   "outputs": [],
   "source": [
    "k = 0\n",
    "grades = [10, 5, 8, 9, 3]\n",
    "for i in grades:\n",
    "    k+=1\n",
    "    print(\"The grade for the student with ID=\",k,\"is \",i)"
   ]
  },
  {
   "cell_type": "markdown",
   "id": "23a4c44f",
   "metadata": {},
   "source": [
    "Summation and how to append (list type)"
   ]
  },
  {
   "cell_type": "code",
   "execution_count": null,
   "id": "937d8269",
   "metadata": {},
   "outputs": [],
   "source": [
    "mysum=0\n",
    "mylist=[mysum]\n",
    "for i in range(5,21):\n",
    "    mysum+=i #mysum=mysum+i\n",
    "    mylist.append(mysum)\n",
    "print(mysum)"
   ]
  },
  {
   "cell_type": "code",
   "execution_count": null,
   "id": "7f0f9698",
   "metadata": {},
   "outputs": [],
   "source": [
    "mylist"
   ]
  },
  {
   "cell_type": "markdown",
   "id": "dfd61be8",
   "metadata": {},
   "source": [
    "Append (numpy array)"
   ]
  },
  {
   "cell_type": "code",
   "execution_count": null,
   "id": "71a5b387",
   "metadata": {},
   "outputs": [],
   "source": [
    "import numpy as np\n",
    "mylist=[1]\n",
    "mylist=np.array(mylist)\n",
    "for i in range(12,15):\n",
    "    mylist=np.append(mylist,i)\n",
    "print(mylist)"
   ]
  },
  {
   "cell_type": "markdown",
   "id": "c94cb7f0",
   "metadata": {},
   "source": [
    "## **Machine Precision**"
   ]
  },
  {
   "cell_type": "code",
   "execution_count": null,
   "id": "2e9051f5",
   "metadata": {},
   "outputs": [],
   "source": [
    "print(np.finfo(float).eps) #same as print(np.finfo(np.float64).eps)"
   ]
  },
  {
   "cell_type": "code",
   "execution_count": null,
   "id": "2350972d",
   "metadata": {},
   "outputs": [],
   "source": [
    "print(np.finfo(np.float32).eps)"
   ]
  },
  {
   "cell_type": "code",
   "execution_count": null,
   "id": "1a3b5397",
   "metadata": {},
   "outputs": [],
   "source": [
    "print(np.finfo(np.float16).eps)"
   ]
  },
  {
   "cell_type": "code",
   "execution_count": null,
   "id": "309d1eae",
   "metadata": {},
   "outputs": [],
   "source": [
    "a=0\n",
    "while a<2:\n",
    "    a+=1e-4\n",
    "    print(a)"
   ]
  },
  {
   "cell_type": "code",
   "execution_count": null,
   "id": "672ea4fa",
   "metadata": {},
   "outputs": [],
   "source": [
    "print('It stops at a=%.4f'%a)"
   ]
  },
  {
   "cell_type": "markdown",
   "id": "5181f41e",
   "metadata": {},
   "source": [
    "## **Random Distribution**"
   ]
  },
  {
   "cell_type": "code",
   "execution_count": null,
   "id": "bae89a70",
   "metadata": {},
   "outputs": [],
   "source": [
    "%matplotlib notebook\n",
    "import random\n",
    "import matplotlib.pyplot as plt"
   ]
  },
  {
   "cell_type": "markdown",
   "id": "166514ed",
   "metadata": {},
   "source": [
    "**Monte Carlo (Coin Flip Simulator)**"
   ]
  },
  {
   "cell_type": "code",
   "execution_count": null,
   "id": "7ea62a19",
   "metadata": {},
   "outputs": [],
   "source": [
    "prob=[]\n",
    "def monte_carlo(n):\n",
    "    results=0\n",
    "    for i in range(n):\n",
    "        flip=random.randint(0,1) #random --> normal distribution\n",
    "                                 #tails: 0, head:1\n",
    "        results=results+flip\n",
    "    \n",
    "        prob.append(results/(i+1))\n",
    "        \n",
    "    #plot the results\n",
    "    plt.axhline(y=0.5,color='b',linestyle='-')\n",
    "    plt.xlabel(\"Iterations\")\n",
    "    plt.ylabel(\"Probability\")\n",
    "    plt.plot(prob,'m')\n",
    "    \n",
    "    return results/n\n",
    "\n",
    "expr=monte_carlo(10000)\n",
    "print(\"Final value : \",expr)"
   ]
  },
  {
   "cell_type": "markdown",
   "id": "cab8eb2a",
   "metadata": {},
   "source": [
    "## Use one function as an input to another function"
   ]
  },
  {
   "cell_type": "code",
   "execution_count": null,
   "id": "1ac33d6f",
   "metadata": {},
   "outputs": [],
   "source": [
    "def f(x):\n",
    "    return x**2.-1.\n",
    "\n",
    "\n",
    "def myg(a,b,g):\n",
    "    h=g(a)+g(b)\n",
    "    print(\"The value of f at x=\",a,\"is\",g(a))\n",
    "    print(\"The value of f at x=\",b,\"is\",g(b))\n",
    "    print(\"\\nf(a)+f(b)= \",h) \n",
    "    return "
   ]
  },
  {
   "cell_type": "code",
   "execution_count": null,
   "id": "26a47db9",
   "metadata": {},
   "outputs": [],
   "source": [
    "myg(1,2,f)"
   ]
  },
  {
   "cell_type": "markdown",
   "id": "95cb8601",
   "metadata": {},
   "source": [
    "## Examples"
   ]
  },
  {
   "cell_type": "markdown",
   "id": "8cb55e04",
   "metadata": {},
   "source": [
    "1. **Make a function that calculates the factorial of a number**"
   ]
  },
  {
   "cell_type": "code",
   "execution_count": null,
   "id": "5eb6d4f5",
   "metadata": {},
   "outputs": [],
   "source": [
    "def factorial(number):\n",
    "    fact=1\n",
    "    for i in range(1, number+1):\n",
    "        fact*=i #fact=fact*i\n",
    "    return fact\n",
    "\n",
    "factorial(3)"
   ]
  },
  {
   "cell_type": "markdown",
   "id": "2957738e",
   "metadata": {},
   "source": [
    "2. **Make a function that calculates the differences $\\Delta y_i= y_{i+1} -y_{i}$**"
   ]
  },
  {
   "cell_type": "code",
   "execution_count": null,
   "id": "48763bc8",
   "metadata": {},
   "outputs": [],
   "source": [
    "def delta_y(u):\n",
    "    n=len(u)\n",
    "    m=np.zeros((n,n))\n",
    "    m[:,0] = [u[i] for i in range(n)]\n",
    "    for i in range(1, n):\n",
    "        for j in range(n - i):\n",
    "            m[j][i] = m[j + 1][i - 1] - m[j][i - 1];\n",
    "    return m"
   ]
  },
  {
   "cell_type": "code",
   "execution_count": null,
   "id": "256a9726",
   "metadata": {},
   "outputs": [],
   "source": [
    "u=[1,2,3]\n",
    "delta_y(u)"
   ]
  },
  {
   "cell_type": "markdown",
   "id": "9161653d",
   "metadata": {},
   "source": [
    "## Using Python to solve problems in Numerical Analysis\n",
    "1.  **Newton Rapson Method**\n",
    "\n",
    "Apply the Newton Rapson method for the equation $$0 = 2x ^ 2 + 5x - 3$$\n",
    "\n",
    "Note: considering 4 significant demical digits"
   ]
  },
  {
   "cell_type": "code",
   "execution_count": null,
   "id": "bffc9566",
   "metadata": {},
   "outputs": [],
   "source": [
    "def f(x):\n",
    "    return (2 * pow(x,2) +5 * x - 3)\n",
    "\n",
    "def df(x):\n",
    "    return (4 * x +5)"
   ]
  },
  {
   "cell_type": "code",
   "execution_count": null,
   "id": "39ec9ed1",
   "metadata": {},
   "outputs": [],
   "source": [
    "es=(0.5*10**(-2))"
   ]
  },
  {
   "cell_type": "code",
   "execution_count": null,
   "id": "32c26f47",
   "metadata": {},
   "outputs": [],
   "source": [
    "def NR(f,df,x0,es):\n",
    "    y=f(x0)/df(x0)\n",
    "    xn=x0-y\n",
    "    while abs((xn-x0)*100/xn)>es:\n",
    "        x0=xn\n",
    "        y=f(x0)/df(x0)\n",
    "        xn=x0-y\n",
    "    return xn"
   ]
  },
  {
   "cell_type": "code",
   "execution_count": null,
   "id": "32c0b0f1",
   "metadata": {},
   "outputs": [],
   "source": [
    "xn=NR(f,df,0,es)\n",
    "print('The root of the equation is %.4f' % (xn))"
   ]
  },
  {
   "cell_type": "markdown",
   "id": "b634ebbd",
   "metadata": {},
   "source": [
    "2. **Newton-Gregory backward Interpolation Formula**"
   ]
  },
  {
   "cell_type": "code",
   "execution_count": null,
   "id": "37272619",
   "metadata": {},
   "outputs": [],
   "source": [
    "n = 4\n",
    "x = [ 2, 4, 6, 8]\n",
    "y = [46, 66, 81, 93]\n",
    "\n",
    "# Value to interpolate at\n",
    "value = 5\n",
    "print(\"\\nBackward difference table: \")\n",
    "\n",
    "# Calculating the backward difference table\n",
    "m = [y]\n",
    "for l in range(len(y) - 1):\n",
    "    yn = []\n",
    "    for i, k in zip(y[1::1], y[0::1]):\n",
    "        yn.append(i - k)\n",
    "    m.append(yn)\n",
    "    y = yn\n",
    "\n",
    "# Displaying the backward  difference table\n",
    "titles = [\"x\", \"f(x)\", \"∇f(x)\"]\n",
    "for i in range(2, len(m)+1):\n",
    "    titles.append(\"∇^\" + str(i) + \"f(x)\")\n",
    "for i in range(len(m)+1):\n",
    "    print(titles[i], end=\"\\t\");\n",
    "print()\n",
    "for i in range(len(m)):\n",
    "    print(x[i], end=\"\\t\")\n",
    "    for j in range(len(m) - i):\n",
    "        if j>1:\n",
    "            print(end=\" \")\n",
    "        print(m[j][i], end=\"\\t\")\n",
    "    print()\n",
    "\n",
    "# calculation of s\n",
    "s = (value - x[-1]) / (x[1] - x[0])\n",
    "print(\"\\ns= \",s)\n",
    "\n",
    "# result calculation\n",
    "s_coef = 1\n",
    "p = 0\n",
    "for i in range(1, len(m)):\n",
    "    print(\"We calculate s*coef, where coef is \",s_coef,\"* (s +\", i, \"- 1)\")\n",
    "    s_coef = s_coef * (s + i - 1)\n",
    "    print(\"\\ns*coef=\",s_coef)\n",
    "    print(\"\\nP= \",p,\"+\",m[i][-1],\"*\",s_coef,\"/\",factorial(i))\n",
    "    p = p + (m[i][-1] * s_coef) / factorial(i)\n",
    "result = m[0][-1] + p\n",
    "\n",
    "# Printing Result\n",
    "print(\"\\nValue of\", \"f(\",value,\") is : \", result)"
   ]
  }
 ],
 "metadata": {
  "kernelspec": {
   "display_name": "Python 3 (ipykernel)",
   "language": "python",
   "name": "python3"
  },
  "language_info": {
   "codemirror_mode": {
    "name": "ipython",
    "version": 3
   },
   "file_extension": ".py",
   "mimetype": "text/x-python",
   "name": "python",
   "nbconvert_exporter": "python",
   "pygments_lexer": "ipython3",
   "version": "3.9.10"
  }
 },
 "nbformat": 4,
 "nbformat_minor": 5
}
