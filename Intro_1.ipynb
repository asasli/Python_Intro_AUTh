{
 "cells": [
  {
   "cell_type": "markdown",
   "id": "08488ca1-2dcd-4335-92b1-7a04c4ce7a72",
   "metadata": {},
   "source": [
    "# Introduction to Python : The Basics\n",
    "\n",
    "An introductory-to-Python notebook for the purposes of the course \"Numerical Analysis\" (Prof. Nikolaos Stergioulas) at Aristotle University of Thessaloniki (AUTh). \n",
    "\n",
    "A first version lives in [v1.0@2021](https://github.com/sfragkoul/Python_Intro) by Stella Frangouli (based on \"Introduction to Scientific Computing in Python\" by Robert Johansson).\n",
    "\n",
    "Notebook by Argyro Sasli, March 2022\n",
    "\n",
    "## About Python\n",
    "\n",
    "Python is a general-purpose, object-oriented, high-level programming language that supports rapid development of scripts and applications.\n",
    "\n",
    "*Advantages*\n",
    "1. Open Source software, supported by Python Software Foundation\n",
    "2. Supports multiple programming paradigms ('functional', 'object oriented')\n",
    "3. A large library, plus third-party packages\n",
    "4. Very easy to use\n",
    "5. Documentation tightly integrated with the code\n",
    "\n",
    "*Disavantages*\n",
    "1. Slower than other (non interpreted and dynamically typed) programming languages (i.e., C or Fortran). However, you can improve it with Cython!\n",
    "2. For the begginers, it might be confusing. Packages and documentation in different places."
   ]
  },
  {
   "cell_type": "markdown",
   "id": "b82333cd-f327-4dd9-a7a2-5e03b4cee5ce",
   "metadata": {},
   "source": [
    "### Python, an interpreted language\n",
    "\n",
    "The source code is not directly translated by the target machine. It can be used in two ways:\n",
    "\n",
    "* \"Scripting\" Mode: Executing a series of \"commands\" saved in text file, with a .py extension\n",
    "\n",
    "* \"Interactive\" Mode: Like an \"advanced calculator\", executing one command at a time →\n",
    "    Jupyter-style notebooks (e.g., Jupyter Notebook, Juptyter Lab)\n",
    "    \n",
    "    Type ``help``, ``copyright``, ``credits`` or ``license`` for more information\n",
    "\n",
    "Go to [Google Colab](https://colab.research.google.com) and login with your Google account.\n",
    "Select __NEW NOTEBOOK__ → __NEW PYTHON 3 NOTEBOOK__ - a new notebook will be created.\n",
    "\n",
    "``print(\"Hello Jupyter !\")`` and press __Shift-Enter__ to run the contents of the cell."
   ]
  },
  {
   "cell_type": "code",
   "execution_count": 1,
   "id": "96b19f93-14bf-45f6-af83-7418e7db1060",
   "metadata": {},
   "outputs": [
    {
     "name": "stdout",
     "output_type": "stream",
     "text": [
      "Hello Jupyter !\n"
     ]
    }
   ],
   "source": [
    "print(\"Hello Jupyter !\")"
   ]
  },
  {
   "cell_type": "code",
   "execution_count": 3,
   "id": "43f5dbbb-9176-4692-9fb4-1c3086a08fdf",
   "metadata": {},
   "outputs": [
    {
     "data": {
      "text/plain": [
       "'Hello Jupyter !'"
      ]
     },
     "execution_count": 3,
     "metadata": {},
     "output_type": "execute_result"
    }
   ],
   "source": [
    "mytext = \"Hello Jupyter !\"\n",
    "mytext"
   ]
  },
  {
   "cell_type": "markdown",
   "id": "bd0bde5b-e8f0-4ed4-bb36-7792176fb272",
   "metadata": {},
   "source": [
    "## Variables and types\n",
    "\n",
    "By convention, **variable** names start with a lower-case letter, and **Class** names start with a capital letter. \n",
    "\n",
    "There are a number of Python keywords that cannot be used as variable names:\n",
    "\n",
    "*and, as, assert, break, class, continue, def, del, elif, else, except, exec, finally, for, from, global, if, import, in, is, lambda, not, or, pass, print, raise, return, try, while, with, yield*\n",
    "\n",
    "Python is a dynamically typed language, so we do not need to specify the type of a variable when we create one.\n",
    "\n",
    "``type(x)`` returns the type of the variable x\n",
    "\n",
    "1. Integers (``int``)"
   ]
  },
  {
   "cell_type": "code",
   "execution_count": 4,
   "id": "18259092-87b1-4686-871c-caf0c72abcea",
   "metadata": {},
   "outputs": [
    {
     "data": {
      "text/plain": [
       "int"
      ]
     },
     "execution_count": 4,
     "metadata": {},
     "output_type": "execute_result"
    }
   ],
   "source": [
    "a=5\n",
    "type(a)"
   ]
  },
  {
   "cell_type": "markdown",
   "id": "c2ed7245-36d4-43a6-8c54-8b17b5de7565",
   "metadata": {},
   "source": [
    "2. Floats (``float``)"
   ]
  },
  {
   "cell_type": "code",
   "execution_count": 5,
   "id": "f7e32a60-778b-4bb1-8ad6-76e11ef0f368",
   "metadata": {},
   "outputs": [
    {
     "data": {
      "text/plain": [
       "float"
      ]
     },
     "execution_count": 5,
     "metadata": {},
     "output_type": "execute_result"
    }
   ],
   "source": [
    "a=5.0\n",
    "type(a)"
   ]
  },
  {
   "cell_type": "markdown",
   "id": "ab0f8724-43ce-40a6-8614-d6dbfc5bc2a6",
   "metadata": {},
   "source": [
    "3. complex (`complex`)\n",
    "\n",
    "Use 'j' to specify the imaginary part"
   ]
  },
  {
   "cell_type": "code",
   "execution_count": 27,
   "id": "26a63e0e-8693-42dc-82c0-e425d2d9bf8d",
   "metadata": {},
   "outputs": [
    {
     "data": {
      "text/plain": [
       "complex"
      ]
     },
     "execution_count": 27,
     "metadata": {},
     "output_type": "execute_result"
    }
   ],
   "source": [
    "c = 1 + 2j\n",
    "type(c)"
   ]
  },
  {
   "cell_type": "code",
   "execution_count": 28,
   "id": "34f8ffc2-01f4-4ace-aaf8-a106ce0a34ef",
   "metadata": {},
   "outputs": [
    {
     "name": "stdout",
     "output_type": "stream",
     "text": [
      "1.0 2.0\n"
     ]
    }
   ],
   "source": [
    "print(c.real, c.imag)"
   ]
  },
  {
   "cell_type": "code",
   "execution_count": 39,
   "id": "211a9d25-a000-446a-8916-cea7dd9a141c",
   "metadata": {},
   "outputs": [
    {
     "name": "stdout",
     "output_type": "stream",
     "text": [
      "1.5 <class 'float'>\n"
     ]
    }
   ],
   "source": [
    "# type casting\n",
    "x = 1.5\n",
    "print(x, type(x))"
   ]
  },
  {
   "cell_type": "code",
   "execution_count": 41,
   "id": "94e4ffbe-9de4-40c9-9d05-3f359e61ff83",
   "metadata": {},
   "outputs": [
    {
     "name": "stdout",
     "output_type": "stream",
     "text": [
      "1 <class 'int'>\n"
     ]
    }
   ],
   "source": [
    "xint=int(x)\n",
    "print(xint, type(xint))"
   ]
  },
  {
   "cell_type": "markdown",
   "id": "f1276c33-53e8-4620-947f-0ac47cad95f8",
   "metadata": {},
   "source": [
    "More `types` module??"
   ]
  },
  {
   "cell_type": "code",
   "execution_count": 29,
   "id": "5e87c9e6-fb92-44b7-9941-6353dcf4d562",
   "metadata": {},
   "outputs": [
    {
     "name": "stdout",
     "output_type": "stream",
     "text": [
      "['AsyncGeneratorType', 'BuiltinFunctionType', 'BuiltinMethodType', 'CellType', 'ClassMethodDescriptorType', 'CodeType', 'CoroutineType', 'DynamicClassAttribute', 'FrameType', 'FunctionType', 'GeneratorType', 'GenericAlias', 'GetSetDescriptorType', 'LambdaType', 'MappingProxyType', 'MemberDescriptorType', 'MethodDescriptorType', 'MethodType', 'MethodWrapperType', 'ModuleType', 'SimpleNamespace', 'TracebackType', 'WrapperDescriptorType', '_GeneratorWrapper', '__all__', '__builtins__', '__cached__', '__doc__', '__file__', '__loader__', '__name__', '__package__', '__spec__', '_calculate_meta', '_cell_factory', 'coroutine', 'new_class', 'prepare_class', 'resolve_bases']\n"
     ]
    }
   ],
   "source": [
    "import types\n",
    "\n",
    "# print all types defined in the 'types' module\n",
    "print(dir(types))"
   ]
  },
  {
   "cell_type": "markdown",
   "id": "736cb9e9-64a2-4b66-b133-eb229f617ec1",
   "metadata": {},
   "source": [
    "### Operators\n",
    "\n",
    "<font color='magenta'>+ - / * % ** // </font>"
   ]
  },
  {
   "cell_type": "code",
   "execution_count": 11,
   "id": "36240af3-dd45-4752-a7c8-3b7d7e6d72ff",
   "metadata": {},
   "outputs": [
    {
     "data": {
      "text/plain": [
       "9"
      ]
     },
     "execution_count": 11,
     "metadata": {},
     "output_type": "execute_result"
    }
   ],
   "source": [
    "# Power\n",
    "3**2"
   ]
  },
  {
   "cell_type": "code",
   "execution_count": 12,
   "id": "705bf20e-c03d-4ba7-a5dd-a3f0cc7709e1",
   "metadata": {},
   "outputs": [
    {
     "data": {
      "text/plain": [
       "9"
      ]
     },
     "execution_count": 12,
     "metadata": {},
     "output_type": "execute_result"
    }
   ],
   "source": [
    "# Alternative\n",
    "pow(3,2)"
   ]
  },
  {
   "cell_type": "code",
   "execution_count": 10,
   "id": "8c1f829b-58c8-4759-8667-32be60b183c1",
   "metadata": {},
   "outputs": [
    {
     "data": {
      "text/plain": [
       "1"
      ]
     },
     "execution_count": 10,
     "metadata": {},
     "output_type": "execute_result"
    }
   ],
   "source": [
    "# Modulo\n",
    "10 % 3"
   ]
  },
  {
   "cell_type": "code",
   "execution_count": 37,
   "id": "1a384dc4-e52a-45d4-9889-0c2522f82e0d",
   "metadata": {},
   "outputs": [
    {
     "data": {
      "text/plain": [
       "1.0"
      ]
     },
     "execution_count": 37,
     "metadata": {},
     "output_type": "execute_result"
    }
   ],
   "source": [
    "# Integer division of float numbers\n",
    "3.0 // 2 #same with 3.0//2.0"
   ]
  },
  {
   "cell_type": "markdown",
   "id": "0f51fc12-e9b2-4933-b2f0-743e626705e7",
   "metadata": {},
   "source": [
    "float + int = float"
   ]
  },
  {
   "cell_type": "code",
   "execution_count": 35,
   "id": "edf32535-cdca-4438-a125-a01e1b163b64",
   "metadata": {},
   "outputs": [
    {
     "data": {
      "text/plain": [
       "float"
      ]
     },
     "execution_count": 35,
     "metadata": {},
     "output_type": "execute_result"
    }
   ],
   "source": [
    "x = 3.0 * 1\n",
    "type(x)"
   ]
  },
  {
   "cell_type": "markdown",
   "id": "a53449af-b146-4d5b-bdb1-17f2ac275de8",
   "metadata": {},
   "source": [
    "int + str ??"
   ]
  },
  {
   "cell_type": "code",
   "execution_count": 13,
   "id": "08065816-7f51-441e-b923-8a6b425d0b1f",
   "metadata": {},
   "outputs": [
    {
     "data": {
      "text/plain": [
       "'5.0 Hello Jupyter !'"
      ]
     },
     "execution_count": 13,
     "metadata": {},
     "output_type": "execute_result"
    }
   ],
   "source": [
    "str(a) + \" \" + mytext"
   ]
  },
  {
   "cell_type": "markdown",
   "id": "f9e5d0a9-7bb4-4858-baca-fe8c1f298dd8",
   "metadata": {},
   "source": [
    "operators with assignment"
   ]
  },
  {
   "cell_type": "code",
   "execution_count": 25,
   "id": "e146dc24-c891-48e9-b8e2-17128582a98f",
   "metadata": {},
   "outputs": [
    {
     "name": "stdout",
     "output_type": "stream",
     "text": [
      "6.0\n",
      "b equals 3.0\n",
      "b-=3 will give 0.0\n"
     ]
    }
   ],
   "source": [
    "a = 5.0\n",
    "a += 1 \n",
    "print(a)\n",
    "b = 3.0\n",
    "print('b equals',b)\n",
    "b -=3\n",
    "print('b-=3 will give',b)"
   ]
  },
  {
   "cell_type": "markdown",
   "id": "a150d5ee-d6de-4969-8ab1-c75da22f174f",
   "metadata": {},
   "source": [
    "#### Boolean operations\n",
    "* logic operators: ``<, >, ==, !=, <=, >=`` "
   ]
  },
  {
   "cell_type": "code",
   "execution_count": 30,
   "id": "c0c1a995-93a4-4a96-934c-148b39316cfc",
   "metadata": {},
   "outputs": [
    {
     "data": {
      "text/plain": [
       "False"
      ]
     },
     "execution_count": 30,
     "metadata": {},
     "output_type": "execute_result"
    }
   ],
   "source": [
    "5<4"
   ]
  },
  {
   "cell_type": "code",
   "execution_count": 57,
   "id": "373cc4e3-f7c5-4036-b0d7-199409be1eff",
   "metadata": {},
   "outputs": [
    {
     "data": {
      "text/plain": [
       "True"
      ]
     },
     "execution_count": 57,
     "metadata": {},
     "output_type": "execute_result"
    }
   ],
   "source": [
    "# equality\n",
    "[1,2] == [1,2]"
   ]
  },
  {
   "cell_type": "code",
   "execution_count": 65,
   "id": "9915e66c-2a62-4fa7-8694-7428f9ab9ba6",
   "metadata": {},
   "outputs": [
    {
     "data": {
      "text/plain": [
       "(True, False)"
      ]
     },
     "execution_count": 65,
     "metadata": {},
     "output_type": "execute_result"
    }
   ],
   "source": [
    "2 >= 2, 2 != 2"
   ]
  },
  {
   "cell_type": "markdown",
   "id": "b9fa0e87-86b6-4a60-8411-617ea5eb0728",
   "metadata": {},
   "source": [
    "* statements of identity such as ``is``, ``and``, ``not``"
   ]
  },
  {
   "cell_type": "code",
   "execution_count": 53,
   "id": "70c7bcce-9fa8-4900-8131-ecb61c967a99",
   "metadata": {},
   "outputs": [
    {
     "data": {
      "text/plain": [
       "True"
      ]
     },
     "execution_count": 53,
     "metadata": {},
     "output_type": "execute_result"
    }
   ],
   "source": [
    "True and True # &&"
   ]
  },
  {
   "cell_type": "code",
   "execution_count": 54,
   "id": "4e04fffb-5a82-4c7f-a3a0-f88d178af904",
   "metadata": {},
   "outputs": [
    {
     "data": {
      "text/plain": [
       "True"
      ]
     },
     "execution_count": 54,
     "metadata": {},
     "output_type": "execute_result"
    }
   ],
   "source": [
    "True or False # ||"
   ]
  },
  {
   "cell_type": "code",
   "execution_count": 55,
   "id": "4a075fba-ed2f-4853-a39f-12fc6184fd98",
   "metadata": {},
   "outputs": [
    {
     "data": {
      "text/plain": [
       "True"
      ]
     },
     "execution_count": 55,
     "metadata": {},
     "output_type": "execute_result"
    }
   ],
   "source": [
    "not False # !="
   ]
  },
  {
   "cell_type": "code",
   "execution_count": 67,
   "id": "770f3894-8e64-4c04-82dd-5ba5e7bed649",
   "metadata": {},
   "outputs": [
    {
     "data": {
      "text/plain": [
       "False"
      ]
     },
     "execution_count": 67,
     "metadata": {},
     "output_type": "execute_result"
    }
   ],
   "source": [
    "x = 1.0\n",
    "\n",
    "# check if the variable x is an int\n",
    "type(x) is int"
   ]
  },
  {
   "cell_type": "markdown",
   "id": "5ecb4bc1-ef21-4897-8ff2-43c5c6749e09",
   "metadata": {},
   "source": [
    "Type Boolean (``bool``)"
   ]
  },
  {
   "cell_type": "code",
   "execution_count": 66,
   "id": "355afacd-3319-41f1-acf5-8bc9a437b571",
   "metadata": {},
   "outputs": [
    {
     "data": {
      "text/plain": [
       "bool"
      ]
     },
     "execution_count": 66,
     "metadata": {},
     "output_type": "execute_result"
    }
   ],
   "source": [
    "b1 = True\n",
    "b2 = False\n",
    "\n",
    "type(b1)"
   ]
  },
  {
   "cell_type": "markdown",
   "id": "3ef2c303-0ad7-47af-a7d7-f19db91aed6c",
   "metadata": {},
   "source": [
    "*Some functions*"
   ]
  },
  {
   "cell_type": "markdown",
   "id": "542303e1-3cdd-410a-a4aa-ed9ed33ae916",
   "metadata": {},
   "source": [
    "We can also use the ``isinstance`` method for testing types of variables"
   ]
  },
  {
   "cell_type": "code",
   "execution_count": 44,
   "id": "b99b80c6-3111-46d6-86bf-2320cb74114d",
   "metadata": {},
   "outputs": [
    {
     "data": {
      "text/plain": [
       "False"
      ]
     },
     "execution_count": 44,
     "metadata": {},
     "output_type": "execute_result"
    }
   ],
   "source": [
    "isinstance(x, int)"
   ]
  },
  {
   "cell_type": "markdown",
   "id": "ecfc03d2-a9e1-46fa-ba6c-cce59480ec16",
   "metadata": {},
   "source": [
    "The ``bool()`` function converts a value to Boolean (True or False) using the standard truth testing procedure."
   ]
  },
  {
   "cell_type": "code",
   "execution_count": 48,
   "id": "6032a659-d6df-4b5d-845f-f081a05b7708",
   "metadata": {},
   "outputs": [
    {
     "name": "stdout",
     "output_type": "stream",
     "text": [
      "0.0  ->  False <class 'bool'>\n",
      "6.0  ->  True <class 'bool'>\n"
     ]
    }
   ],
   "source": [
    "z1= 0+ 6j\n",
    "\n",
    "y = bool(z1.real)\n",
    "print(z1.real, \" -> \", y, type(y))\n",
    "\n",
    "y = bool(z1.imag)\n",
    "print(z1.imag, \" -> \", y, type(y))"
   ]
  },
  {
   "cell_type": "markdown",
   "id": "3cb84f9f-c0ab-4c36-b79d-0d0460a18835",
   "metadata": {},
   "source": [
    "## Compound types: Strings, List and dictionaries"
   ]
  },
  {
   "cell_type": "markdown",
   "id": "ce4b3bb7-fc17-4e5d-bd3e-c25fe9b52f17",
   "metadata": {},
   "source": [
    "### Strings\n",
    "In Python, a string is __immutable__. You cannot overwrite the values of immutable objects. However, you can assign the variable again. It's not modifying the string object; it's creating a new string object."
   ]
  },
  {
   "cell_type": "code",
   "execution_count": 61,
   "id": "ae97504c-a79a-4b1c-8032-11e94ba96707",
   "metadata": {},
   "outputs": [
    {
     "name": "stdout",
     "output_type": "stream",
     "text": [
      "Hello Jupyter ! -> is <class 'str'>\n"
     ]
    }
   ],
   "source": [
    "print(mytext,'-> is',type(mytext))"
   ]
  },
  {
   "cell_type": "code",
   "execution_count": 68,
   "id": "69d266ed-4b93-498b-a377-e31aa3a9a489",
   "metadata": {},
   "outputs": [
    {
     "data": {
      "text/plain": [
       "'H'"
      ]
     },
     "execution_count": 68,
     "metadata": {},
     "output_type": "execute_result"
    }
   ],
   "source": [
    "mytext[0]"
   ]
  },
  {
   "cell_type": "code",
   "execution_count": 69,
   "id": "41c0b8a1-0065-4527-b4a4-f7cba4cdabf6",
   "metadata": {},
   "outputs": [
    {
     "ename": "TypeError",
     "evalue": "'str' object does not support item assignment",
     "output_type": "error",
     "traceback": [
      "\u001b[0;31m---------------------------------------------------------------------------\u001b[0m",
      "\u001b[0;31mTypeError\u001b[0m                                 Traceback (most recent call last)",
      "Input \u001b[0;32mIn [69]\u001b[0m, in \u001b[0;36m<module>\u001b[0;34m\u001b[0m\n\u001b[0;32m----> 1\u001b[0m mytext[\u001b[38;5;241m0\u001b[39m]\u001b[38;5;241m=\u001b[39m\u001b[38;5;124m'\u001b[39m\u001b[38;5;124mz\u001b[39m\u001b[38;5;124m'\u001b[39m\n",
      "\u001b[0;31mTypeError\u001b[0m: 'str' object does not support item assignment"
     ]
    }
   ],
   "source": [
    "mytext[0]='z'"
   ]
  },
  {
   "cell_type": "code",
   "execution_count": 71,
   "id": "08a1d017-aca5-45bc-9e98-b8b14b674af3",
   "metadata": {},
   "outputs": [
    {
     "data": {
      "text/plain": [
       "15"
      ]
     },
     "execution_count": 71,
     "metadata": {},
     "output_type": "execute_result"
    }
   ],
   "source": [
    "# length of the string: the number of characters\n",
    "len(mytext)"
   ]
  },
  {
   "cell_type": "markdown",
   "id": "c1468598-b8d4-4bb8-847f-ad6f57f4d8fd",
   "metadata": {},
   "source": [
    "Lists starts from zero!"
   ]
  },
  {
   "cell_type": "code",
   "execution_count": 72,
   "id": "1676e688-6479-4f46-be35-047c46e014bf",
   "metadata": {},
   "outputs": [
    {
     "ename": "IndexError",
     "evalue": "string index out of range",
     "output_type": "error",
     "traceback": [
      "\u001b[0;31m---------------------------------------------------------------------------\u001b[0m",
      "\u001b[0;31mIndexError\u001b[0m                                Traceback (most recent call last)",
      "Input \u001b[0;32mIn [72]\u001b[0m, in \u001b[0;36m<module>\u001b[0;34m\u001b[0m\n\u001b[0;32m----> 1\u001b[0m \u001b[43mmytext\u001b[49m\u001b[43m[\u001b[49m\u001b[38;5;241;43m15\u001b[39;49m\u001b[43m]\u001b[49m\n",
      "\u001b[0;31mIndexError\u001b[0m: string index out of range"
     ]
    }
   ],
   "source": [
    "mytext[15]"
   ]
  },
  {
   "cell_type": "code",
   "execution_count": 73,
   "id": "9a5405af-602c-44cf-861d-96fe43f6e401",
   "metadata": {},
   "outputs": [
    {
     "data": {
      "text/plain": [
       "'!'"
      ]
     },
     "execution_count": 73,
     "metadata": {},
     "output_type": "execute_result"
    }
   ],
   "source": [
    "mytext[14] #len(mytext)-1"
   ]
  },
  {
   "cell_type": "markdown",
   "id": "90b6ee38-5365-4855-8001-183d4b3de5ad",
   "metadata": {},
   "source": [
    "*or*"
   ]
  },
  {
   "cell_type": "code",
   "execution_count": 74,
   "id": "3281c933-b753-4b4a-9f3d-da1eaa88494d",
   "metadata": {},
   "outputs": [
    {
     "data": {
      "text/plain": [
       "'!'"
      ]
     },
     "execution_count": 74,
     "metadata": {},
     "output_type": "execute_result"
    }
   ],
   "source": [
    "mytext[-1]"
   ]
  },
  {
   "cell_type": "code",
   "execution_count": 76,
   "id": "92d9921a-6854-4dc3-9fba-d30747d866cd",
   "metadata": {},
   "outputs": [],
   "source": [
    "s = 'z' + mytext # after concatenating, s_new is a new object"
   ]
  },
  {
   "cell_type": "code",
   "execution_count": 77,
   "id": "783c599f-1493-4710-a771-9b904b891fb2",
   "metadata": {},
   "outputs": [
    {
     "data": {
      "text/plain": [
       "'zHello Jupyter !'"
      ]
     },
     "execution_count": 77,
     "metadata": {},
     "output_type": "execute_result"
    }
   ],
   "source": [
    "s"
   ]
  },
  {
   "cell_type": "markdown",
   "id": "b2f7a609-b02e-4bb5-9d4a-618a4aef7fbc",
   "metadata": {},
   "source": [
    "We can use __slicing__ in strings\n",
    "\n",
    "``[start:stop:step]`` --> extracts characters between index *start* and *stop* (by default *step* is 1)"
   ]
  },
  {
   "cell_type": "code",
   "execution_count": 78,
   "id": "0d7e5d36-39af-4028-acd2-ca1d3f97d1ea",
   "metadata": {},
   "outputs": [
    {
     "data": {
      "text/plain": [
       "'def'"
      ]
     },
     "execution_count": 78,
     "metadata": {},
     "output_type": "execute_result"
    }
   ],
   "source": [
    "s3=\"abcdefgh\"\n",
    "s3[3:6] #[start : (stop-1): step] same as s3[3:6:1]"
   ]
  },
  {
   "cell_type": "code",
   "execution_count": 80,
   "id": "df154f9b-b22f-48ed-adb7-66aef1c7506c",
   "metadata": {},
   "outputs": [
    {
     "data": {
      "text/plain": [
       "'abcdefgh'"
      ]
     },
     "execution_count": 80,
     "metadata": {},
     "output_type": "execute_result"
    }
   ],
   "source": [
    "s3[::] #same as s3[0:len(s3)-1:1]"
   ]
  },
  {
   "cell_type": "code",
   "execution_count": 81,
   "id": "a47603f5-4bc5-4907-bca5-2445843a9223",
   "metadata": {},
   "outputs": [
    {
     "data": {
      "text/plain": [
       "'hgfedcba'"
      ]
     },
     "execution_count": 81,
     "metadata": {},
     "output_type": "execute_result"
    }
   ],
   "source": [
    "s3[::-1] #same as s3[-1:-(len(s3)+1):-1]"
   ]
  },
  {
   "cell_type": "code",
   "execution_count": 82,
   "id": "122520a1-5d9b-440d-9a15-ad96b0066084",
   "metadata": {},
   "outputs": [
    {
     "data": {
      "text/plain": [
       "'ec'"
      ]
     },
     "execution_count": 82,
     "metadata": {},
     "output_type": "execute_result"
    }
   ],
   "source": [
    "s3[4:1:-2]"
   ]
  },
  {
   "cell_type": "markdown",
   "id": "7d8a9239-54e7-423c-b8e7-a61403095a96",
   "metadata": {},
   "source": [
    "### Lists\n",
    "__Lists__ are very similar to strings, except that each element can be of any type. The syntax for creating lists in Python is [...]."
   ]
  },
  {
   "cell_type": "code",
   "execution_count": 83,
   "id": "a3de7929-8049-4f5e-a1ff-4ce9a45ec713",
   "metadata": {},
   "outputs": [
    {
     "name": "stdout",
     "output_type": "stream",
     "text": [
      "<class 'list'>\n",
      "[1, 2, 3, 4]\n"
     ]
    }
   ],
   "source": [
    "l = [1,2,3,4]\n",
    "\n",
    "print(type(l))\n",
    "print(l)"
   ]
  },
  {
   "cell_type": "code",
   "execution_count": 84,
   "id": "0bd0fe04-79e3-42dc-b508-a59c59a0a163",
   "metadata": {},
   "outputs": [
    {
     "name": "stdout",
     "output_type": "stream",
     "text": [
      "[1, 2, 3, 4]\n",
      "[2, 3]\n",
      "[1, 3]\n"
     ]
    },
    {
     "data": {
      "text/plain": [
       "4"
      ]
     },
     "execution_count": 84,
     "metadata": {},
     "output_type": "execute_result"
    }
   ],
   "source": [
    "print(l)\n",
    "print(l[1:3])\n",
    "print(l[::2])\n",
    "len(l)"
   ]
  },
  {
   "cell_type": "code",
   "execution_count": 85,
   "id": "64a3341a-ec53-4a4a-901d-dca164830e10",
   "metadata": {},
   "outputs": [
    {
     "name": "stdout",
     "output_type": "stream",
     "text": [
      "[1, 'a', 1.0, (1-1j)]\n"
     ]
    }
   ],
   "source": [
    "#Elements in a list do not all have to be of the same type\n",
    "\n",
    "l = [1, 'a', 1.0, 1-1j]\n",
    "print(l)"
   ]
  },
  {
   "cell_type": "markdown",
   "id": "84b7a8c4-7825-4bb3-a904-0410ed179749",
   "metadata": {},
   "source": [
    "__Generating lists__"
   ]
  },
  {
   "cell_type": "code",
   "execution_count": 86,
   "id": "1b4703a4-9f09-46e9-831e-a112b5b1d43f",
   "metadata": {},
   "outputs": [
    {
     "data": {
      "text/plain": [
       "[10, 12, 14, 16, 18, 20, 22, 24, 26, 28]"
      ]
     },
     "execution_count": 86,
     "metadata": {},
     "output_type": "execute_result"
    }
   ],
   "source": [
    "start = 10\n",
    "stop = 30\n",
    "step = 2\n",
    "# in python 3 range generates an interator, which can be converted to a list using 'list(...)'.\n",
    "# It has no effect in python 2\n",
    "list(range(start, stop, step))"
   ]
  },
  {
   "cell_type": "code",
   "execution_count": 87,
   "id": "1e6fd744-ec23-4b5e-bcd8-341a03012a09",
   "metadata": {},
   "outputs": [
    {
     "data": {
      "text/plain": [
       "[-10, -9, -8, -7, -6, -5, -4, -3, -2, -1, 0, 1, 2, 3, 4, 5, 6, 7, 8, 9]"
      ]
     },
     "execution_count": 87,
     "metadata": {},
     "output_type": "execute_result"
    }
   ],
   "source": [
    "list(range(-10, 10)) #by default step=1"
   ]
  },
  {
   "cell_type": "code",
   "execution_count": 132,
   "id": "514f52e0-98b5-4874-bc51-74c337b2e680",
   "metadata": {},
   "outputs": [
    {
     "data": {
      "text/plain": [
       "list"
      ]
     },
     "execution_count": 132,
     "metadata": {},
     "output_type": "execute_result"
    }
   ],
   "source": [
    "L = [9, 6,0,3]\n",
    "type(L)"
   ]
  },
  {
   "cell_type": "code",
   "execution_count": 133,
   "id": "1a456286-1c5a-453b-b97a-d244a8e63c7e",
   "metadata": {},
   "outputs": [
    {
     "name": "stdout",
     "output_type": "stream",
     "text": [
      "The elements of the list L are [9, 6, 0, 3] \n",
      "The sorted list is [0, 3, 6, 9]\n"
     ]
    }
   ],
   "source": [
    "Ls=sorted(L)\n",
    "print('The elements of the list L are',L,'\\nThe sorted list is',Ls)\n",
    "#returns the list sorted but not mutated!"
   ]
  },
  {
   "cell_type": "markdown",
   "id": "cc1b7c6e-cf11-4fd7-9abe-2ae57491c06d",
   "metadata": {},
   "source": [
    "Python lists can be **inhomogeneous and arbitrarily nested**"
   ]
  },
  {
   "cell_type": "code",
   "execution_count": 115,
   "id": "c3e43d54-326b-422c-8be0-f7580ebde0db",
   "metadata": {},
   "outputs": [
    {
     "name": "stdout",
     "output_type": "stream",
     "text": [
      "[1, [2, [3, [4, [5]]]]]\n"
     ]
    }
   ],
   "source": [
    "nested_list = [1, [2, [3, [4, [5]]]]]\n",
    "print(nested_list)\n"
   ]
  },
  {
   "cell_type": "code",
   "execution_count": 127,
   "id": "0d93529b-ade3-45ea-b88c-51be1af3b84e",
   "metadata": {},
   "outputs": [
    {
     "data": {
      "text/plain": [
       "[4, [5]]"
      ]
     },
     "execution_count": 127,
     "metadata": {},
     "output_type": "execute_result"
    }
   ],
   "source": [
    "nested_list[1][1][1]"
   ]
  },
  {
   "cell_type": "markdown",
   "id": "57ae12b5-84e9-415b-ad02-9f955c598560",
   "metadata": {},
   "source": [
    "What about the *length* of a nested list?"
   ]
  },
  {
   "cell_type": "code",
   "execution_count": 125,
   "id": "16c16a57-b140-4b4a-8f1d-872b73b3a67e",
   "metadata": {},
   "outputs": [
    {
     "data": {
      "text/plain": [
       "2"
      ]
     },
     "execution_count": 125,
     "metadata": {},
     "output_type": "execute_result"
    }
   ],
   "source": [
    "len(nested_list[1][1][1])"
   ]
  },
  {
   "cell_type": "code",
   "execution_count": 117,
   "id": "0eab4352-0052-48a7-b52c-f112c2739019",
   "metadata": {},
   "outputs": [
    {
     "data": {
      "text/plain": [
       "2"
      ]
     },
     "execution_count": 117,
     "metadata": {},
     "output_type": "execute_result"
    }
   ],
   "source": [
    "len(nested_list)"
   ]
  },
  {
   "cell_type": "code",
   "execution_count": 130,
   "id": "091f727c-1280-4431-aab7-34057647ebcf",
   "metadata": {},
   "outputs": [
    {
     "data": {
      "text/plain": [
       "3"
      ]
     },
     "execution_count": 130,
     "metadata": {},
     "output_type": "execute_result"
    }
   ],
   "source": [
    "nested_list=[[1,2,3,45,6,7],[22,33,44,55],[11,13,14,15]]\n",
    "len(nested_list)"
   ]
  },
  {
   "cell_type": "code",
   "execution_count": 131,
   "id": "c99dd03a-0d44-467a-9f70-6a0b51f0824a",
   "metadata": {},
   "outputs": [
    {
     "data": {
      "text/plain": [
       "4"
      ]
     },
     "execution_count": 131,
     "metadata": {},
     "output_type": "execute_result"
    }
   ],
   "source": [
    "nested_list=[[1,2,3,45,6,7],[22,33,44,55],[11,13,14,15]]\n",
    "len(nested_list[1])"
   ]
  },
  {
   "cell_type": "markdown",
   "id": "e3239b7a-13b9-406a-8735-9d81717b9985",
   "metadata": {},
   "source": [
    "#### Manipulating lists\n",
    "\n",
    "The list is a data type that is __mutable__."
   ]
  },
  {
   "cell_type": "code",
   "execution_count": 88,
   "id": "9fb19231-6b8e-467c-9740-396026e1287f",
   "metadata": {},
   "outputs": [
    {
     "name": "stdout",
     "output_type": "stream",
     "text": [
      "['z', 'H', 'e', 'l', 'l', 'o', ' ', 'J', 'u', 'p', 'y', 't', 'e', 'r', ' ', '!']\n"
     ]
    }
   ],
   "source": [
    "# convert a string to a list by type casting:\n",
    "s2 = list(s)\n",
    "print(s2)"
   ]
  },
  {
   "cell_type": "code",
   "execution_count": 89,
   "id": "22e07b61-496a-4404-807a-dc2fa8a84bf4",
   "metadata": {},
   "outputs": [
    {
     "name": "stdout",
     "output_type": "stream",
     "text": [
      "[' ', ' ', '!', 'H', 'J', 'e', 'e', 'l', 'l', 'o', 'p', 'r', 't', 'u', 'y', 'z']\n"
     ]
    }
   ],
   "source": [
    "# sorting lists\n",
    "s2.sort()\n",
    "print(s2)"
   ]
  },
  {
   "cell_type": "code",
   "execution_count": 112,
   "id": "d048cd08-55fb-4316-befb-0ac27208cb8c",
   "metadata": {},
   "outputs": [
    {
     "name": "stdout",
     "output_type": "stream",
     "text": [
      "[9, 6, 3, 0]\n"
     ]
    }
   ],
   "source": [
    "L.sort(reverse=True) #same with L.reverse()\n",
    "print(L)"
   ]
  },
  {
   "cell_type": "code",
   "execution_count": 98,
   "id": "56a658f9-bed4-4bf0-b122-2f16d4f5b4f2",
   "metadata": {},
   "outputs": [
    {
     "name": "stdout",
     "output_type": "stream",
     "text": [
      "['A', 'd', 'd']\n"
     ]
    }
   ],
   "source": [
    "# create a new empty list\n",
    "l = []\n",
    "# add an element using append. Append changes the initial object.\n",
    "l.append(\"A\")\n",
    "l.append(\"d\")\n",
    "l.append(\"d\")\n",
    "print(l)"
   ]
  },
  {
   "cell_type": "code",
   "execution_count": 99,
   "id": "57c5c7b5-9276-43a4-ad91-554902209cbb",
   "metadata": {},
   "outputs": [
    {
     "name": "stdout",
     "output_type": "stream",
     "text": [
      "['A', 'p', 'p']\n"
     ]
    }
   ],
   "source": [
    "l[1] = \"p\"\n",
    "l[2] = \"p\"\n",
    "print(l)"
   ]
  },
  {
   "cell_type": "code",
   "execution_count": 101,
   "id": "aceb745c-ab39-4b71-9a25-ea806aa2b40a",
   "metadata": {},
   "outputs": [
    {
     "name": "stdout",
     "output_type": "stream",
     "text": [
      "['A', 'd', 'd']\n"
     ]
    }
   ],
   "source": [
    "l[1:3] = [\"d\", \"d\"] #the [num1:num2] means num1 to num2-1\n",
    "print(l)"
   ]
  },
  {
   "cell_type": "markdown",
   "id": "93b282ce-044f-4c23-b930-4283f63aad8b",
   "metadata": {},
   "source": [
    "__Insert__ an element at a __specific index__ by using ``insert``"
   ]
  },
  {
   "cell_type": "code",
   "execution_count": 102,
   "id": "03b81836-a2d4-4edb-abc3-312af68a957c",
   "metadata": {},
   "outputs": [
    {
     "name": "stdout",
     "output_type": "stream",
     "text": [
      "['i', 'n', 's', 'e', 'r', 't', 'A', 'd', 'd']\n"
     ]
    }
   ],
   "source": [
    "l.insert(0, \"i\")\n",
    "l.insert(1, \"n\")\n",
    "l.insert(2, \"s\")\n",
    "l.insert(3, \"e\")\n",
    "l.insert(4, \"r\")\n",
    "l.insert(5, \"t\")\n",
    "print(l)"
   ]
  },
  {
   "cell_type": "markdown",
   "id": "20cf931c-39ff-4105-8c57-fa65939680db",
   "metadata": {},
   "source": [
    "__Remove__ the first element with a specific value by using ``remove``"
   ]
  },
  {
   "cell_type": "code",
   "execution_count": 103,
   "id": "abe9a697-a5c9-40a9-84d2-c34f1e9b5ba2",
   "metadata": {},
   "outputs": [
    {
     "name": "stdout",
     "output_type": "stream",
     "text": [
      "['i', 'n', 's', 'e', 'r', 't', 'A', 'd']\n"
     ]
    }
   ],
   "source": [
    "l.remove('d')\n",
    "\n",
    "print(l)"
   ]
  },
  {
   "cell_type": "markdown",
   "id": "25e0a2a7-55ee-4f8c-a2b6-868888b72b9e",
   "metadata": {},
   "source": [
    "__Remove__ an element at a __specific location__ by using ``del``"
   ]
  },
  {
   "cell_type": "code",
   "execution_count": 104,
   "id": "4b37eaa7-6909-495b-915c-d6b69d0564a0",
   "metadata": {},
   "outputs": [
    {
     "name": "stdout",
     "output_type": "stream",
     "text": [
      "['i', 'n', 's', 'e', 'r', 't']\n"
     ]
    }
   ],
   "source": [
    "del l[7]\n",
    "del l[6]\n",
    "print(l)"
   ]
  },
  {
   "cell_type": "markdown",
   "id": "da859f45-b4a5-4982-a571-676d660e5ef3",
   "metadata": {},
   "source": [
    "__Remove__ the *last element* of the list by using ``pop``"
   ]
  },
  {
   "cell_type": "code",
   "execution_count": 106,
   "id": "06c63f16-bc03-4f09-8cf5-e0954a16a89f",
   "metadata": {},
   "outputs": [
    {
     "data": {
      "text/plain": [
       "'t'"
      ]
     },
     "execution_count": 106,
     "metadata": {},
     "output_type": "execute_result"
    }
   ],
   "source": [
    "l.pop()"
   ]
  },
  {
   "cell_type": "code",
   "execution_count": 107,
   "id": "a3240096-8898-48c7-8aaf-02d6a2d4c29e",
   "metadata": {},
   "outputs": [
    {
     "name": "stdout",
     "output_type": "stream",
     "text": [
      "['i', 'n', 's', 'e', 'r']\n"
     ]
    }
   ],
   "source": [
    "print(l)"
   ]
  },
  {
   "cell_type": "markdown",
   "id": "2904816c-30ec-4ba5-9c3e-de6d4c901359",
   "metadata": {},
   "source": [
    "How to __copy__ a list ?!"
   ]
  },
  {
   "cell_type": "code",
   "execution_count": 146,
   "id": "49831788-5b6c-4de5-b751-6329f0ae4502",
   "metadata": {},
   "outputs": [],
   "source": [
    "l1 = [1,2,3,4,5,6,7,8,9]"
   ]
  },
  {
   "cell_type": "code",
   "execution_count": 147,
   "id": "97eab292-6d73-4e08-a5fc-d41b42b79855",
   "metadata": {},
   "outputs": [],
   "source": [
    "l2 = l1"
   ]
  },
  {
   "cell_type": "code",
   "execution_count": 148,
   "id": "c4115c9f-0489-4b97-9e52-0a44fe12a659",
   "metadata": {},
   "outputs": [
    {
     "name": "stdout",
     "output_type": "stream",
     "text": [
      "[0, 2, 3, 4, 5, 6, 7, 8, 9]\n"
     ]
    }
   ],
   "source": [
    "l1[0] = 0\n",
    "print(l2)"
   ]
  },
  {
   "cell_type": "code",
   "execution_count": 149,
   "id": "1545eb34-5e5e-405a-b9a3-77e4da1de0ed",
   "metadata": {},
   "outputs": [],
   "source": [
    "l3=l1.copy()"
   ]
  },
  {
   "cell_type": "code",
   "execution_count": 152,
   "id": "69edecaf-38f6-4191-a232-e3792b6c74d6",
   "metadata": {},
   "outputs": [
    {
     "name": "stdout",
     "output_type": "stream",
     "text": [
      "Initially l3 is [0, 2, 3, 4, 5, 6, 7, 8, 9]\n",
      "\n",
      "After manipulating l1, l3 is [0, 2, 3, 4, 5, 6, 7, 8, 9]\n",
      "\n",
      "However, l2 is [1, 2, 3, 4, 5, 6, 7, 8, 9]\n"
     ]
    }
   ],
   "source": [
    "print('Initially l3 is',l3)\n",
    "l1[0] = 1\n",
    "print('\\nAfter manipulating l1, l3 is',l3)\n",
    "print('\\nHowever, l2 is',l2)"
   ]
  },
  {
   "cell_type": "markdown",
   "id": "798a5abb-7ef7-41d2-b2e7-b0a4fb3645b2",
   "metadata": {},
   "source": [
    "### Tuples\n",
    "Tuples are like lists, except that they cannot be modified once created, that is they are **immutable**. In Python, tuples are created using the syntax (..., ..., ...), or even ..., ..."
   ]
  },
  {
   "cell_type": "code",
   "execution_count": 134,
   "id": "d84223d0-f72a-4add-b31e-757eecd7aec1",
   "metadata": {},
   "outputs": [
    {
     "name": "stdout",
     "output_type": "stream",
     "text": [
      "<class 'tuple'>\n"
     ]
    }
   ],
   "source": [
    "te = ()\n",
    "print(type(te))"
   ]
  },
  {
   "cell_type": "code",
   "execution_count": 135,
   "id": "6b99e270-db10-4720-9c5c-29ddea033702",
   "metadata": {},
   "outputs": [
    {
     "name": "stdout",
     "output_type": "stream",
     "text": [
      "(1, 'auth', 4) <class 'tuple'>\n"
     ]
    }
   ],
   "source": [
    "t=(1, \"auth\", 4)\n",
    "\n",
    "print(t, type(t))"
   ]
  },
  {
   "cell_type": "code",
   "execution_count": 136,
   "id": "1e4fc843-5d67-45a1-bade-416ddf88fabf",
   "metadata": {},
   "outputs": [
    {
     "data": {
      "text/plain": [
       "(1, 'auth', 4, 7, 8)"
      ]
     },
     "execution_count": 136,
     "metadata": {},
     "output_type": "execute_result"
    }
   ],
   "source": [
    "t_new = t + (7,8)\n",
    "t_new"
   ]
  },
  {
   "cell_type": "code",
   "execution_count": 137,
   "id": "e1691ed9-da0a-4bb2-ae2f-fa8df48f1e03",
   "metadata": {},
   "outputs": [
    {
     "data": {
      "text/plain": [
       "('auth',)"
      ]
     },
     "execution_count": 137,
     "metadata": {},
     "output_type": "execute_result"
    }
   ],
   "source": [
    "t[1:2]\n",
    "\n",
    "#the extra comma represents a tuple object with one element  "
   ]
  },
  {
   "cell_type": "code",
   "execution_count": 138,
   "id": "f59726a0-7d31-49cc-9477-baad774e7807",
   "metadata": {},
   "outputs": [
    {
     "data": {
      "text/plain": [
       "('auth', 4)"
      ]
     },
     "execution_count": 138,
     "metadata": {},
     "output_type": "execute_result"
    }
   ],
   "source": [
    "t[1:3]"
   ]
  },
  {
   "cell_type": "code",
   "execution_count": 141,
   "id": "1c04d986-e73f-4cf7-8d21-f3307f865d51",
   "metadata": {},
   "outputs": [],
   "source": [
    "# this lines PACKS values\n",
    "# into variable a\n",
    "a = (\"Aristotle University of Thessaloniki\", \"Calculus 1\")  \n",
    " \n",
    "# this lines UNPACKS values\n",
    "# of variable a\n",
    "(university, subject) = a"
   ]
  },
  {
   "cell_type": "code",
   "execution_count": 142,
   "id": "1890ca98-dcc1-4cc2-92c4-3c22cf89f6dd",
   "metadata": {},
   "outputs": [
    {
     "data": {
      "text/plain": [
       "'Aristotle University of Thessaloniki'"
      ]
     },
     "execution_count": 142,
     "metadata": {},
     "output_type": "execute_result"
    }
   ],
   "source": [
    "university"
   ]
  },
  {
   "cell_type": "markdown",
   "id": "8d633839-427b-4994-af7d-0ee1da6575c4",
   "metadata": {},
   "source": [
    "## Control Flow\n",
    "\n",
    "Instead of __{ }__ Python is __indent__ sensitive. Program blocks are defined by their __indentation level__.\n",
    "\n",
    "The Python syntax for conditional execution of code uses the keywords ``if``, ``elif`` (else if), ``else``"
   ]
  },
  {
   "cell_type": "code",
   "execution_count": 154,
   "id": "18aa660b-6fe0-4d6b-95c2-32cbb1f36991",
   "metadata": {},
   "outputs": [
    {
     "name": "stdout",
     "output_type": "stream",
     "text": [
      "statement1 and statement2 are False\n"
     ]
    }
   ],
   "source": [
    "statement1 = False\n",
    "statement2 = False\n",
    "\n",
    "if statement1:\n",
    "    print(\"statement1 is True\")\n",
    "\n",
    "elif statement2:\n",
    "    print(\"statement2 is True\")\n",
    "\n",
    "else:\n",
    "    print(\"statement1 and statement2 are False\")\n",
    "\n",
    "#equivalent C code\n",
    "# if (statement1)\n",
    "# {\n",
    "#   printf(\"statement1 is True\\n\");\n",
    "# }\n",
    "# else if (statement2)\n",
    "# {\n",
    "#   printf(\"statement2 is True\\n\");\n",
    "# }      \n",
    "# else\n",
    "# {\n",
    "#   printf(\"statement1 and statement2 are False\\n\");\n",
    "# }"
   ]
  },
  {
   "cell_type": "code",
   "execution_count": 156,
   "id": "d1eefa3f-a454-4346-926e-cb89432ba506",
   "metadata": {},
   "outputs": [
    {
     "name": "stdout",
     "output_type": "stream",
     "text": [
      "both statement1 and statement2 are True\n",
      "\n",
      "outside of the if block\n"
     ]
    }
   ],
   "source": [
    "statement1 = statement2 = True\n",
    "if statement1:\n",
    "    if statement2: #nested condition\n",
    "        print(\"both statement1 and statement2 are True\")\n",
    "print('\\noutside of the if block')"
   ]
  },
  {
   "cell_type": "code",
   "execution_count": 158,
   "id": "83b75ba4-f1d3-4d31-bb16-8abb3fa3b83a",
   "metadata": {},
   "outputs": [
    {
     "name": "stdin",
     "output_type": "stream",
     "text": [
      "Enter a number for x:  1\n",
      "Enter a number for y:  2\n"
     ]
    },
    {
     "name": "stdout",
     "output_type": "stream",
     "text": [
      "x / y is 0.5\n"
     ]
    }
   ],
   "source": [
    "x = float(input(\"Enter a number for x: \"))\n",
    "y = float(input(\"Enter a number for y: \"))\n",
    "if x == y:\n",
    "    print(\"You enter the same values!\")\n",
    "if y != 0:\n",
    "    print(\"x / y is\", x/y)\n",
    "elif x < y:\n",
    "    print(\"x is smaller\")\n",
    "else:\n",
    "    print(\"y is smaller\")"
   ]
  },
  {
   "cell_type": "code",
   "execution_count": 159,
   "id": "bb0dce4e-305e-405c-8720-25c0971af0f0",
   "metadata": {},
   "outputs": [
    {
     "name": "stdin",
     "output_type": "stream",
     "text": [
      "Enter a number for x:  1\n",
      "Enter a number for y:  2\n"
     ]
    },
    {
     "name": "stdout",
     "output_type": "stream",
     "text": [
      "x / y is 0.5\n",
      "x is smaller\n"
     ]
    }
   ],
   "source": [
    "x = float(input(\"Enter a number for x: \"))\n",
    "y = float(input(\"Enter a number for y: \"))\n",
    "if x == y:\n",
    "    print(\"You enter the same values!\")\n",
    "if y != 0:\n",
    "    print(\"x / y is\", x/y)\n",
    "    if x < y:\n",
    "        print(\"x is smaller\")\n",
    "    else:\n",
    "        print(\"y is smaller\")"
   ]
  },
  {
   "cell_type": "markdown",
   "id": "78fe3b18-8aaa-45f1-824c-37979a89d583",
   "metadata": {},
   "source": [
    "## Loops"
   ]
  },
  {
   "cell_type": "markdown",
   "id": "9aeb0241-4d60-4781-bdb9-e91710dcaf4d",
   "metadata": {},
   "source": [
    "### While loops"
   ]
  },
  {
   "cell_type": "code",
   "execution_count": 160,
   "id": "e7137d29-b91d-4502-a91f-5e4ceeffebbb",
   "metadata": {},
   "outputs": [
    {
     "name": "stdout",
     "output_type": "stream",
     "text": [
      "0\n",
      "1\n",
      "2\n",
      "3\n",
      "4\n",
      "done\n"
     ]
    }
   ],
   "source": [
    "i = 0\n",
    "while i < 5:\n",
    "  print(i)\n",
    "  i = i + 1\n",
    "print(\"done\")"
   ]
  },
  {
   "cell_type": "code",
   "execution_count": 161,
   "id": "37cdff3d-0f7b-47a5-aeaf-43fc29e27e42",
   "metadata": {},
   "outputs": [
    {
     "name": "stdin",
     "output_type": "stream",
     "text": [
      "You're in the Lost Forest. Go left or right?  right\n",
      "You're in the Lost Forest. Go left or right?  right\n",
      "You're in the Lost Forest. Go left or right?  left\n"
     ]
    },
    {
     "name": "stdout",
     "output_type": "stream",
     "text": [
      "You got out of the Lost Forest!\n"
     ]
    }
   ],
   "source": [
    "n = input(\"You're in the Lost Forest. Go left or right? \")\n",
    "while n == \"right\" or n==\"Right\" or n==\"RIGHT\":\n",
    "    n = input(\"You're in the Lost Forest. Go left or right? \")\n",
    "print(\"You got out of the Lost Forest!\")"
   ]
  },
  {
   "cell_type": "markdown",
   "id": "b2e490b3-38e8-443d-81fc-7a3b747ad4ec",
   "metadata": {},
   "source": [
    "Beware of infinite loops!\n",
    "\n",
    "```Python\n",
    "while True:\n",
    "  print(0)\n",
    "```"
   ]
  },
  {
   "cell_type": "markdown",
   "id": "56435986-20f9-4514-9a5f-4cb76fb75de9",
   "metadata": {},
   "source": [
    "### For loops\n",
    "\n",
    "The __most common__ is the __for loop__, which is used together with __iterable objects__, such as lists.\n",
    "\n",
    "The for loop iterates over the elements of the supplied list, and executes the containing block once for each element."
   ]
  },
  {
   "cell_type": "code",
   "execution_count": 162,
   "id": "48b0b3d8-a783-48b7-868e-c945f3db70c9",
   "metadata": {},
   "outputs": [
    {
     "name": "stdout",
     "output_type": "stream",
     "text": [
      "0\n",
      "1\n",
      "2\n",
      "3\n",
      "4\n"
     ]
    }
   ],
   "source": [
    "for x in range(5): #  by default range start at 0, does not include 5 !\n",
    "    print(x)"
   ]
  },
  {
   "cell_type": "code",
   "execution_count": 163,
   "id": "43a931a9-a8d7-45fc-9408-dfb12850a340",
   "metadata": {},
   "outputs": [
    {
     "name": "stdout",
     "output_type": "stream",
     "text": [
      "-3\n",
      "-2\n",
      "-1\n",
      "0\n",
      "1\n",
      "2\n"
     ]
    }
   ],
   "source": [
    "for x in range(-3,3):\n",
    "    print(x)"
   ]
  },
  {
   "cell_type": "code",
   "execution_count": 164,
   "id": "a9d6328d-02b7-4c95-8b4b-6ef4d913396b",
   "metadata": {},
   "outputs": [
    {
     "name": "stdout",
     "output_type": "stream",
     "text": [
      "scientific\n",
      "computing\n",
      "with\n",
      "python\n"
     ]
    }
   ],
   "source": [
    "for word in [\"scientific\", \"computing\", \"with\", \"python\"]:\n",
    "    print(word)"
   ]
  },
  {
   "cell_type": "code",
   "execution_count": 165,
   "id": "c36fbef1-07de-4b82-934f-0956bb579a61",
   "metadata": {},
   "outputs": [
    {
     "name": "stdout",
     "output_type": "stream",
     "text": [
      "(0, 'scientific')\n",
      "(1, 'computing')\n",
      "(2, 'with')\n",
      "(3, 'python')\n"
     ]
    }
   ],
   "source": [
    "for i in zip(range(0,5),[\"scientific\", \"computing\", \"with\", \"python\"]):\n",
    "    print(i)"
   ]
  },
  {
   "cell_type": "code",
   "execution_count": 166,
   "id": "aeec507f-b951-4dc2-9c54-7ffdb30bbb0e",
   "metadata": {},
   "outputs": [
    {
     "name": "stdout",
     "output_type": "stream",
     "text": [
      "0 -3\n",
      "1 -2\n",
      "2 -1\n",
      "3 0\n",
      "4 1\n",
      "5 2\n"
     ]
    }
   ],
   "source": [
    "for idx, x in enumerate(range(-3,3)):\n",
    "    print(idx, x)"
   ]
  },
  {
   "cell_type": "code",
   "execution_count": 186,
   "id": "35698935-9d03-45c2-994a-15814c719974",
   "metadata": {},
   "outputs": [
    {
     "name": "stdout",
     "output_type": "stream",
     "text": [
      "i equals 1\n",
      "i equals 3\n",
      "mysum = 5\n"
     ]
    }
   ],
   "source": [
    "mysum = 0\n",
    "for i in [1, 3, 7]:\n",
    "    print('i equals '+str(i))\n",
    "    mysum += i\n",
    "    if mysum == 5: break\n",
    "    mysum += 1\n",
    "print('mysum =',mysum)"
   ]
  },
  {
   "cell_type": "markdown",
   "id": "878b9c13-e2d5-4774-a03e-f4b192870dde",
   "metadata": {},
   "source": [
    "**Creating lists using for loops**"
   ]
  },
  {
   "cell_type": "code",
   "execution_count": 204,
   "id": "57282ca8-d1e4-485a-9af9-2539afae1bc0",
   "metadata": {},
   "outputs": [
    {
     "name": "stdout",
     "output_type": "stream",
     "text": [
      "[0, 1, 4, 9, 16]\n"
     ]
    }
   ],
   "source": [
    "l1 = [x**2 for x in range(0,5)]\n",
    "print(l1)"
   ]
  },
  {
   "cell_type": "code",
   "execution_count": 221,
   "id": "592cfe62-0ce4-4203-927d-88f89ad546d8",
   "metadata": {},
   "outputs": [],
   "source": [
    "b=[5,6,7,8]\n",
    "l3=[x for x in a for a in b]"
   ]
  },
  {
   "cell_type": "code",
   "execution_count": 222,
   "id": "9227c541-46d1-4198-a7ed-423be9665904",
   "metadata": {},
   "outputs": [
    {
     "data": {
      "text/plain": [
       "[[1, 2], [1, 2], [1, 2], [1, 2], [3, 4], [3, 4], [3, 4], [3, 4]]"
      ]
     },
     "execution_count": 222,
     "metadata": {},
     "output_type": "execute_result"
    }
   ],
   "source": [
    "l3"
   ]
  },
  {
   "cell_type": "code",
   "execution_count": 229,
   "id": "d1988bde-be7c-430d-b0d2-8956436a3ff6",
   "metadata": {},
   "outputs": [
    {
     "data": {
      "text/plain": [
       "['Introduction', 'to', 'Python', '!']"
      ]
     },
     "execution_count": 229,
     "metadata": {},
     "output_type": "execute_result"
    }
   ],
   "source": [
    "text = ((\"Introduction\", \"to\"), (\"Python\", \"!\"))\n",
    "[word for sentence in text for word in sentence]"
   ]
  },
  {
   "cell_type": "markdown",
   "id": "7893271f-bd79-4976-bff1-f4f356530a73",
   "metadata": {},
   "source": [
    "Let's explain the above!"
   ]
  },
  {
   "cell_type": "code",
   "execution_count": 230,
   "id": "95a2db01-46eb-4913-9373-0a729af4de3d",
   "metadata": {},
   "outputs": [
    {
     "name": "stdout",
     "output_type": "stream",
     "text": [
      "sentence value ('Introduction', 'to')\n",
      "sentence value ('Python', '!')\n"
     ]
    }
   ],
   "source": [
    "for sentence in text:\n",
    "    print('sentence value',sentence)"
   ]
  },
  {
   "cell_type": "code",
   "execution_count": 232,
   "id": "97378d05-c167-4435-81a4-3758b74b87f9",
   "metadata": {},
   "outputs": [
    {
     "name": "stdout",
     "output_type": "stream",
     "text": [
      "sentence value ('Introduction', 'to')\n",
      "word= Introduction\n",
      "word= to\n",
      "sentence value ('Python', '!')\n",
      "word= Python\n",
      "word= !\n"
     ]
    }
   ],
   "source": [
    "for sentence in text:\n",
    "    print('sentence value',sentence)\n",
    "    for word in sentence: print('word=',word)"
   ]
  },
  {
   "cell_type": "markdown",
   "id": "e6adc0d2-c319-4021-a83e-c3127a7f55eb",
   "metadata": {},
   "source": [
    "## Dictionaries\n",
    "\n",
    "Dictionaries are a container that store key-value pairs. They are unordered."
   ]
  },
  {
   "cell_type": "code",
   "execution_count": 233,
   "id": "ff195af4-4297-4c45-b5ea-a8b39f95234e",
   "metadata": {},
   "outputs": [
    {
     "data": {
      "text/plain": [
       "{'Apple': 1, 'Orange': 2, 'Pear': 4}"
      ]
     },
     "execution_count": 233,
     "metadata": {},
     "output_type": "execute_result"
    }
   ],
   "source": [
    "pairs = {'Apple': 1, 'Orange': 2, 'Pear': 4}\n",
    "pairs"
   ]
  },
  {
   "cell_type": "code",
   "execution_count": 234,
   "id": "8f2b8bda-085d-4649-8350-039aa7122605",
   "metadata": {},
   "outputs": [
    {
     "data": {
      "text/plain": [
       "2"
      ]
     },
     "execution_count": 234,
     "metadata": {},
     "output_type": "execute_result"
    }
   ],
   "source": [
    "pairs['Orange']"
   ]
  },
  {
   "cell_type": "code",
   "execution_count": 235,
   "id": "c8752b4d-ee43-46a6-a622-411f8f8df51d",
   "metadata": {},
   "outputs": [
    {
     "data": {
      "text/plain": [
       "{'Apple': 1, 'Orange': 16, 'Pear': 4}"
      ]
     },
     "execution_count": 235,
     "metadata": {},
     "output_type": "execute_result"
    }
   ],
   "source": [
    "pairs['Orange'] = 16\n",
    "pairs"
   ]
  },
  {
   "cell_type": "markdown",
   "id": "c277b2ee-54ac-4fb2-8725-568649a5f002",
   "metadata": {},
   "source": [
    "## Functions\n",
    "\n",
    "A **function** in Python is defined using the keyword ``def``, followed by a *function name*, a *signature* within parentheses (), and a *colon*.\n",
    "\n",
    "Optionally, but highly recommended, we can define a so called **docstring**, which is a description of the functions purpose and behavior. The docstring should follow directly after the function denition, before the code in the function body."
   ]
  },
  {
   "cell_type": "code",
   "execution_count": 242,
   "id": "be7e1023-082f-45f7-b762-a5d87ccfc86f",
   "metadata": {},
   "outputs": [],
   "source": [
    "def func1(s):\n",
    "    \"\"\"\n",
    "    Print a string 's' and tell how many characters it has\n",
    "    \"\"\"\n",
    "    print(s + \" has \" + str(len(s)) + \" characters\")"
   ]
  },
  {
   "cell_type": "code",
   "execution_count": 243,
   "id": "bfd896ea-bf5f-40a2-a67b-8edc925cc7bc",
   "metadata": {},
   "outputs": [
    {
     "name": "stdout",
     "output_type": "stream",
     "text": [
      "Help on function func1 in module __main__:\n",
      "\n",
      "func1(s)\n",
      "    Print a string 's' and tell how many characters it has\n",
      "\n"
     ]
    }
   ],
   "source": [
    "help(func1)"
   ]
  },
  {
   "cell_type": "code",
   "execution_count": 237,
   "id": "d26ed3be-90d3-4765-afd5-a8c552593517",
   "metadata": {},
   "outputs": [
    {
     "name": "stdout",
     "output_type": "stream",
     "text": [
      "Numerical has 9 characters\n"
     ]
    }
   ],
   "source": [
    "func1(\"Numerical\")"
   ]
  },
  {
   "cell_type": "code",
   "execution_count": 238,
   "id": "87dc33c3-136c-42be-84a1-7aeb0d375539",
   "metadata": {},
   "outputs": [
    {
     "name": "stdout",
     "output_type": "stream",
     "text": [
      "Analysis has 8 characters\n"
     ]
    }
   ],
   "source": [
    "func1(\"Analysis\")"
   ]
  },
  {
   "cell_type": "code",
   "execution_count": 239,
   "id": "360acd6f-3975-45f0-a837-2f86baed61ca",
   "metadata": {},
   "outputs": [
    {
     "name": "stdout",
     "output_type": "stream",
     "text": [
      "Numerical Analysis! has 19 characters\n"
     ]
    }
   ],
   "source": [
    "func1(\"Numerical Analysis!\")"
   ]
  },
  {
   "cell_type": "markdown",
   "id": "c136c827-eb04-4974-8d7a-3f7f37a37de4",
   "metadata": {},
   "source": [
    "We can return multiple values from a function using tuples"
   ]
  },
  {
   "cell_type": "code",
   "execution_count": 244,
   "id": "912437dd-11ae-42df-9973-f19b7a65d269",
   "metadata": {},
   "outputs": [],
   "source": [
    "def powers(x):\n",
    "    \"\"\"\n",
    "    Return a few powers of x.\n",
    "    \"\"\"\n",
    "    return x ** 2, x ** 3, x ** 4"
   ]
  },
  {
   "cell_type": "code",
   "execution_count": 245,
   "id": "83c95111-046c-4a97-966e-88c0732f36d4",
   "metadata": {},
   "outputs": [
    {
     "data": {
      "text/plain": [
       "(9, 27, 81)"
      ]
     },
     "execution_count": 245,
     "metadata": {},
     "output_type": "execute_result"
    }
   ],
   "source": [
    "powers(3)"
   ]
  },
  {
   "cell_type": "code",
   "execution_count": 246,
   "id": "1da9bc9f-f5d7-40e1-ac97-7ad12edacbfc",
   "metadata": {},
   "outputs": [
    {
     "name": "stdout",
     "output_type": "stream",
     "text": [
      "81\n"
     ]
    }
   ],
   "source": [
    "x2, x3, x4 = powers(3)\n",
    "print(x4)"
   ]
  },
  {
   "cell_type": "code",
   "execution_count": 251,
   "id": "f6f0fbf8-eb03-4df2-a5df-60a67c59dc26",
   "metadata": {},
   "outputs": [],
   "source": [
    "def xtop(x, p):\n",
    "    return x**p"
   ]
  },
  {
   "cell_type": "code",
   "execution_count": 252,
   "id": "54b4255d-6593-4eb2-b401-7d8ec8f4f1db",
   "metadata": {},
   "outputs": [
    {
     "data": {
      "text/plain": [
       "243"
      ]
     },
     "execution_count": 252,
     "metadata": {},
     "output_type": "execute_result"
    }
   ],
   "source": [
    "xtop(3,5)"
   ]
  },
  {
   "cell_type": "code",
   "execution_count": 253,
   "id": "b9105ed5-d662-438a-969b-1818441db7b6",
   "metadata": {},
   "outputs": [
    {
     "data": {
      "text/plain": [
       "125"
      ]
     },
     "execution_count": 253,
     "metadata": {},
     "output_type": "execute_result"
    }
   ],
   "source": [
    "xtop(5,3)"
   ]
  },
  {
   "cell_type": "markdown",
   "id": "35bea09e-d0bd-4ff1-b1cc-e090b018febc",
   "metadata": {},
   "source": [
    "#### Default argument and keyword arguments\n",
    "\n",
    "In a definition of a function, we can give default values to the arguments the function takes"
   ]
  },
  {
   "cell_type": "code",
   "execution_count": 247,
   "id": "19fa30b4-176d-4cd9-ad4e-b3a5407247fb",
   "metadata": {},
   "outputs": [],
   "source": [
    "def myfunc(x, p=2, debug=False):\n",
    "    if debug:\n",
    "        print(\"evaluating myfunc for x = \" + str(x) + \" using exponent p = \" + str(p))\n",
    "    return x**p"
   ]
  },
  {
   "cell_type": "code",
   "execution_count": 248,
   "id": "a75013e0-c25e-4ae6-a024-28b9fc3d4d63",
   "metadata": {},
   "outputs": [
    {
     "data": {
      "text/plain": [
       "25"
      ]
     },
     "execution_count": 248,
     "metadata": {},
     "output_type": "execute_result"
    }
   ],
   "source": [
    "myfunc(5)"
   ]
  },
  {
   "cell_type": "code",
   "execution_count": 249,
   "id": "cc3c558d-45d0-4569-a710-08176e8c43f3",
   "metadata": {},
   "outputs": [
    {
     "name": "stdout",
     "output_type": "stream",
     "text": [
      "evaluating myfunc for x = 5 using exponent p = 3\n"
     ]
    },
    {
     "data": {
      "text/plain": [
       "125"
      ]
     },
     "execution_count": 249,
     "metadata": {},
     "output_type": "execute_result"
    }
   ],
   "source": [
    "myfunc(5, p=3, debug=True)"
   ]
  },
  {
   "cell_type": "markdown",
   "id": "e011de09-7c9c-4e4a-9d79-ec2700f03a2c",
   "metadata": {},
   "source": [
    "If we explicitly list the name of the arguments in the function calls, they do not need to come in the same order as in the function definition. This is called **keyword arguments**."
   ]
  },
  {
   "cell_type": "code",
   "execution_count": 254,
   "id": "d9b80bbb-550a-4ebb-b2f5-31d83bf4c474",
   "metadata": {},
   "outputs": [
    {
     "name": "stdout",
     "output_type": "stream",
     "text": [
      "evaluating myfunc for x = 5 using exponent p = 3\n"
     ]
    },
    {
     "data": {
      "text/plain": [
       "125"
      ]
     },
     "execution_count": 254,
     "metadata": {},
     "output_type": "execute_result"
    }
   ],
   "source": [
    "myfunc(p=3, debug=True, x=5)"
   ]
  },
  {
   "cell_type": "markdown",
   "id": "2fafa1b3-7b58-4b53-a6e0-58b7e4e49c2b",
   "metadata": {},
   "source": [
    "#### Unnamed functions (lambda function)"
   ]
  },
  {
   "cell_type": "code",
   "execution_count": 255,
   "id": "edc1d53b-1304-4dfe-8a14-d151b4f4aa38",
   "metadata": {},
   "outputs": [
    {
     "data": {
      "text/plain": [
       "(4, 4)"
      ]
     },
     "execution_count": 255,
     "metadata": {},
     "output_type": "execute_result"
    }
   ],
   "source": [
    "f1 = lambda x: x**2\n",
    "\n",
    "# is equivalent to\n",
    "def f2(x):\n",
    "    return x**2\n",
    "\n",
    "f1(2), f2(2)"
   ]
  },
  {
   "cell_type": "markdown",
   "id": "b8ff459c-ea1f-4f39-b638-0f1c6d6956c9",
   "metadata": {},
   "source": [
    "``map()`` function returns a map object (which is an iterator) of the results after applying the given function to each item of a given iterable (list, tuple etc.)"
   ]
  },
  {
   "cell_type": "code",
   "execution_count": 256,
   "id": "9ff7f620-a1ff-49f4-a6e5-3f999a3100cf",
   "metadata": {},
   "outputs": [
    {
     "data": {
      "text/plain": [
       "[9, 4, 1, 0, 1, 4, 9]"
      ]
     },
     "execution_count": 256,
     "metadata": {},
     "output_type": "execute_result"
    }
   ],
   "source": [
    "list(map(lambda x: x**2, range(-3,4)))"
   ]
  },
  {
   "cell_type": "code",
   "execution_count": 259,
   "id": "fe2b83bf-8266-4446-90b9-fbfcfee4c4ef",
   "metadata": {},
   "outputs": [
    {
     "data": {
      "text/plain": [
       "(0, 1, 4, 9, 16)"
      ]
     },
     "execution_count": 259,
     "metadata": {},
     "output_type": "execute_result"
    }
   ],
   "source": [
    "tuple(map(lambda x: x**2, range(0,5)))"
   ]
  },
  {
   "cell_type": "markdown",
   "id": "17187840-caf6-4407-af88-52dffc415825",
   "metadata": {},
   "source": [
    "## Modules\n",
    "Most of the functionality in Python is provided by modules. A module can be imported using the ``import`` statement.\n",
    "\n",
    "In object-oriented programming languages like Python, an object is an entity that contains data along with associated metadata and/or functionality.\n",
    "\n",
    "In Python *everything* is an object, which means every entity has some metadata (called attributes) and associated functionality (called methods).\n",
    "\n",
    "These attributes and methods are accessed via the **dot syntax**: *object_name. do_something()*"
   ]
  },
  {
   "cell_type": "code",
   "execution_count": 260,
   "id": "7a1fd932-5439-4464-afcd-59b322c66b94",
   "metadata": {},
   "outputs": [
    {
     "name": "stdout",
     "output_type": "stream",
     "text": [
      "1.0\n"
     ]
    }
   ],
   "source": [
    "import math\n",
    "\n",
    "x = math.cos(2 * math.pi)\n",
    "\n",
    "print(x)"
   ]
  },
  {
   "cell_type": "code",
   "execution_count": 261,
   "id": "300533d9-775f-4990-8d73-9c1f3a76e1e8",
   "metadata": {},
   "outputs": [
    {
     "name": "stdout",
     "output_type": "stream",
     "text": [
      "1.0\n"
     ]
    }
   ],
   "source": [
    "from math import *\n",
    "\n",
    "x = cos(2 * pi)\n",
    "\n",
    "print(x)"
   ]
  },
  {
   "cell_type": "code",
   "execution_count": 262,
   "id": "425ecffc-3a6d-43f3-afd3-7a3d367595e3",
   "metadata": {},
   "outputs": [
    {
     "name": "stdout",
     "output_type": "stream",
     "text": [
      "['__doc__', '__file__', '__loader__', '__name__', '__package__', '__spec__', 'acos', 'acosh', 'asin', 'asinh', 'atan', 'atan2', 'atanh', 'ceil', 'comb', 'copysign', 'cos', 'cosh', 'degrees', 'dist', 'e', 'erf', 'erfc', 'exp', 'expm1', 'fabs', 'factorial', 'floor', 'fmod', 'frexp', 'fsum', 'gamma', 'gcd', 'hypot', 'inf', 'isclose', 'isfinite', 'isinf', 'isnan', 'isqrt', 'lcm', 'ldexp', 'lgamma', 'log', 'log10', 'log1p', 'log2', 'modf', 'nan', 'nextafter', 'perm', 'pi', 'pow', 'prod', 'radians', 'remainder', 'sin', 'sinh', 'sqrt', 'tan', 'tanh', 'tau', 'trunc', 'ulp']\n"
     ]
    }
   ],
   "source": [
    "print(dir(math))"
   ]
  },
  {
   "cell_type": "code",
   "execution_count": 263,
   "id": "de22e3b1-8f1c-4fd8-9997-a0547351cfd7",
   "metadata": {},
   "outputs": [
    {
     "name": "stdout",
     "output_type": "stream",
     "text": [
      "Help on built-in function log in module math:\n",
      "\n",
      "log(...)\n",
      "    log(x, [base=math.e])\n",
      "    Return the logarithm of x to the given base.\n",
      "    \n",
      "    If the base not specified, returns the natural logarithm (base e) of x.\n",
      "\n"
     ]
    }
   ],
   "source": [
    "help(math.log)"
   ]
  },
  {
   "cell_type": "code",
   "execution_count": 264,
   "id": "0f8178ca-0d89-4ca0-b7cf-4715cc2a09ef",
   "metadata": {},
   "outputs": [
    {
     "name": "stdout",
     "output_type": "stream",
     "text": [
      "Help on module math:\n",
      "\n",
      "NAME\n",
      "    math\n",
      "\n",
      "MODULE REFERENCE\n",
      "    https://docs.python.org/3.9/library/math\n",
      "    \n",
      "    The following documentation is automatically generated from the Python\n",
      "    source files.  It may be incomplete, incorrect or include features that\n",
      "    are considered implementation detail and may vary between Python\n",
      "    implementations.  When in doubt, consult the module reference at the\n",
      "    location listed above.\n",
      "\n",
      "DESCRIPTION\n",
      "    This module provides access to the mathematical functions\n",
      "    defined by the C standard.\n",
      "\n",
      "FUNCTIONS\n",
      "    acos(x, /)\n",
      "        Return the arc cosine (measured in radians) of x.\n",
      "        \n",
      "        The result is between 0 and pi.\n",
      "    \n",
      "    acosh(x, /)\n",
      "        Return the inverse hyperbolic cosine of x.\n",
      "    \n",
      "    asin(x, /)\n",
      "        Return the arc sine (measured in radians) of x.\n",
      "        \n",
      "        The result is between -pi/2 and pi/2.\n",
      "    \n",
      "    asinh(x, /)\n",
      "        Return the inverse hyperbolic sine of x.\n",
      "    \n",
      "    atan(x, /)\n",
      "        Return the arc tangent (measured in radians) of x.\n",
      "        \n",
      "        The result is between -pi/2 and pi/2.\n",
      "    \n",
      "    atan2(y, x, /)\n",
      "        Return the arc tangent (measured in radians) of y/x.\n",
      "        \n",
      "        Unlike atan(y/x), the signs of both x and y are considered.\n",
      "    \n",
      "    atanh(x, /)\n",
      "        Return the inverse hyperbolic tangent of x.\n",
      "    \n",
      "    ceil(x, /)\n",
      "        Return the ceiling of x as an Integral.\n",
      "        \n",
      "        This is the smallest integer >= x.\n",
      "    \n",
      "    comb(n, k, /)\n",
      "        Number of ways to choose k items from n items without repetition and without order.\n",
      "        \n",
      "        Evaluates to n! / (k! * (n - k)!) when k <= n and evaluates\n",
      "        to zero when k > n.\n",
      "        \n",
      "        Also called the binomial coefficient because it is equivalent\n",
      "        to the coefficient of k-th term in polynomial expansion of the\n",
      "        expression (1 + x)**n.\n",
      "        \n",
      "        Raises TypeError if either of the arguments are not integers.\n",
      "        Raises ValueError if either of the arguments are negative.\n",
      "    \n",
      "    copysign(x, y, /)\n",
      "        Return a float with the magnitude (absolute value) of x but the sign of y.\n",
      "        \n",
      "        On platforms that support signed zeros, copysign(1.0, -0.0)\n",
      "        returns -1.0.\n",
      "    \n",
      "    cos(x, /)\n",
      "        Return the cosine of x (measured in radians).\n",
      "    \n",
      "    cosh(x, /)\n",
      "        Return the hyperbolic cosine of x.\n",
      "    \n",
      "    degrees(x, /)\n",
      "        Convert angle x from radians to degrees.\n",
      "    \n",
      "    dist(p, q, /)\n",
      "        Return the Euclidean distance between two points p and q.\n",
      "        \n",
      "        The points should be specified as sequences (or iterables) of\n",
      "        coordinates.  Both inputs must have the same dimension.\n",
      "        \n",
      "        Roughly equivalent to:\n",
      "            sqrt(sum((px - qx) ** 2.0 for px, qx in zip(p, q)))\n",
      "    \n",
      "    erf(x, /)\n",
      "        Error function at x.\n",
      "    \n",
      "    erfc(x, /)\n",
      "        Complementary error function at x.\n",
      "    \n",
      "    exp(x, /)\n",
      "        Return e raised to the power of x.\n",
      "    \n",
      "    expm1(x, /)\n",
      "        Return exp(x)-1.\n",
      "        \n",
      "        This function avoids the loss of precision involved in the direct evaluation of exp(x)-1 for small x.\n",
      "    \n",
      "    fabs(x, /)\n",
      "        Return the absolute value of the float x.\n",
      "    \n",
      "    factorial(x, /)\n",
      "        Find x!.\n",
      "        \n",
      "        Raise a ValueError if x is negative or non-integral.\n",
      "    \n",
      "    floor(x, /)\n",
      "        Return the floor of x as an Integral.\n",
      "        \n",
      "        This is the largest integer <= x.\n",
      "    \n",
      "    fmod(x, y, /)\n",
      "        Return fmod(x, y), according to platform C.\n",
      "        \n",
      "        x % y may differ.\n",
      "    \n",
      "    frexp(x, /)\n",
      "        Return the mantissa and exponent of x, as pair (m, e).\n",
      "        \n",
      "        m is a float and e is an int, such that x = m * 2.**e.\n",
      "        If x is 0, m and e are both 0.  Else 0.5 <= abs(m) < 1.0.\n",
      "    \n",
      "    fsum(seq, /)\n",
      "        Return an accurate floating point sum of values in the iterable seq.\n",
      "        \n",
      "        Assumes IEEE-754 floating point arithmetic.\n",
      "    \n",
      "    gamma(x, /)\n",
      "        Gamma function at x.\n",
      "    \n",
      "    gcd(*integers)\n",
      "        Greatest Common Divisor.\n",
      "    \n",
      "    hypot(...)\n",
      "        hypot(*coordinates) -> value\n",
      "        \n",
      "        Multidimensional Euclidean distance from the origin to a point.\n",
      "        \n",
      "        Roughly equivalent to:\n",
      "            sqrt(sum(x**2 for x in coordinates))\n",
      "        \n",
      "        For a two dimensional point (x, y), gives the hypotenuse\n",
      "        using the Pythagorean theorem:  sqrt(x*x + y*y).\n",
      "        \n",
      "        For example, the hypotenuse of a 3/4/5 right triangle is:\n",
      "        \n",
      "            >>> hypot(3.0, 4.0)\n",
      "            5.0\n",
      "    \n",
      "    isclose(a, b, *, rel_tol=1e-09, abs_tol=0.0)\n",
      "        Determine whether two floating point numbers are close in value.\n",
      "        \n",
      "          rel_tol\n",
      "            maximum difference for being considered \"close\", relative to the\n",
      "            magnitude of the input values\n",
      "          abs_tol\n",
      "            maximum difference for being considered \"close\", regardless of the\n",
      "            magnitude of the input values\n",
      "        \n",
      "        Return True if a is close in value to b, and False otherwise.\n",
      "        \n",
      "        For the values to be considered close, the difference between them\n",
      "        must be smaller than at least one of the tolerances.\n",
      "        \n",
      "        -inf, inf and NaN behave similarly to the IEEE 754 Standard.  That\n",
      "        is, NaN is not close to anything, even itself.  inf and -inf are\n",
      "        only close to themselves.\n",
      "    \n",
      "    isfinite(x, /)\n",
      "        Return True if x is neither an infinity nor a NaN, and False otherwise.\n",
      "    \n",
      "    isinf(x, /)\n",
      "        Return True if x is a positive or negative infinity, and False otherwise.\n",
      "    \n",
      "    isnan(x, /)\n",
      "        Return True if x is a NaN (not a number), and False otherwise.\n",
      "    \n",
      "    isqrt(n, /)\n",
      "        Return the integer part of the square root of the input.\n",
      "    \n",
      "    lcm(*integers)\n",
      "        Least Common Multiple.\n",
      "    \n",
      "    ldexp(x, i, /)\n",
      "        Return x * (2**i).\n",
      "        \n",
      "        This is essentially the inverse of frexp().\n",
      "    \n",
      "    lgamma(x, /)\n",
      "        Natural logarithm of absolute value of Gamma function at x.\n",
      "    \n",
      "    log(...)\n",
      "        log(x, [base=math.e])\n",
      "        Return the logarithm of x to the given base.\n",
      "        \n",
      "        If the base not specified, returns the natural logarithm (base e) of x.\n",
      "    \n",
      "    log10(x, /)\n",
      "        Return the base 10 logarithm of x.\n",
      "    \n",
      "    log1p(x, /)\n",
      "        Return the natural logarithm of 1+x (base e).\n",
      "        \n",
      "        The result is computed in a way which is accurate for x near zero.\n",
      "    \n",
      "    log2(x, /)\n",
      "        Return the base 2 logarithm of x.\n",
      "    \n",
      "    modf(x, /)\n",
      "        Return the fractional and integer parts of x.\n",
      "        \n",
      "        Both results carry the sign of x and are floats.\n",
      "    \n",
      "    nextafter(x, y, /)\n",
      "        Return the next floating-point value after x towards y.\n",
      "    \n",
      "    perm(n, k=None, /)\n",
      "        Number of ways to choose k items from n items without repetition and with order.\n",
      "        \n",
      "        Evaluates to n! / (n - k)! when k <= n and evaluates\n",
      "        to zero when k > n.\n",
      "        \n",
      "        If k is not specified or is None, then k defaults to n\n",
      "        and the function returns n!.\n",
      "        \n",
      "        Raises TypeError if either of the arguments are not integers.\n",
      "        Raises ValueError if either of the arguments are negative.\n",
      "    \n",
      "    pow(x, y, /)\n",
      "        Return x**y (x to the power of y).\n",
      "    \n",
      "    prod(iterable, /, *, start=1)\n",
      "        Calculate the product of all the elements in the input iterable.\n",
      "        \n",
      "        The default start value for the product is 1.\n",
      "        \n",
      "        When the iterable is empty, return the start value.  This function is\n",
      "        intended specifically for use with numeric values and may reject\n",
      "        non-numeric types.\n",
      "    \n",
      "    radians(x, /)\n",
      "        Convert angle x from degrees to radians.\n",
      "    \n",
      "    remainder(x, y, /)\n",
      "        Difference between x and the closest integer multiple of y.\n",
      "        \n",
      "        Return x - n*y where n*y is the closest integer multiple of y.\n",
      "        In the case where x is exactly halfway between two multiples of\n",
      "        y, the nearest even value of n is used. The result is always exact.\n",
      "    \n",
      "    sin(x, /)\n",
      "        Return the sine of x (measured in radians).\n",
      "    \n",
      "    sinh(x, /)\n",
      "        Return the hyperbolic sine of x.\n",
      "    \n",
      "    sqrt(x, /)\n",
      "        Return the square root of x.\n",
      "    \n",
      "    tan(x, /)\n",
      "        Return the tangent of x (measured in radians).\n",
      "    \n",
      "    tanh(x, /)\n",
      "        Return the hyperbolic tangent of x.\n",
      "    \n",
      "    trunc(x, /)\n",
      "        Truncates the Real x to the nearest Integral toward 0.\n",
      "        \n",
      "        Uses the __trunc__ magic method.\n",
      "    \n",
      "    ulp(x, /)\n",
      "        Return the value of the least significant bit of the float x.\n",
      "\n",
      "DATA\n",
      "    e = 2.718281828459045\n",
      "    inf = inf\n",
      "    nan = nan\n",
      "    pi = 3.141592653589793\n",
      "    tau = 6.283185307179586\n",
      "\n",
      "FILE\n",
      "    /Users/asasli/miniconda/lib/python3.9/lib-dynload/math.cpython-39-darwin.so\n",
      "\n",
      "\n"
     ]
    }
   ],
   "source": [
    "help(math)"
   ]
  },
  {
   "cell_type": "markdown",
   "id": "91497913-ecea-4266-b8ba-f4bd1cf7a167",
   "metadata": {},
   "source": [
    "## Useful Sites\n",
    "\n",
    "1. [Jupyter features](http://arogozhnikov.github.io/2016/09/10/jupyter-features.html)\n",
    "2. [Practical Python Programming](https://dabeaz-course.github.io/practical-python/Notes/Contents.html)\n",
    "3. [Scipy Lectures](http://scipy-lectures.org/index.html)\n",
    "4. Google, YouTube, Stack Overflow, GeeksforGeeks"
   ]
  }
 ],
 "metadata": {
  "kernelspec": {
   "display_name": "Python 3 (ipykernel)",
   "language": "python",
   "name": "python3"
  },
  "language_info": {
   "codemirror_mode": {
    "name": "ipython",
    "version": 3
   },
   "file_extension": ".py",
   "mimetype": "text/x-python",
   "name": "python",
   "nbconvert_exporter": "python",
   "pygments_lexer": "ipython3",
   "version": "3.9.10"
  }
 },
 "nbformat": 4,
 "nbformat_minor": 5
}
