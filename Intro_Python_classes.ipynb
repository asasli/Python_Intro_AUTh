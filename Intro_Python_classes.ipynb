{
  "cells": [
    {
      "cell_type": "markdown",
      "source": [
        "# Introduction to Python classes\n",
        "\n",
        "by Argyro Sasli @ May,2022"
      ],
      "metadata": {},
      "id": "f4b38a61-1e8b-4423-ac67-c97d591ad302"
    },
    {
      "cell_type": "markdown",
      "source": [
        "## Python : An object oriented programming language\n",
        "Python is an object oriented programming language, which focuses on dividing a program into objects, whereas procedure oriented programming focuses on dividing a program into functions. Objects are simply a collection of attributes (variables) and methods (functions) that act on those data and a class is a blueprint for that object.\n",
        "\n",
        "In computer programming, classes are a great way to organize attributes (variables) and methods (functions) so that they are easy to reuse and extend later.\n",
        "\n",
        "## How to define a class?\n",
        "\n",
        "Let's say that we want to make a class for the course \"Numerical Analysis\""
      ],
      "metadata": {},
      "id": "1cfb0d0b-6fea-4757-b0d8-f13475553f8b"
    },
    {
      "cell_type": "code",
      "source": [
        "class Num_Anal:\n",
        "    pass"
      ],
      "outputs": [],
      "execution_count": 1,
      "metadata": {
        "execution": {
          "shell.execute_reply": "2022-05-29T08:39:08.997Z",
          "iopub.status.busy": "2022-05-29T08:39:09.162Z",
          "iopub.execute_input": "2022-05-29T08:39:09.168Z",
          "iopub.status.idle": "2022-05-29T08:39:09.175Z"
        }
      },
      "id": "73f3eb8e-793a-49fe-b41d-fa40b681a51a"
    },
    {
      "cell_type": "markdown",
      "source": [
        "The “Num_Anal” class serves as a blueprint for creating *something for the specific course* and an instance of the “Num_Anal” class may refer to a specific student, grade, id etc. Let’s see how we can define two instances, student1 and student2:"
      ],
      "metadata": {},
      "id": "633158e7-9814-42b1-9a93-e042a3316042"
    },
    {
      "cell_type": "code",
      "source": [
        "student1 = Num_Anal()\n",
        "student2 = Num_Anal()\n",
        "\n",
        "print(\"Course: Numerical Analysis - Student 1 is\", student1)\n",
        "print(\"Course: Numerical Analysis - Student 2 is\", student1)"
      ],
      "outputs": [
        {
          "output_type": "stream",
          "name": "stdout",
          "text": [
            "Course: Numerical Analysis - Student 1 is <__main__.Num_Anal object at 0x10f1feb50>\n",
            "Course: Numerical Analysis - Student 2 is <__main__.Num_Anal object at 0x10f1feb50>\n"
          ]
        }
      ],
      "execution_count": 2,
      "metadata": {
        "execution": {
          "shell.execute_reply": "2022-05-29T08:39:09.007Z",
          "iopub.status.busy": "2022-05-29T08:39:09.186Z",
          "iopub.execute_input": "2022-05-29T08:39:09.193Z",
          "iopub.status.idle": "2022-05-29T08:39:09.206Z"
        }
      },
      "id": "d64d7ca3-73fb-4b80-a7cb-e44c4dd0f517"
    },
    {
      "cell_type": "markdown",
      "source": [
        "student1 and student2 are their own unique instances of our class, and they have a unique memory address given to each \"students\". \n",
        "\n",
        "Now, let's create attributes for the *\"students attending this course\"*. For instance, we can add their name and ID."
      ],
      "metadata": {},
      "id": "723d3f64-587b-4891-872c-152166c3ba60"
    },
    {
      "cell_type": "code",
      "source": [
        "student1 = Num_Anal()\n",
        "student1.name='Argyro'\n",
        "student1.id=14012\n",
        "print(student1.name)\n",
        "print(student1.id)\n",
        "\n",
        "student2 = Num_Anal()\n",
        "student2.name='Antonis'\n",
        "student2.id=15012\n",
        "print(student2.name)\n",
        "print(student2.id)"
      ],
      "outputs": [
        {
          "output_type": "stream",
          "name": "stdout",
          "text": [
            "Argyro\n",
            "14012\n",
            "Antonis\n",
            "15012\n"
          ]
        }
      ],
      "execution_count": 3,
      "metadata": {
        "execution": {
          "shell.execute_reply": "2022-05-29T08:39:09.021Z",
          "iopub.status.busy": "2022-05-29T08:39:09.216Z",
          "iopub.execute_input": "2022-05-29T08:39:09.225Z",
          "iopub.status.idle": "2022-05-29T08:39:09.242Z"
        }
      },
      "id": "fae929a8-1a86-4e8d-ae22-2b98824903db"
    },
    {
      "cell_type": "markdown",
      "source": [
        "As we can see, we’ve added two variables to our student1 and student2 object. \n",
        "\n",
        "However, this is not the proper way to add attributes to objects, usually what we want to do is put attributes inside our class so that all the objects created from the class have these attributes by default. \n",
        "\n",
        "Similarly, we also put all methods inside our class so that every object of the class can access them. \n",
        "\n",
        "Let’s first see how we can add methods inside a class, then we will look into the proper way to create attributes."
      ],
      "metadata": {},
      "id": "324f425b-8393-4bca-adbe-627aeac03d11"
    },
    {
      "cell_type": "code",
      "source": [
        "class Num_Anal():\n",
        "    def year(self):\n",
        "        if self.id >= 15000:\n",
        "            return 'Year>2015'\n",
        "        else:\n",
        "            return \"Year<2015\""
      ],
      "outputs": [],
      "execution_count": 4,
      "metadata": {
        "execution": {
          "shell.execute_reply": "2022-05-29T08:39:09.033Z",
          "iopub.status.busy": "2022-05-29T08:39:09.251Z",
          "iopub.execute_input": "2022-05-29T08:39:09.258Z",
          "iopub.status.idle": "2022-05-29T08:39:09.267Z"
        }
      },
      "id": "35bc1dd7-9784-4699-b177-3115af34ab2a"
    },
    {
      "cell_type": "code",
      "source": [
        "student1 = Num_Anal()\n",
        "student1.name='Argyro'\n",
        "student1.id=14012\n",
        "print(student1.name)\n",
        "print(student1.id)"
      ],
      "outputs": [
        {
          "output_type": "stream",
          "name": "stdout",
          "text": [
            "Argyro\n",
            "14012\n"
          ]
        }
      ],
      "execution_count": 5,
      "metadata": {
        "execution": {
          "shell.execute_reply": "2022-05-29T08:39:09.043Z",
          "iopub.status.busy": "2022-05-29T08:39:09.279Z",
          "iopub.execute_input": "2022-05-29T08:39:09.286Z",
          "iopub.status.idle": "2022-05-29T08:39:09.297Z"
        }
      },
      "id": "fc611fcd-7afb-4572-bd67-1746bf31263b"
    },
    {
      "cell_type": "code",
      "source": [
        "print(student1.year())"
      ],
      "outputs": [
        {
          "output_type": "stream",
          "name": "stdout",
          "text": [
            "Year<2015\n"
          ]
        }
      ],
      "execution_count": 6,
      "metadata": {
        "execution": {
          "shell.execute_reply": "2022-05-29T08:39:09.053Z",
          "iopub.status.busy": "2022-05-29T08:39:09.307Z",
          "iopub.execute_input": "2022-05-29T08:39:09.313Z",
          "iopub.status.idle": "2022-05-29T08:39:09.324Z"
        }
      },
      "id": "b6359d5b-1099-46a2-a60b-6bfff7cf23a8"
    },
    {
      "cell_type": "markdown",
      "source": [
        "Python offers a much more elegant and compact way of defining attributes right while instantiating the object, using the __init__() method. The __init__() method is a special method that automatically gets called every-time objects are created. As we did previously, we created attributes name and id, let’s define an __init__() method within our class:"
      ],
      "metadata": {},
      "id": "e5b9f99f-d494-47e5-a87f-4bf5c4c8e645"
    },
    {
      "cell_type": "code",
      "source": [
        "class Num_Anal:\n",
        "    def __init__(self, name, ID, grade):\n",
        "        self.name=name\n",
        "        self.ID=ID\n",
        "        self.grade=grade\n",
        "        \n",
        "    def overall(self):\n",
        "        sum_grade=0\n",
        "        for i in range(len(self.grade)):\n",
        "            sum_grade+=self.grade[i]\n",
        "        return sum_grade/len(self.grade)\n",
        "        \n",
        "    def year(self):\n",
        "        if self.ID >= 15000:\n",
        "            return 'Year>2015'\n",
        "        else:\n",
        "            return \"Year<2015\""
      ],
      "outputs": [],
      "execution_count": 7,
      "metadata": {
        "execution": {
          "shell.execute_reply": "2022-05-29T08:39:09.061Z",
          "iopub.status.busy": "2022-05-29T08:39:09.333Z",
          "iopub.execute_input": "2022-05-29T08:39:09.340Z",
          "iopub.status.idle": "2022-05-29T08:39:09.347Z"
        }
      },
      "id": "19227813-da76-4bc7-9281-c7db62bb5424"
    },
    {
      "cell_type": "code",
      "source": [
        "student1 = Num_Anal('Argyro',14012, [7,10,9])\n",
        "print(student1.name)\n",
        "print(student1.ID)\n",
        "print(student1.year())\n",
        "print('Ovearall grade for the course:',round(student1.overall(),2))"
      ],
      "outputs": [
        {
          "output_type": "stream",
          "name": "stdout",
          "text": [
            "Argyro\n",
            "14012\n",
            "Year<2015\n",
            "Ovearall grade for the course: 8.67\n"
          ]
        }
      ],
      "execution_count": 8,
      "metadata": {
        "execution": {
          "shell.execute_reply": "2022-05-29T08:39:09.072Z",
          "iopub.status.busy": "2022-05-29T08:39:09.362Z",
          "iopub.execute_input": "2022-05-29T08:39:09.370Z",
          "iopub.status.idle": "2022-05-29T08:39:09.381Z"
        }
      },
      "id": "cbfd9124-ad00-4b84-91da-1eb6c8bea852"
    },
    {
      "cell_type": "code",
      "source": [
        "student2 = Num_Anal('Antonis',15012, [10,10,9])\n",
        "print(student2.name)\n",
        "print(student2.ID)\n",
        "print(student2.year())\n",
        "print('Ovearall grade for the course:',round(student2.overall(),2))"
      ],
      "outputs": [
        {
          "output_type": "stream",
          "name": "stdout",
          "text": [
            "Antonis\n",
            "15012\n",
            "Year>2015\n",
            "Ovearall grade for the course: 9.67\n"
          ]
        }
      ],
      "execution_count": 9,
      "metadata": {
        "execution": {
          "shell.execute_reply": "2022-05-29T08:39:09.081Z",
          "iopub.status.busy": "2022-05-29T08:39:09.391Z",
          "iopub.execute_input": "2022-05-29T08:39:09.398Z",
          "iopub.status.idle": "2022-05-29T08:39:09.409Z"
        }
      },
      "id": "c8396ff9-b9a8-4dab-bcc8-12f19e875117"
    },
    {
      "cell_type": "markdown",
      "source": [
        "## Subclasses\n",
        "\n",
        "A sub class is created by providing a reference to the super class in the sub class’s definition. \n",
        "\n",
        "Let's create a Shape class that will serve as a super class to a set of sub classes that define specific types of shapes, such as circles and squares.\n",
        "\n",
        "Here is a Shape class definition and a short program to test the class:"
      ],
      "metadata": {},
      "id": "bd35b2ec-bef5-4895-a535-7c7b74877b9c"
    },
    {
      "cell_type": "code",
      "source": [
        "class Shape:\n",
        "    def __init__(self,name,x,y):\n",
        "        self.name = name\n",
        "  \n",
        "        self.x = x\n",
        "        self.y = y\n",
        "        \n",
        "    def draw(self):\n",
        "          print(\"Drawing\",self.name,\"at origin x:\",self.x,\"y:\",self.y)\n",
        "\n",
        "s = Shape(\"Shape\",1,2)\n",
        "s.draw()"
      ],
      "outputs": [
        {
          "output_type": "stream",
          "name": "stdout",
          "text": [
            "Drawing Shape at origin x: 1 y: 2\n"
          ]
        }
      ],
      "execution_count": 10,
      "metadata": {
        "execution": {
          "shell.execute_reply": "2022-05-29T08:39:09.091Z",
          "iopub.status.busy": "2022-05-29T08:39:09.419Z",
          "iopub.execute_input": "2022-05-29T08:39:09.425Z",
          "iopub.status.idle": "2022-05-29T08:39:09.438Z"
        }
      },
      "id": "1f37738a-d7aa-46ce-b2dc-34e31cfae4bc"
    },
    {
      "cell_type": "markdown",
      "source": [
        "Now let’s define a ```Rectangle``` class that inherits from the ```Shape``` class. \n",
        "\n",
        "We start by recognizing Rectangle is a sub class by placing the name of the sub class in parentheses in the first line of the derived class’s definition:"
      ],
      "metadata": {},
      "id": "57d72035-e437-44a0-87b7-9b5831c3b43f"
    },
    {
      "cell_type": "code",
      "source": [
        "class Shape:\n",
        "    def __init__(self,x,y):\n",
        "        self.name = \"Shape\"\n",
        "        self.x = x\n",
        "        self.y = y\n",
        "    \n",
        "    def draw(self):\n",
        "        print(\"Drawing\",self.name,\"at origin x:\",self.x,\"y:\",self.y)\n",
        "\n",
        "class Rectangle(Shape):\n",
        "    def __init__(self,x,y,height,width):\n",
        "        Shape.__init__(self,x,y)\n",
        "        self.name = \"Rectangle\"\n",
        "        self.height = height\n",
        "        self.width = width\n",
        "    #overriding base class definition\n",
        "    def draw(self):\n",
        "        print(\"Drawing\",self.name,\"at origin x:\",self.x,\"y:\",self.y)\n",
        "        print(\"Height:\",self.height,\"Width:\",self.width)"
      ],
      "outputs": [],
      "execution_count": 11,
      "metadata": {
        "execution": {
          "shell.execute_reply": "2022-05-29T08:39:09.099Z",
          "iopub.status.busy": "2022-05-29T08:39:09.451Z",
          "iopub.execute_input": "2022-05-29T08:39:09.457Z",
          "iopub.status.idle": "2022-05-29T08:39:09.465Z"
        }
      },
      "id": "133f15f5-6d06-47c7-b020-c7f924e8ce0a"
    },
    {
      "cell_type": "code",
      "source": [
        "sh = Shape(3,4)\n",
        "sh.draw()\n",
        "rec = Rectangle(1,2,5,10)\n",
        "rec.draw()"
      ],
      "outputs": [
        {
          "output_type": "stream",
          "name": "stdout",
          "text": [
            "Drawing Shape at origin x: 3 y: 4\n",
            "Drawing Rectangle at origin x: 1 y: 2\n",
            "Height: 5 Width: 10\n"
          ]
        }
      ],
      "execution_count": 12,
      "metadata": {
        "execution": {
          "shell.execute_reply": "2022-05-29T08:39:09.107Z",
          "iopub.status.busy": "2022-05-29T08:39:09.475Z",
          "iopub.execute_input": "2022-05-29T08:39:09.481Z",
          "iopub.status.idle": "2022-05-29T08:39:09.491Z"
        }
      },
      "id": "686de70a-017d-45b4-a0c4-e618073fa7b1"
    },
    {
      "cell_type": "markdown",
      "source": [
        "Because Python is a dynamically-typed programming language, it is easy to process collections of class objects. This is not true in a language like C++, which is strongly-typed and requires the programmer to jump through some hoops to properly process class object collections.\n",
        "\n",
        "In Python, I can simply declare a new list and then add objects to the list as I please. When I want to access the objects, I can simply loop through the list and perform whatever operation I want. Python will know what to do with each method call\n",
        "\n",
        "In the example below, I create a list of Shape-based objects and “draw” them from inside the list. Here’s the code and the output:"
      ],
      "metadata": {},
      "id": "f27db4e5-8522-4791-86ef-0fcccb09f931"
    },
    {
      "cell_type": "code",
      "source": [
        "class Shape:\n",
        "    def __init__(self,x,y):\n",
        "        self.name = \"Shape\"\n",
        "        self.x = x\n",
        "        self.y = y\n",
        "    def draw(self):\n",
        "        print(\"Drawing\",self.name,\"at origin x:\",self.x,\"y:\",self.y)\n",
        "        \n",
        "class Rectangle(Shape):\n",
        "      def __init__(self,x,y,height,width):\n",
        "        Shape.__init__(self,x,y)\n",
        "        self.name = \"Rectangle\"\n",
        "        self.height = height\n",
        "        self.width = width\n",
        "      #overriding base class definition\n",
        "      def draw(self):\n",
        "        print(\"Drawing\",self.name,\"at origin x:\",self.x,\"y:\",self.y)\n",
        "        print(\"Height:\",self.height,\"Width:\",self.width)\n",
        "        \n",
        "class Circle(Shape):\n",
        "    def __init__(self, x,y,radius):\n",
        "        Shape.__init__(self,x,y)\n",
        "        self.name = \"Circle\"\n",
        "        self.radius = radius\n",
        "    def draw(self):\n",
        "        print(\"Drawing\",self.name,\"at origin x:\",self.x,\"y:\",self.y)\n",
        "        print(\"Radius:\",self.radius)"
      ],
      "outputs": [],
      "execution_count": 13,
      "metadata": {
        "execution": {
          "shell.execute_reply": "2022-05-29T08:39:09.114Z",
          "iopub.status.busy": "2022-05-29T08:39:09.505Z",
          "iopub.execute_input": "2022-05-29T08:39:09.511Z",
          "iopub.status.idle": "2022-05-29T08:39:09.519Z"
        }
      },
      "id": "45c656f6-6072-4b44-be7f-ddafa0b809eb"
    },
    {
      "cell_type": "code",
      "source": [
        "sh = Shape(3,4)\n",
        "rec = Rectangle(1,2,5,10)\n",
        "circ = Circle(5,6,5)\n",
        "\n",
        "shapes = []\n",
        "shapes.append(sh)\n",
        "shapes.append(rec)\n",
        "shapes.append(circ)\n",
        "\n",
        "print(\"Drawing set of shapes:\")\n",
        "for sh in shapes:\n",
        "    sh.draw()"
      ],
      "outputs": [
        {
          "output_type": "stream",
          "name": "stdout",
          "text": [
            "Drawing set of shapes:\n",
            "Drawing Shape at origin x: 3 y: 4\n",
            "Drawing Rectangle at origin x: 1 y: 2\n",
            "Height: 5 Width: 10\n",
            "Drawing Circle at origin x: 5 y: 6\n",
            "Radius: 5\n"
          ]
        }
      ],
      "execution_count": 14,
      "metadata": {
        "execution": {
          "shell.execute_reply": "2022-05-29T08:39:09.122Z",
          "iopub.status.busy": "2022-05-29T08:39:09.530Z",
          "iopub.execute_input": "2022-05-29T08:39:09.536Z",
          "iopub.status.idle": "2022-05-29T08:39:09.548Z"
        }
      },
      "id": "96c35532-e6ec-4133-a2a1-71c2a9f849bc"
    },
    {
      "cell_type": "code",
      "source": [
        "# superclass\n",
        "class Person():\n",
        "    def __init__(self, per_name, per_age):\n",
        "        self.name = per_name\n",
        "        self.age = per_age\n",
        "\n",
        "    def display1(self):\n",
        "        print(\"name:\", self.name)\n",
        "        print(\"age:\", self.age)\n",
        "\n",
        "# subclass\n",
        "class Employee(Person):\n",
        "    def __init__(self, emp_name, emp_age, emp_salary):\n",
        "        self.salary = emp_salary\n",
        "        super().__init__(emp_name, emp_age)\n",
        "\n",
        "    def display2(self):\n",
        "        print(\"salary:\", self.salary)\n",
        "        super().display1()\n",
        "\n",
        "emp = Employee(\"John\", 20, 8000)  # creating object of subclass\n",
        "\n",
        "emp.display2()"
      ],
      "outputs": [
        {
          "output_type": "stream",
          "name": "stdout",
          "text": [
            "salary: 8000\n",
            "name: John\n",
            "age: 20\n"
          ]
        }
      ],
      "execution_count": 15,
      "metadata": {
        "execution": {
          "shell.execute_reply": "2022-05-29T08:39:09.132Z",
          "iopub.status.busy": "2022-05-29T08:39:09.558Z",
          "iopub.execute_input": "2022-05-29T08:39:09.564Z",
          "iopub.status.idle": "2022-05-29T08:39:09.575Z"
        }
      },
      "id": "153569d2-2cdd-427d-a1d7-debf48fb23c2"
    },
    {
      "cell_type": "code",
      "source": [
        "emp2 = Employee(\"Argyro\", 25, 1000)  # creating object of subclass\n",
        "\n",
        "emp2.display2()"
      ],
      "outputs": [
        {
          "output_type": "stream",
          "name": "stdout",
          "text": [
            "salary: 1000\n",
            "name: Argyro\n",
            "age: 25\n"
          ]
        }
      ],
      "execution_count": 16,
      "metadata": {
        "execution": {
          "shell.execute_reply": "2022-05-29T08:39:09.141Z",
          "iopub.status.busy": "2022-05-29T08:39:09.586Z",
          "iopub.execute_input": "2022-05-29T08:39:09.593Z",
          "iopub.status.idle": "2022-05-29T08:39:09.605Z"
        }
      },
      "id": "0fdd6d77-42e6-43ee-9798-20dcf431dbba"
    },
    {
      "cell_type": "code",
      "source": [],
      "outputs": [],
      "execution_count": null,
      "metadata": {},
      "id": "560255dd-92b0-49d4-bb32-581942f1db1e"
    }
  ],
  "metadata": {
    "kernelspec": {
      "display_name": "Python 3 (ipykernel)",
      "language": "python",
      "name": "python3"
    },
    "language_info": {
      "name": "python",
      "version": "3.9.10",
      "mimetype": "text/x-python",
      "codemirror_mode": {
        "name": "ipython",
        "version": 3
      },
      "pygments_lexer": "ipython3",
      "nbconvert_exporter": "python",
      "file_extension": ".py"
    },
    "nteract": {
      "version": "0.28.0"
    }
  },
  "nbformat": 4,
  "nbformat_minor": 5
}