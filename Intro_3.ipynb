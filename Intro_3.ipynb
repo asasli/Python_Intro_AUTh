{
 "cells": [
  {
   "cell_type": "markdown",
   "metadata": {
    "id": "9DgOwBXTWtwU"
   },
   "source": [
    "# Introduction to Python : Matplotlib\n",
    "\n",
    "An introductory-to-Python notebook for the purposes of the course \"Numerical Analysis\" (Prof. Nikolaos Stergioulas) at Aristotle University of Thessaloniki (AUTh). \n",
    "\n",
    "A first version lives in [v1.0@2021](https://github.com/sfragkoul/Python_Intro) (based on \"Introduction to Scientific Computing in Python\" by Robert Johansson).\n",
    "\n",
    "Notebook by Argyro Sasli, March 2022"
   ]
  },
  {
   "cell_type": "markdown",
   "metadata": {
    "id": "-r5lMc1SzSjV"
   },
   "source": [
    "## About Matplotlib\n",
    "\n",
    "- [Matplotlib](https://matplotlib.org/) is an excellent library for generating scientific figures.\n",
    "\n",
    "\n",
    "- 2D and 3D graphics.\n",
    "\n",
    "\n",
    "- Sublots, labels, changing axes scale etc.\n",
    "\n",
    "\n",
    "- Save figures (.jpg, .pdf, .png).\n",
    "\n",
    "## Basic (2D)\n",
    "\n",
    "**Steps**\n",
    "1. ```%matplotlib inline``` : configures matplotlib to show figures embedded in the notebook, instead of opening a new window for each figure\n",
    "\n",
    "\n",
    "2. import matplotlib\n",
    "\n",
    "\n",
    "3. Alias for ``plt``: ```import matplotlib.pyplot as plt```\n",
    "\n",
    "\n",
    "4. Store a reference to the newly created figure instance in the fig variable, \n",
    "\n",
    "\n",
    "5. From it, we create a new axis instance axes using the ```add_axes``` method in the Figure class instance fig"
   ]
  },
  {
   "cell_type": "code",
   "execution_count": null,
   "metadata": {},
   "outputs": [],
   "source": [
    "# If you are using an old version of IPython, try using '%pylab inline' instead.\n",
    "%matplotlib inline"
   ]
  },
  {
   "cell_type": "code",
   "execution_count": null,
   "metadata": {
    "id": "tIRYqM0XypvR"
   },
   "outputs": [],
   "source": [
    "import matplotlib\n",
    "import matplotlib.pyplot as plt\n",
    "import numpy as np"
   ]
  },
  {
   "cell_type": "markdown",
   "metadata": {},
   "source": [
    "**Figure titles**\n",
    "\n",
    "A title can be added to each axis instance in a figure. To set the title, use the set title method in the\n",
    "axes instance: ```axes.set_title('Title')```\n",
    "\n",
    "\n",
    "**Axis labels**\n",
    "\n",
    "Similarly, with the methods set xlabel and set ylabel, we can set the labels of the X and Y axes : ```axes.set_xlabel('x')```\n",
    "\n"
   ]
  },
  {
   "cell_type": "code",
   "execution_count": null,
   "metadata": {},
   "outputs": [],
   "source": [
    "x = np.linspace(0, 5, 10)\n",
    "y = x ** 2\n",
    "\n",
    "# Create figure\n",
    "fig = plt.figure()\n",
    "\n",
    "# Add axes\n",
    "axes = fig.add_axes([0.1, 0.1, 0.5, 0.6]) # left, bottom, width, height (range 0 to 1)\n",
    "\n",
    "# Plot\n",
    "axes.plot(x, y, 'r')\n",
    "\n",
    "# Set axes label\n",
    "axes.set_xlabel('x')\n",
    "axes.set_ylabel('y')\n",
    "\n",
    "#Set title\n",
    "axes.set_title('Title')"
   ]
  },
  {
   "cell_type": "markdown",
   "metadata": {},
   "source": [
    "**Inserting axes**\n",
    "\n",
    "\n",
    "Although a little bit more code is involved, the advantage is that we now have full control of where the plot axes are placed, and we can easily add more than one axis to the figure"
   ]
  },
  {
   "cell_type": "code",
   "execution_count": null,
   "metadata": {},
   "outputs": [],
   "source": [
    "# Create a Figure\n",
    "fig = plt.figure()\n",
    "# Create axes\n",
    "axes1 = fig.add_axes([0.1, 0.1, 0.8, 0.8]) # main axes\n",
    "axes2 = fig.add_axes([0.2, 0.5, 0.3, 0.2]) # inserted axes\n",
    "# main figure\n",
    "axes1.plot(x, y, 'r')\n",
    "axes1.set_xlabel('x')\n",
    "axes1.set_ylabel('y')\n",
    "axes1.set_title('title')\n",
    "# insert\n",
    "axes2.plot(y, x, 'g--')\n",
    "axes2.set_xlabel('y')\n",
    "axes2.set_ylabel('x')\n",
    "axes2.set_title('insert title');"
   ]
  },
  {
   "cell_type": "markdown",
   "metadata": {},
   "source": [
    "To **save** a figure to a file we can use the ```savefig(\"name.extention\")``` method in the Figure class.\n",
    "\n",
    "OUTPUT formats: PNG, JPG, EPS, SVG, PGF and PDF."
   ]
  },
  {
   "cell_type": "code",
   "execution_count": null,
   "metadata": {},
   "outputs": [],
   "source": [
    "fig.savefig(\"filename.png\")"
   ]
  },
  {
   "cell_type": "markdown",
   "metadata": {},
   "source": [
    "For papers/thesis etc., use PDF"
   ]
  },
  {
   "cell_type": "code",
   "execution_count": null,
   "metadata": {},
   "outputs": [],
   "source": [
    "fig.savefig(\"filename.pdf\", dpi=200)"
   ]
  },
  {
   "cell_type": "markdown",
   "metadata": {
    "id": "lRL96cQozAQJ"
   },
   "source": [
    "## Sublots"
   ]
  },
  {
   "cell_type": "markdown",
   "metadata": {
    "id": "3RMzC2ehw5Qm"
   },
   "source": [
    "You use subplots to set up and place your Axes on a regular grid. So that means that in most cases, Axes and subplot are synonymous, they will designate the same thing. When you do call subplot to add Axes to your figure, do so with the ```add_subplots(rows, columns, plots)``` function"
   ]
  },
  {
   "cell_type": "code",
   "execution_count": null,
   "metadata": {},
   "outputs": [],
   "source": [
    "fig, axes = plt.subplots()\n",
    "axes.plot(x, y, 'y*-')\n",
    "axes.set_xlabel('x')\n",
    "axes.set_ylabel('y')\n",
    "axes.set_title('title');"
   ]
  },
  {
   "cell_type": "code",
   "execution_count": null,
   "metadata": {},
   "outputs": [],
   "source": [
    "# Create a Figure\n",
    "fig = plt.figure()\n",
    "\n",
    "# Set up Axes\n",
    "ax = fig.add_subplot(1,2,1)\n",
    "\n",
    "# Scatter the data\n",
    "ax.scatter(np.linspace(0, 1, 5), np.linspace(0, 5, 5))\n",
    "\n",
    "ax.set_xlabel('x')\n",
    "ax.set_ylabel('y')\n",
    "ax.set_title('title')\n",
    "\n",
    "# Show the plot\n",
    "plt.show()"
   ]
  },
  {
   "cell_type": "code",
   "execution_count": null,
   "metadata": {},
   "outputs": [],
   "source": [
    "fig, axes = plt.subplots(nrows=1, ncols=2)\n",
    "for ax in axes:\n",
    "    ax.plot(x, y, 'b*')\n",
    "    ax.set_xlabel('x')\n",
    "    ax.set_ylabel('y')\n",
    "    ax.set_title('title')"
   ]
  },
  {
   "cell_type": "markdown",
   "metadata": {},
   "source": [
    "```fig.tight_layout()``` automatically **adjusts the positions of the axes** on the figure canvas so that there is no overlapping content"
   ]
  },
  {
   "cell_type": "code",
   "execution_count": null,
   "metadata": {},
   "outputs": [],
   "source": [
    "fig, axes = plt.subplots(nrows=1, ncols=2)\n",
    "for ax in axes:\n",
    "    ax.plot(x, y, 'm.')\n",
    "    ax.set_xlabel('x')\n",
    "    ax.set_ylabel('y')\n",
    "    ax.set_title('title')\n",
    "fig.tight_layout()"
   ]
  },
  {
   "cell_type": "markdown",
   "metadata": {},
   "source": [
    "## What Is The Difference Between ```add_axes()``` and ```add_subplot()```?\n",
    "\n",
    "The difference between ```fig.add_axes()``` and ```fig.add_subplot()``` doesn’t lie in the result: they both return an Axes object. \n",
    "\n",
    "However, they do differ in the mechanism that is used to add the axes: you pass a list to ```add_axes()``` which is the lower left point, the width and the height. This means that **the axes object is positioned in absolute coordinates**.\n",
    "\n",
    "In contrast, the ```add_subplot()``` function doesn’t provide the option to put the axes at a certain position: it does, however, **allow the axes to be situated according to a subplot grid**.\n",
    "\n",
    "In most cases, you’ll use ```add_subplot()``` to create axes; Only in cases where the positioning matters, you’ll resort to ```add_axes()```. Alternatively, you can also use subplots() if you want to get one or more subplots at the same time."
   ]
  },
  {
   "cell_type": "markdown",
   "metadata": {},
   "source": [
    "## Legend and labels\n",
    "\n",
    "The recommended method for labeling is to use the ```label=\"label text\"``` keyword argument when plots or other objects are added to the figure, and then using the ```axes.legend()``` without arguments to add the legend to the figure.\n",
    "\n",
    "Note that:\n",
    "\n",
    "- You can use latex format for labaling. For instance, use ```$equation$```\n",
    "\n",
    "\n",
    "- The legend function takes an optional keyword argument **loc** that can be used to specify where in the figure the legend is to be drawn.\n",
    "    * ```axes.legend(loc=0)``` or ```axes.legend(loc='best')```: let matplotlib decide the optimal location\n",
    "    \n",
    "    * ```axes.legend(loc=1)``` : upper right corner\n",
    "    \n",
    "    * ```axes.legend(loc=2)``` : upper left corner\n",
    "    \n",
    "    * ```axes.legend(loc=3)```: lower left corner\n",
    "    \n",
    "    * ```axes.legend(loc=4)```: lower right corner"
   ]
  },
  {
   "cell_type": "code",
   "execution_count": null,
   "metadata": {},
   "outputs": [],
   "source": [
    "fig, ax = plt.subplots()\n",
    "\n",
    "ax.plot(x, x**2,'g:', label=\"$x^2$\")\n",
    "ax.plot(x, x**3, label=\"$x^3$\")\n",
    "\n",
    "ax.legend(loc='best')\n",
    "\n",
    "plt.show()"
   ]
  },
  {
   "cell_type": "markdown",
   "metadata": {},
   "source": [
    "## LaTeX formating\n",
    "\n",
    "Matplotlib has great support for LaTeX. All we need to do is to use dollar signs encapsulate LaTeX in any text (legend, title, label, etc.). For example, \"$y=x^3$\".\n",
    "\n",
    "To avoid Python messing up our latex code, we need to use \\raw\" text strings. Raw text strings are prepended with an `r', like **r\"nalpha\"** or **r'nalpha'** instead of \"\\alpha\" or '\\alpha'"
   ]
  },
  {
   "cell_type": "code",
   "execution_count": null,
   "metadata": {},
   "outputs": [],
   "source": [
    "fig, ax = plt.subplots()\n",
    "ax.plot(x, x**2, label=r\"$y = \\alpha^2$\")\n",
    "ax.plot(x, x**3, label=r\"$y = \\alpha^3$\")\n",
    "ax.legend(loc=2) # upper left corner\n",
    "\n",
    "ax.set_xlabel(r'$\\alpha$', fontsize=18)\n",
    "ax.set_ylabel(r'$y$', fontsize=18)\n",
    "\n",
    "ax.set_title('title')"
   ]
  },
  {
   "cell_type": "markdown",
   "metadata": {},
   "source": [
    "## Fontsize and font family\n",
    "\n",
    "We can also change the global font size and font family, which applies to all text elements in a figure (tick labels, axis labels and titles, legends, etc.)"
   ]
  },
  {
   "cell_type": "code",
   "execution_count": null,
   "metadata": {},
   "outputs": [],
   "source": [
    "# Update the matplotlib configuration parameters:\n",
    "matplotlib.rcParams.update({'font.size': 18, 'font.family': 'serif'})"
   ]
  },
  {
   "cell_type": "code",
   "execution_count": null,
   "metadata": {},
   "outputs": [],
   "source": [
    "fig, ax = plt.subplots()\n",
    "\n",
    "ax.plot(x, x**2, label=r\"$y = \\alpha^2$\")\n",
    "ax.plot(x, x**3, label=r\"$y = \\alpha^3$\")\n",
    "\n",
    "ax.legend(loc=2) # upper left corner\n",
    "\n",
    "ax.set_xlabel(r'$\\alpha$')\n",
    "ax.set_ylabel(r'$y$')\n",
    "ax.set_title('title');"
   ]
  },
  {
   "cell_type": "markdown",
   "metadata": {},
   "source": [
    "A good choice of global fonts are the  STIX (Scientific and Technical Information Exchange) fonts"
   ]
  },
  {
   "cell_type": "code",
   "execution_count": null,
   "metadata": {},
   "outputs": [],
   "source": [
    "# Update the matplotlib configuration parameters:\n",
    "matplotlib.rcParams.update({'font.size': 18, 'font.family': 'STIXGeneral','mathtext.fontset':'stix'})"
   ]
  },
  {
   "cell_type": "code",
   "execution_count": null,
   "metadata": {},
   "outputs": [],
   "source": [
    "fig, ax = plt.subplots()\n",
    "ax.plot(x, x**2, label=r\"$y = \\alpha^2$\")\n",
    "ax.plot(x, x**3, 'r-.', label=r\"$y = \\alpha^3$\")\n",
    "ax.legend(loc=2) # upper left corner\n",
    "ax.set_xlabel(r'$\\alpha$')\n",
    "ax.set_ylabel(r'$y$')\n",
    "ax.set_title('title');"
   ]
  },
  {
   "cell_type": "markdown",
   "metadata": {},
   "source": [
    "## Custom tick labels and axes\n",
    "\n",
    "We can explicitly determine where we want the axis ticks with **set_xticks** and **set_yticks**, which both take a list of values for where on the axis the ticks are to be placed. We can also use the **set_xticklabels**\n",
    "and **set_yticklabels** methods to provide a list of custom text labels for each tick location"
   ]
  },
  {
   "cell_type": "code",
   "execution_count": null,
   "metadata": {},
   "outputs": [],
   "source": [
    "fig, ax = plt.subplots(figsize=(8, 4))\n",
    "ax.plot(x, x**2, x, x**3, lw=2)\n",
    "ax.set_xticks([1, 2, 3, 4, 5])\n",
    "ax.set_xticklabels([r'$\\alpha$', r'$\\beta$', r'$\\gamma$', r'$\\delta$', r'$\\epsilon$'])\n",
    "\n",
    "yticks = [0, 50, 100, 150]\n",
    "ax.set_yticks(yticks)\n",
    "ax.set_yticklabels([\"$%.1f$\" % y for y in yticks], fontsize=16); # use LaTeX formatted labels"
   ]
  },
  {
   "cell_type": "markdown",
   "metadata": {},
   "source": [
    "## Advance Customization"
   ]
  },
  {
   "cell_type": "markdown",
   "metadata": {},
   "source": [
    "### Customizing plot lines\n",
    "\n",
    "* Setting the color of line with either **color=\"the color\"** or **'alias of the color'** ([more about matplotlib colors](https://het.as.utexas.edu/HET/Software/Matplotlib/api/colors_api.html))\n",
    "\n",
    "\n",
    "* To change the line *width*, we can use the **linewidth** or **lw** keyword argument. \n",
    "\n",
    "\n",
    "* The line *style* can be selected using the **linestyle** or **ls** keyword arguments"
   ]
  },
  {
   "cell_type": "code",
   "execution_count": null,
   "metadata": {},
   "outputs": [],
   "source": [
    "fig, ax = plt.subplots(figsize=(12,6))\n",
    "ax.plot(x, x+1, color=\"blue\", linewidth=0.25)\n",
    "ax.plot(x, x+2, color=\"blue\", linewidth=0.50)\n",
    "ax.plot(x, x+3, color=\"blue\", linewidth=1.00)\n",
    "ax.plot(x, x+4, color=\"blue\", linewidth=2.00)\n",
    "\n",
    "# possible linestype options `-`, `--', `-.', `:', `steps'\n",
    "ax.plot(x, x+5, color=\"red\", lw=2, linestyle='-')\n",
    "ax.plot(x, x+6, color=\"red\", lw=2, ls='-.')\n",
    "ax.plot(x, x+7, color=\"red\", lw=2, ls=':')\n",
    "\n",
    "# custom dash\n",
    "line, = ax.plot(x, x+8, color=\"black\", lw=1.50)\n",
    "line.set_dashes([5, 10, 15, 10]) # format: line length, space length, ...\n",
    "\n",
    "# possible marker symbols: marker = '+', 'o', '*', 's', ',', '.', '1', '2', '3', '4', ...\n",
    "ax.plot(x, x+ 9, color=\"green\", lw=2, ls='--', marker='+')\n",
    "ax.plot(x, x+10, color=\"green\", lw=2, ls='--', marker='o')\n",
    "ax.plot(x, x+11, color=\"green\", lw=2, ls='--', marker='s')\n",
    "ax.plot(x, x+12, color=\"green\", lw=2, ls='--', marker='1')\n",
    "\n",
    "# marker size and color\n",
    "ax.plot(x, x+13, color=\"purple\", lw=1, ls='--', marker='o', markersize=2)\n",
    "\n",
    "ax.plot(x, x+14, color=\"purple\", lw=1, ls='-', marker='o', markersize=4)\n",
    "ax.plot(x, x+15, color=\"purple\", lw=1, ls='-', marker='o', markersize=8, markerfacecolor=\"red\")\n",
    "ax.plot(x, x+16, color=\"purple\", lw=1, ls='-', marker='s', markersize=8,\n",
    "markerfacecolor=\"yellow\", markeredgewidth=2, markeredgecolor=\"blue\");"
   ]
  },
  {
   "cell_type": "markdown",
   "metadata": {},
   "source": [
    "### Twin axes\n",
    "\n",
    "Sometimes it is useful to have dual x or y axes in a figure; for example, when plotting curves with different\n",
    "units together. Matplotlib supports this with the **twinx** and **twiny** functions"
   ]
  },
  {
   "cell_type": "code",
   "execution_count": null,
   "metadata": {},
   "outputs": [],
   "source": [
    "fig, ax1 = plt.subplots()\n",
    "ax1.plot(x, x**2, lw=2, color=\"blue\")\n",
    "ax1.set_ylabel(r\"area $(m^2)$\", fontsize=18, color=\"blue\")\n",
    "for label in ax1.get_yticklabels():\n",
    "    label.set_color(\"blue\")\n",
    "\n",
    "ax2 = ax1.twinx()\n",
    "ax2.plot(x, x**3, lw=2, color=\"red\")\n",
    "ax2.set_ylabel(r\"volume $(m^3)$\", fontsize=18, color=\"red\")\n",
    "for label in ax2.get_yticklabels():\n",
    "    label.set_color(\"red\")"
   ]
  },
  {
   "cell_type": "markdown",
   "metadata": {},
   "source": [
    "### Annotation"
   ]
  },
  {
   "cell_type": "code",
   "execution_count": null,
   "metadata": {},
   "outputs": [],
   "source": [
    "x = np.arange(0, 10, 0.005)\n",
    "y = np.exp(-x / 6.) * np.sin(3 * np.pi * x)\n",
    "  \n",
    "fig, ax = plt.subplots(figsize=(10,7))\n",
    "ax.plot(x, y)\n",
    "ax.set_xlim(0, 10)\n",
    "ax.set_ylim(-1, 1)\n",
    "  \n",
    "# Setting up the parameters\n",
    "xdata, ydata = 5, 0\n",
    "  \n",
    "bbox = dict(boxstyle =\"round\", fc =\"0.9\")\n",
    "arrowprops = dict(\n",
    "    arrowstyle = \"->\",\n",
    "    connectionstyle = \"angle, angleA = 0, angleB = 90,\\\n",
    "    rad = 10\")\n",
    "  \n",
    "# Box Annotation\n",
    "offset = 72 #for the arrow\n",
    "mytext1=(0.5 * offset, offset+60) #place box-text: (horizontally, vertically)\n",
    "\n",
    "ax.annotate('data = (%.1f, %.1f)'%(xdata, ydata),\n",
    "            (xdata, ydata), xytext =mytext1,\n",
    "            textcoords ='offset points',\n",
    "            bbox = bbox, arrowprops = arrowprops)\n",
    "\n",
    "# Arrow Annotation  \n",
    "ax.annotate('Peak Value', xy=(x[np.where(y==np.max(y))[0][0]], np.max(y)),\n",
    "                xytext=(2, 0.85),arrowprops=dict(facecolor='yellow',\n",
    "                                shrink=0.05),xycoords=\"data\",)\n",
    "  \n",
    "# To display the annotation\n",
    "plt.show()"
   ]
  },
  {
   "cell_type": "markdown",
   "metadata": {},
   "source": [
    "### Axis number and axis label spacing"
   ]
  },
  {
   "cell_type": "code",
   "execution_count": null,
   "metadata": {},
   "outputs": [],
   "source": [
    "x = np.linspace(0, 5, 10)\n",
    "\n",
    "# distance between x and y axis and the numbers on the axes\n",
    "matplotlib.rcParams['xtick.major.pad'] = 5\n",
    "matplotlib.rcParams['ytick.major.pad'] = 5\n",
    "\n",
    "fig, ax = plt.subplots(1, 1)\n",
    "ax.plot(x, x**2, x, np.exp(x))\n",
    "ax.set_yticks([0, 50, 100, 150])\n",
    "ax.set_title(\"label and axis spacing\")\n",
    "\n",
    "# padding between axis label and axis numbers\n",
    "ax.xaxis.labelpad = 10\n",
    "ax.yaxis.labelpad = 10\n",
    "\n",
    "ax.set_xlabel(\"x\")\n",
    "ax.set_ylabel(\"y\");"
   ]
  },
  {
   "cell_type": "markdown",
   "metadata": {},
   "source": [
    "### Scientific notation\n",
    "\n",
    "With large numbers on axes, it is often better use scientific notation"
   ]
  },
  {
   "cell_type": "code",
   "execution_count": null,
   "metadata": {},
   "outputs": [],
   "source": [
    "fig, ax = plt.subplots(1, 1)\n",
    "\n",
    "ax.plot(x, x**2, x, np.exp(x))\n",
    "\n",
    "ax.set_title(\"scientific notation\")\n",
    "ax.set_yticks([0, 50, 100, 150])\n",
    "\n",
    "from matplotlib import ticker\n",
    "\n",
    "formatter = ticker.ScalarFormatter(useMathText=True) #This module contains classes for configuring tick locating and formatting. \n",
    "                                                     #Generic tick locators and formatters are provided, as well as domain specific custom ones.\n",
    "formatter.set_scientific(True)\n",
    "formatter.set_powerlimits((-1,1))\n",
    "ax.yaxis.set_major_formatter(formatter)"
   ]
  },
  {
   "cell_type": "markdown",
   "metadata": {},
   "source": [
    "**Logarithmic scale**\n",
    "\n",
    "It is also possible to set a logarithmic scale for one or both axes."
   ]
  },
  {
   "cell_type": "code",
   "execution_count": null,
   "metadata": {},
   "outputs": [],
   "source": [
    "fig, axes = plt.subplots(1, 2, figsize=(10,5))\n",
    "axes[0].plot(x, x**2, x, np.exp(x))\n",
    "axes[0].set_title(\"Normal scale\")\n",
    "axes[1].plot(x, x**2, x, np.exp(x))\n",
    "axes[1].set_yscale(\"log\")\n",
    "axes[1].set_title(\"Logarithmic scale (y)\");"
   ]
  },
  {
   "cell_type": "markdown",
   "metadata": {},
   "source": [
    "## Multiple plots and control over axis appearance"
   ]
  },
  {
   "cell_type": "code",
   "execution_count": null,
   "metadata": {},
   "outputs": [],
   "source": [
    "fig, axes = plt.subplots(1, 3, figsize=(12, 4))\n",
    "axes[0].plot(x, x**2, x, x**3)\n",
    "axes[0].set_title(\"default axes ranges\")\n",
    "\n",
    "axes[1].plot(x, x**2, x, x**3)\n",
    "axes[1].axis('tight')\n",
    "axes[1].set_title(\"tight axes\")\n",
    "\n",
    "axes[2].plot(x, x**2, x, x**3)\n",
    "axes[2].set_ylim([0, 60])\n",
    "axes[2].set_xlim([2, 5])\n",
    "axes[2].set_title(\"custom axes range\");"
   ]
  },
  {
   "cell_type": "code",
   "execution_count": null,
   "metadata": {},
   "outputs": [],
   "source": [
    "fig, axes = plt.subplots(2, 1, sharex=True, figsize=(4,10))\n",
    "axes[0].plot(x, x**2, x, np.exp(x))\n",
    "axes[0].set_title(\"Normal scale\")\n",
    "axes[1].plot(x, x**2, x, np.exp(x))\n",
    "\n",
    "axes[0].set_ylabel(r'$u_r$')\n",
    "axes[1].set_ylabel(r'$u_{\\phi}$');"
   ]
  },
  {
   "cell_type": "markdown",
   "metadata": {},
   "source": [
    "## Axis grid\n",
    "\n",
    "With the **grid** method in the axis object, we can turn on and off grid lines. We can also customize the appearance of the grid lines using the same keyword arguments as the **plot** function"
   ]
  },
  {
   "cell_type": "code",
   "execution_count": null,
   "metadata": {},
   "outputs": [],
   "source": [
    "fig, axes = plt.subplots(1, 2, figsize=(10,3))\n",
    "# default grid appearance\n",
    "axes[0].plot(x, x**2, x, x**3, lw=2)\n",
    "axes[0].grid(True)\n",
    "# custom grid appearance\n",
    "axes[1].plot(x, x**2, x, x**3, lw=2)\n",
    "axes[1].grid(color='g', alpha=1, linestyle='dashed', linewidth=0.9)"
   ]
  }
 ],
 "metadata": {
  "colab": {
   "name": "2. Numpy-PUBLIC.ipynb",
   "provenance": []
  },
  "kernelspec": {
   "display_name": "Python 3 (ipykernel)",
   "language": "python",
   "name": "python3"
  },
  "language_info": {
   "codemirror_mode": {
    "name": "ipython",
    "version": 3
   },
   "file_extension": ".py",
   "mimetype": "text/x-python",
   "name": "python",
   "nbconvert_exporter": "python",
   "pygments_lexer": "ipython3",
   "version": "3.9.10"
  }
 },
 "nbformat": 4,
 "nbformat_minor": 1
}
